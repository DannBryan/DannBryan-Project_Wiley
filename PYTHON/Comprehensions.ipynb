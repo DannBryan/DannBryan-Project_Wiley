{
 "cells": [
  {
   "cell_type": "markdown",
   "id": "6b44ff05-b652-4ab8-93fa-913828e597a4",
   "metadata": {},
   "source": [
    "# PyDoc\n",
    "- If you have git-bash run `pydoc -b`\n",
    "- OR on windows command prompt run `python -m\"pydoc\" -b`\n",
    "- Starts a web server of complete documentation on your python installation\n",
    "- Best to also download the REPL and get comfortable using the `help` function"
   ]
  },
  {
   "cell_type": "markdown",
   "id": "67a34381-8508-49b0-b534-24619965eebf",
   "metadata": {},
   "source": [
    "# List Comprehension"
   ]
  },
  {
   "cell_type": "code",
   "execution_count": 1,
   "id": "add333e7-63a4-4bde-b341-c042d279c853",
   "metadata": {},
   "outputs": [
    {
     "name": "stdout",
     "output_type": "stream",
     "text": [
      "[4, 16, 36, 64]\n"
     ]
    }
   ],
   "source": [
    "evens_sqrd = [i**2 for i in range(1, 10) if i % 2 == 0]\n",
    "\n",
    "\n",
    "print(evens_sqrd)\n",
    "# prints [4, 16, 36, 64]"
   ]
  },
  {
   "cell_type": "code",
   "execution_count": 28,
   "id": "43d58892",
   "metadata": {},
   "outputs": [
    {
     "name": "stdout",
     "output_type": "stream",
     "text": [
      "[2, 4, 8, 10, 14, 16, 18]\n",
      "[2, 4, 8, 10, 14, 16, 18]\n"
     ]
    }
   ],
   "source": [
    "\n",
    "my_list = [1,2,4,5,7,8,9]\n",
    "\n",
    "new_list = list() # for loop\n",
    "for n in my_list:\n",
    "    new_list.append(n*2)\n",
    "\n",
    "comp_list = [\n",
    "    n*2 \n",
    "    for n in my_list\n",
    "]   # list comprehension \n",
    "    \n",
    "    \n",
    "print(new_list)\n",
    "print(comp_list)"
   ]
  },
  {
   "cell_type": "code",
   "execution_count": 27,
   "id": "5f2c08a6-a8f2-4c33-acc3-cfdc367bd5f8",
   "metadata": {},
   "outputs": [
    {
     "name": "stdout",
     "output_type": "stream",
     "text": [
      "[6, 12, 18]\n"
     ]
    }
   ],
   "source": [
    "\n",
    "numbers = [i for i in range(1, 20) if i % 2 == 0 and i % 3 == 0]\n",
    "\n",
    "\n",
    "print(numbers)\n",
    "# prints [6, 12, 18]\n",
    "\n"
   ]
  },
  {
   "cell_type": "code",
   "execution_count": 34,
   "id": "1ba90a4e-86ac-4860-b287-de5a886b623d",
   "metadata": {},
   "outputs": [
    {
     "name": "stdout",
     "output_type": "stream",
     "text": [
      "['James : I enjoy Python', 'Daniel : Python is the best', 'Alice : Python syntax is not very difficult']\n"
     ]
    }
   ],
   "source": [
    "\n",
    "user_comments = {\n",
    "    \"James\": \"I enjoy Python\",\n",
    "    \"Josh\": \"I think C is fun\",\n",
    "    \"Daniel\": \"Python is the best\",\n",
    "    \"David\": \"Programming concepts are universal\",\n",
    "    \"Alice\": \"Python syntax is not very difficult\" \n",
    "}\n",
    "\n",
    "names = [ \n",
    "    key + \" : \" + value\n",
    "    for key, value in user_comments.items() \n",
    "    if \"Python\" in value\n",
    "]\n",
    "\n",
    "print(names)\n",
    "# prints ['James', 'Daniel', 'Alice']"
   ]
  },
  {
   "cell_type": "markdown",
   "id": "6cac2ee7-7592-4143-8d83-85f5c657599f",
   "metadata": {},
   "source": [
    "# Dictionary Comprehension"
   ]
  },
  {
   "cell_type": "code",
   "execution_count": 40,
   "id": "4b7fdd62-2721-48fa-909f-ffe0ce771354",
   "metadata": {
    "scrolled": true
   },
   "outputs": [
    {
     "name": "stdout",
     "output_type": "stream",
     "text": [
      "{'J': 'I enjoy Python', 'D': 'Python is the best', 'A': 'Python syntax is not very difficult'}\n"
     ]
    }
   ],
   "source": [
    "user_comments = {\n",
    "    \"James\": \"I enjoy Python\",\n",
    "    \"Josh\": \"I think C is fun\",\n",
    "    \"Daniel\": \"Python is the best\",\n",
    "    \"David\": \"Programming concepts are universal\",\n",
    "    \"Alice\": \"Python syntax is not very difficult\" \n",
    "}\n",
    "\n",
    "\n",
    "python_comments = { \n",
    "    key[0]: value[:] \n",
    "    for key, value in user_comments.items() \n",
    "    if \"Python\" in value\n",
    "}\n",
    "\n",
    "\n",
    "print(python_comments)\n",
    "# prints {'James': 'I enjoy Python', 'Daniel': 'Python is the best', 'Alice': 'Python syntax is not very difficult'}"
   ]
  },
  {
   "cell_type": "markdown",
   "id": "2bdecb59-fcb5-44ac-ba73-99690c66caaf",
   "metadata": {},
   "source": [
    "# Nested Comprehension"
   ]
  },
  {
   "cell_type": "code",
   "execution_count": 4,
   "id": "e52d45f5-e593-4e8d-9700-dd7baade42a7",
   "metadata": {},
   "outputs": [
    {
     "name": "stdout",
     "output_type": "stream",
     "text": [
      "[1, 3, 1]\n",
      "[[1, 3], [1], []]\n"
     ]
    }
   ],
   "source": [
    "numbers = [[1, 2, 3, 4],[1, 2, 2, 2],[2, 4, 6, 8]]\n",
    "\n",
    "odds = [ # flatten\n",
    "    num\n",
    "    for num_list in numbers\n",
    "        for num in num_list\n",
    "            if num % 2 != 0\n",
    "]\n",
    "print(odds)\n",
    "# prints [1, 3, 1]\n",
    "\n",
    "\n",
    "\n",
    "\n",
    "odds_matrix = [ # keeps original structure\n",
    "    [\n",
    "        num\n",
    "        for num in num_list\n",
    "            if num % 2 != 0\n",
    "    ]\n",
    "    for num_list in numbers\n",
    "]\n",
    "print(odds_matrix)\n",
    "# prints [[1, 3], [1], []]"
   ]
  },
  {
   "cell_type": "code",
   "execution_count": 44,
   "id": "6eb18e93",
   "metadata": {},
   "outputs": [
    {
     "name": "stdout",
     "output_type": "stream",
     "text": [
      "[1, 3, 1, 1, 3, 5, 5, 67, 7]\n",
      "[[1, 3], [1], [], [1, 3, 5], [5, 67, 7]]\n"
     ]
    }
   ],
   "source": [
    "\n",
    "\n",
    "numbers = [[1, 2, 3, 4],[1, 2, 2, 2],[2, 4, 6, 8],[1,3,5,8],[4,5,6,67,7]]\n",
    "\n",
    "odds = [ # flatten\n",
    "    num\n",
    "    for num_list in numbers\n",
    "        for num in num_list\n",
    "            if num % 2 != 0\n",
    "]\n",
    "print(odds)\n",
    "\n",
    "\n",
    "\n",
    "odds_matrix = [ [ num for num in num_list if num % 2 != 0 ] for num_list in numbers ]\n",
    "\n",
    "print(odds_matrix)\n",
    "\n"
   ]
  },
  {
   "cell_type": "markdown",
   "id": "c1e4b356-dc89-4ec4-925b-f96f0e10f107",
   "metadata": {},
   "source": [
    "# New in Python\n",
    "- [Assignment Expressions](https://peps.python.org/pep-0572/) (3.8 or greater)\n",
    "- Match Case Statements (3.10 or greater, most conda envs wont have this)"
   ]
  },
  {
   "cell_type": "code",
   "execution_count": 46,
   "id": "eba3eaa2-5c8a-42fc-912c-50a187fb350c",
   "metadata": {},
   "outputs": [
    {
     "name": "stdout",
     "output_type": "stream",
     "text": [
      "[1, 4, 7, 11, 13, 17]\n"
     ]
    }
   ],
   "source": [
    "numbers = [1, 3, 3, 4, 2, 4]\n",
    "total = 0\n",
    "\n",
    "total = i\n",
    "total = total + i\n",
    "\n",
    "\n",
    "cummulative_sum = [(total := total + i) for i in numbers]\n",
    "\n",
    "\n",
    "print(cummulative_sum)\n",
    "# prints [1, 4, 7, 11, 13, 17]"
   ]
  },
  {
   "cell_type": "code",
   "execution_count": 8,
   "id": "f61ebcfb-8772-4916-92ea-c53175170d0b",
   "metadata": {},
   "outputs": [
    {
     "name": "stdout",
     "output_type": "stream",
     "text": [
      "['James', 'Josh']\n",
      "['James', 'Josh']\n"
     ]
    }
   ],
   "source": [
    "names = [\"..James.\", \".Lincoln..\", '...Josh....']\n",
    "\n",
    "## -- Without := calls strip twice\n",
    "print([n.strip('.') for n in names if n.strip('.').startswith(\"J\")])\n",
    "# prints ['James', 'Josh']\n",
    "\n",
    "## -- With :=\n",
    "print([ns for n in names if (ns:= n.strip('.')).startswith('J')])\n",
    "# prints ['James', 'Josh']"
   ]
  },
  {
   "cell_type": "code",
   "execution_count": 58,
   "id": "9279e3a5",
   "metadata": {},
   "outputs": [
    {
     "name": "stdout",
     "output_type": "stream",
     "text": [
      "James\n",
      "Josh\n",
      "['James', 'Josh']\n",
      "['James', 'Josh']\n"
     ]
    }
   ],
   "source": [
    "# Print names that begin with the letter 'J'\n",
    "\n",
    "names = [\"..James.\", \".Lincoln..\", '...Josh....']\n",
    "\n",
    "for n in names:\n",
    "    if n.strip('.').startswith(\"J\"):\n",
    "        ns = n.strip('.')\n",
    "        print(ns)\n",
    "\n",
    "# List Comprehension\n",
    "print([n.strip('.') for n in names if n.strip('.').startswith(\"J\")])\n",
    "\n",
    "\n",
    "# List comprehension with Assignment Expression\n",
    "print([ns for n in names if (ns := n.strip('.')).startswith('J')])\n"
   ]
  },
  {
   "cell_type": "code",
   "execution_count": 1,
   "id": "15451bed-e30e-4ab4-a669-05d23724a83b",
   "metadata": {},
   "outputs": [
    {
     "name": "stdin",
     "output_type": "stream",
     "text": [
      "Enter a command, or q to quit  help\n"
     ]
    },
    {
     "name": "stdout",
     "output_type": "stream",
     "text": [
      "pulling up documentation...\n"
     ]
    },
    {
     "name": "stdin",
     "output_type": "stream",
     "text": [
      "Enter a command, or q to quit  python\n"
     ]
    },
    {
     "name": "stdout",
     "output_type": "stream",
     "text": [
      "running python\n"
     ]
    },
    {
     "name": "stdin",
     "output_type": "stream",
     "text": [
      "Enter a command, or q to quit  q\n"
     ]
    }
   ],
   "source": [
    "\"\"\"\n",
    "This requires python 3.10, your version is likely 3.9, sorry! \n",
    "Create a new conda enviornment with 3.10 if you want to run this\n",
    "\"\"\"\n",
    "while (command := input(\"Enter a command, or q to quit \").lower()) != \"q\":\n",
    "    match command:\n",
    "        case \"help\":\n",
    "            print(\"pulling up documentation...\")\n",
    "        case \"python\":\n",
    "            print(\"running python\")\n",
    "        case _:\n",
    "            print(\"unknown command\") "
   ]
  },
  {
   "cell_type": "code",
   "execution_count": null,
   "id": "184603d0",
   "metadata": {},
   "outputs": [],
   "source": []
  }
 ],
 "metadata": {
  "kernelspec": {
   "display_name": "Python 3 (ipykernel)",
   "language": "python",
   "name": "python3"
  },
  "language_info": {
   "codemirror_mode": {
    "name": "ipython",
    "version": 3
   },
   "file_extension": ".py",
   "mimetype": "text/x-python",
   "name": "python",
   "nbconvert_exporter": "python",
   "pygments_lexer": "ipython3",
   "version": "3.9.13"
  }
 },
 "nbformat": 4,
 "nbformat_minor": 5
}
