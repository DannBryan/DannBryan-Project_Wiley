{
 "cells": [
  {
   "cell_type": "markdown",
   "id": "8082a534-7009-4efe-a45b-63c0d8bec600",
   "metadata": {},
   "source": [
    "# Code Profiling\n",
    "- The `sys.getsizeof` prints how much memory an object uses\n",
    "- Below we use the `timeit` module to compare speed of loop vs comprehension\n",
    "- `dis` prints the disassembly of a function, a bit advanced but useful to be aware of"
   ]
  },
  {
   "cell_type": "code",
   "execution_count": 7,
   "id": "dc0d5166-78ae-4795-b5d2-f33d2436d201",
   "metadata": {},
   "outputs": [
    {
     "name": "stdout",
     "output_type": "stream",
     "text": [
      "80\n",
      "120\n"
     ]
    }
   ],
   "source": [
    "import sys\n",
    "some_tuple = (1,2,3,4,5)\n",
    "some_list = [1,2,3,4,5]\n",
    "\n",
    "print(sys.getsizeof(some_tuple)) # tuples are more efficient and consume less memory than list\n",
    "print(sys.getsizeof(some_list))"
   ]
  },
  {
   "cell_type": "markdown",
   "id": "6f955496-5930-4f42-9e2b-362585d6abc2",
   "metadata": {},
   "source": [
    "### Code below compares the speed of a list comprehension vs for loop"
   ]
  },
  {
   "cell_type": "code",
   "execution_count": 1,
   "id": "971797eb-f4a7-4174-bbaa-86a5f9159a2e",
   "metadata": {},
   "outputs": [
    {
     "name": "stdout",
     "output_type": "stream",
     "text": [
      "List of positive even numbers squared under 100000\n",
      "List Comprehension\n",
      "1.9292395999999883\n",
      ">>>>>>>>>>>>>>>>>>>>>>>>>>>>>>>>>>>>>>>>>>>>\n",
      "No Comprehension\n",
      "2.1985381000000075\n",
      "  5           0 LOAD_CONST               1 (<code object <listcomp> at 0x000001F3C562C0E0, file \"C:\\Users\\mande\\AppData\\Local\\Temp\\ipykernel_28320\\3612084228.py\", line 5>)\n",
      "              2 LOAD_CONST               2 ('comp_even_sqrd.<locals>.<listcomp>')\n",
      "              4 MAKE_FUNCTION            0\n",
      "              6 LOAD_GLOBAL              0 (range)\n",
      "              8 LOAD_CONST               3 (1)\n",
      "             10 LOAD_CONST               4 (100000)\n",
      "             12 CALL_FUNCTION            2\n",
      "             14 GET_ITER\n",
      "             16 CALL_FUNCTION            1\n",
      "             18 STORE_FAST               0 (evens_list)\n",
      "\n",
      "  6          20 LOAD_FAST                0 (evens_list)\n",
      "             22 RETURN_VALUE\n",
      "\n",
      "Disassembly of <code object <listcomp> at 0x000001F3C562C0E0, file \"C:\\Users\\mande\\AppData\\Local\\Temp\\ipykernel_28320\\3612084228.py\", line 5>:\n",
      "  5           0 BUILD_LIST               0\n",
      "              2 LOAD_FAST                0 (.0)\n",
      "        >>    4 FOR_ITER                24 (to 30)\n",
      "              6 STORE_FAST               1 (i)\n",
      "              8 LOAD_FAST                1 (i)\n",
      "             10 LOAD_CONST               0 (2)\n",
      "             12 BINARY_MODULO\n",
      "             14 LOAD_CONST               1 (0)\n",
      "             16 COMPARE_OP               2 (==)\n",
      "             18 POP_JUMP_IF_FALSE        4\n",
      "             20 LOAD_FAST                1 (i)\n",
      "             22 LOAD_CONST               0 (2)\n",
      "             24 BINARY_POWER\n",
      "             26 LIST_APPEND              2\n",
      "             28 JUMP_ABSOLUTE            4\n",
      "        >>   30 RETURN_VALUE\n",
      ">>>>>>>>>>>>>>>>>>>>>>>>>>>>>>>>>>>>>>>>>>>>\n",
      ">>>>>>>>>>>>>>>>>>>>>>>>>>>>>>>>>>>>>>>>>>>>\n",
      ">>>>>>>>>>>>>>>>>>>>>>>>>>>>>>>>>>>>>>>>>>>>\n",
      "  9           0 BUILD_LIST               0\n",
      "              2 STORE_FAST               0 (evens_list)\n",
      "\n",
      " 10           4 LOAD_GLOBAL              0 (range)\n",
      "              6 LOAD_CONST               1 (1)\n",
      "              8 LOAD_CONST               2 (100000)\n",
      "             10 CALL_FUNCTION            2\n",
      "             12 GET_ITER\n",
      "        >>   14 FOR_ITER                30 (to 46)\n",
      "             16 STORE_FAST               1 (i)\n",
      "\n",
      " 11          18 LOAD_FAST                1 (i)\n",
      "             20 LOAD_CONST               3 (2)\n",
      "             22 BINARY_MODULO\n",
      "             24 LOAD_CONST               4 (0)\n",
      "             26 COMPARE_OP               2 (==)\n",
      "             28 POP_JUMP_IF_FALSE       14\n",
      "\n",
      " 12          30 LOAD_FAST                0 (evens_list)\n",
      "             32 LOAD_METHOD              1 (append)\n",
      "             34 LOAD_FAST                1 (i)\n",
      "             36 LOAD_CONST               3 (2)\n",
      "             38 BINARY_POWER\n",
      "             40 CALL_METHOD              1\n",
      "             42 POP_TOP\n",
      "             44 JUMP_ABSOLUTE           14\n",
      "\n",
      " 13     >>   46 LOAD_FAST                0 (evens_list)\n",
      "             48 RETURN_VALUE\n"
     ]
    }
   ],
   "source": [
    "import dis\n",
    "import timeit\n",
    "\n",
    "def comp_even_sqrd():\n",
    "    evens_list = [i**2 for i in range(1, 100000) if i % 2 == 0]\n",
    "    return evens_list\n",
    "\n",
    "def for_even_sqrd():\n",
    "    evens_list = []\n",
    "    for i in range(1, 100000):\n",
    "        if i % 2 == 0:\n",
    "            evens_list.append(i**2)\n",
    "    return evens_list\n",
    "\n",
    "print(\"List of positive even numbers squared under 100000\")\n",
    "\n",
    "print(\"List Comprehension\")\n",
    "print(timeit.timeit(comp_even_sqrd, number=100))\n",
    "# prints 1.4725639\n",
    "print(\">>>>>>>>>>>>>>>>>>>>>>>>>>>>>>>>>>>>>>>>>>>>\")\n",
    "\n",
    "print(\"No Comprehension\")\n",
    "print(timeit.timeit(for_even_sqrd, number=100))\n",
    "# prints 1.5926582\n",
    "\n",
    "# un-comment the code below to examine the disassembly\n",
    "dis.dis(comp_even_sqrd)\n",
    "print(\">>>>>>>>>>>>>>>>>>>>>>>>>>>>>>>>>>>>>>>>>>>>\")\n",
    "print(\">>>>>>>>>>>>>>>>>>>>>>>>>>>>>>>>>>>>>>>>>>>>\")\n",
    "print(\">>>>>>>>>>>>>>>>>>>>>>>>>>>>>>>>>>>>>>>>>>>>\")\n",
    "dis.dis(for_even_sqrd)"
   ]
  },
  {
   "cell_type": "code",
   "execution_count": null,
   "id": "6b4eb173-21ca-4e16-9f53-5b86fa079a12",
   "metadata": {},
   "outputs": [],
   "source": []
  }
 ],
 "metadata": {
  "kernelspec": {
   "display_name": "Python 3 (ipykernel)",
   "language": "python",
   "name": "python3"
  },
  "language_info": {
   "codemirror_mode": {
    "name": "ipython",
    "version": 3
   },
   "file_extension": ".py",
   "mimetype": "text/x-python",
   "name": "python",
   "nbconvert_exporter": "python",
   "pygments_lexer": "ipython3",
   "version": "3.9.13"
  }
 },
 "nbformat": 4,
 "nbformat_minor": 5
}
