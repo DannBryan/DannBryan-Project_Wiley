{
 "cells": [
  {
   "cell_type": "markdown",
   "id": "b1515a2d-3210-41f9-aac4-cf46ad04fad5",
   "metadata": {},
   "source": [
    "### A decorator is just a function, looks fancy!"
   ]
  },
  {
   "cell_type": "code",
   "execution_count": 12,
   "id": "9777f465-dddc-4374-a2c8-89c2e64329bb",
   "metadata": {},
   "outputs": [
    {
     "name": "stdout",
     "output_type": "stream",
     "text": [
      "5.013972520828247\n",
      "addition is:  3\n"
     ]
    }
   ],
   "source": [
    "import time\n",
    "\n",
    "def my_decorator(func):\n",
    "\n",
    "    def wrapper(*args, **kwargs): # starred expressions will catch all params        \n",
    "        begin = time.time()\n",
    "        r = func(*args, **kwargs) # exec the actual function\n",
    "        # storing time after function execution\n",
    "        end = time.time()\n",
    "        print(end - begin)\n",
    "        return r\n",
    "        #return func(*args, **kwargs)\n",
    "    return wrapper\n",
    "\n",
    "\n",
    "@my_decorator\n",
    "def add_numbers(a, b):\n",
    "    time.sleep(5)\n",
    "    return a+b\n",
    "\n",
    "print(\"addition is: \", add_numbers(1, 2)) # when we call this function, the decorator is ran before the function!"
   ]
  },
  {
   "cell_type": "code",
   "execution_count": 1,
   "id": "443829b4-af18-47cd-9703-7f93ccd67ccb",
   "metadata": {},
   "outputs": [],
   "source": [
    "from dataclasses import dataclass # OOP shortcut decorator"
   ]
  },
  {
   "cell_type": "code",
   "execution_count": 13,
   "id": "81b4534e-dd69-4b0c-a6cb-2341b543d678",
   "metadata": {},
   "outputs": [
    {
     "name": "stdout",
     "output_type": "stream",
     "text": [
      "Person(age=10)\n",
      "Person(age=20)\n"
     ]
    }
   ],
   "source": [
    "from dataclasses import dataclass\n",
    "\n",
    "@dataclass\n",
    "class Person:\n",
    "    age: int = 0\n",
    "\n",
    "\n",
    "p1 = Person(age=10)\n",
    "p2 = Person(age=20)\n",
    "\n",
    "print(p1) # the decorator implements __init__ and other functions for printing!\n",
    "print(p2)\n"
   ]
  },
  {
   "cell_type": "markdown",
   "id": "d832f8d1-1513-410c-85d2-558927f409c9",
   "metadata": {},
   "source": [
    "# Double Underscore Methods (Dunders)"
   ]
  },
  {
   "cell_type": "code",
   "execution_count": 14,
   "id": "935ab69b-31ec-4fbe-8aaf-f0a7f8d7c4f5",
   "metadata": {},
   "outputs": [
    {
     "name": "stdout",
     "output_type": "stream",
     "text": [
      "Person(age=10)\n",
      "Person(age=20)\n"
     ]
    },
    {
     "ename": "TypeError",
     "evalue": "'>' not supported between instances of 'Person' and 'Person'",
     "output_type": "error",
     "traceback": [
      "\u001b[1;31m---------------------------------------------------------------------------\u001b[0m",
      "\u001b[1;31mTypeError\u001b[0m                                 Traceback (most recent call last)",
      "\u001b[1;32m~\\AppData\\Local\\Temp\\ipykernel_18328\\2189182318.py\u001b[0m in \u001b[0;36m<module>\u001b[1;34m\u001b[0m\n\u001b[0;32m     29\u001b[0m \u001b[0mprint\u001b[0m\u001b[1;33m(\u001b[0m\u001b[0mp2\u001b[0m\u001b[1;33m)\u001b[0m\u001b[1;33m\u001b[0m\u001b[1;33m\u001b[0m\u001b[0m\n\u001b[0;32m     30\u001b[0m \u001b[1;33m\u001b[0m\u001b[0m\n\u001b[1;32m---> 31\u001b[1;33m \u001b[0mprint\u001b[0m\u001b[1;33m(\u001b[0m\u001b[0mp1\u001b[0m \u001b[1;33m>\u001b[0m \u001b[0mp2\u001b[0m\u001b[1;33m)\u001b[0m\u001b[1;33m\u001b[0m\u001b[1;33m\u001b[0m\u001b[0m\n\u001b[0m\u001b[0;32m     32\u001b[0m \u001b[1;33m\u001b[0m\u001b[0m\n\u001b[0;32m     33\u001b[0m \u001b[0mprint\u001b[0m\u001b[1;33m(\u001b[0m\u001b[0mp2\u001b[0m \u001b[1;33m==\u001b[0m \u001b[0mp3\u001b[0m\u001b[1;33m)\u001b[0m\u001b[1;33m\u001b[0m\u001b[1;33m\u001b[0m\u001b[0m\n",
      "\u001b[1;31mTypeError\u001b[0m: '>' not supported between instances of 'Person' and 'Person'"
     ]
    }
   ],
   "source": [
    "from dataclasses import dataclass\n",
    "\n",
    "\n",
    "@dataclass\n",
    "class Person:\n",
    "    \"\"\"\n",
    "    This is a doc string. Functions can have them too\n",
    "    This will appear in the documentation\n",
    "    \n",
    "    below the implementation of __eq__, __le__, and __gt__ allow the use of comparision operators (<, >, ==)\n",
    "    \"\"\"\n",
    "    age: int = 0\n",
    "\n",
    "    def __eq__(self, other):\n",
    "        return self.age == other.age\n",
    "\n",
    "    def __le__(self, other):\n",
    "        return self.age < other.age\n",
    "\n",
    "    def __gt__(self, other):\n",
    "        return self.age > other.age\n",
    "\n",
    "\n",
    "p1 = Person(age=10)\n",
    "p2 = Person(age=20)\n",
    "p3 = Person(age=20)\n",
    "\n",
    "print(p1)\n",
    "\n",
    "print(p2)\n",
    "\n",
    "print(p1 > p2)\n",
    "\n",
    "print(p2 == p3)\n",
    "\n"
   ]
  },
  {
   "cell_type": "code",
   "execution_count": 10,
   "id": "03d7bbf5-c0b0-4844-b2f2-a26ad6dcb1d7",
   "metadata": {},
   "outputs": [
    {
     "name": "stdout",
     "output_type": "stream",
     "text": [
      "Help on class Person in module __main__:\n",
      "\n",
      "class Person(builtins.object)\n",
      " |  Person(age: int = 0) -> None\n",
      " |  \n",
      " |  This is a doc string. Functions can have them too\n",
      " |  This will appear in the documentation\n",
      " |  \n",
      " |  below the implementation of __eq__, __le__, and __gt__ allow the use of comparision operators (<, >, ==)\n",
      " |  \n",
      " |  Methods defined here:\n",
      " |  \n",
      " |  __eq__(self, other)\n",
      " |      Return self==value.\n",
      " |  \n",
      " |  __gt__(self, other)\n",
      " |      Return self>value.\n",
      " |  \n",
      " |  __init__(self, age: int = 0) -> None\n",
      " |  \n",
      " |  __le__(self, other)\n",
      " |      Return self<=value.\n",
      " |  \n",
      " |  __repr__(self)\n",
      " |  \n",
      " |  ----------------------------------------------------------------------\n",
      " |  Data descriptors defined here:\n",
      " |  \n",
      " |  __dict__\n",
      " |      dictionary for instance variables (if defined)\n",
      " |  \n",
      " |  __weakref__\n",
      " |      list of weak references to the object (if defined)\n",
      " |  \n",
      " |  ----------------------------------------------------------------------\n",
      " |  Data and other attributes defined here:\n",
      " |  \n",
      " |  __annotations__ = {'age': <class 'int'>}\n",
      " |  \n",
      " |  __dataclass_fields__ = {'age': Field(name='age',type=<class 'int'>,def...\n",
      " |  \n",
      " |  __dataclass_params__ = _DataclassParams(init=True,repr=True,eq=True,or...\n",
      " |  \n",
      " |  __hash__ = None\n",
      " |  \n",
      " |  age = 0\n",
      "\n"
     ]
    }
   ],
   "source": [
    "help(Person)"
   ]
  },
  {
   "cell_type": "code",
   "execution_count": null,
   "id": "a19b2760-c312-46c9-bb17-5a4684b64d7f",
   "metadata": {},
   "outputs": [],
   "source": []
  }
 ],
 "metadata": {
  "kernelspec": {
   "display_name": "Python 3 (ipykernel)",
   "language": "python",
   "name": "python3"
  },
  "language_info": {
   "codemirror_mode": {
    "name": "ipython",
    "version": 3
   },
   "file_extension": ".py",
   "mimetype": "text/x-python",
   "name": "python",
   "nbconvert_exporter": "python",
   "pygments_lexer": "ipython3",
   "version": "3.9.13"
  }
 },
 "nbformat": 4,
 "nbformat_minor": 5
}
