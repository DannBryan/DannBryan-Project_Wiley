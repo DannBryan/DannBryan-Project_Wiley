{
 "cells": [
  {
   "cell_type": "code",
   "execution_count": 15,
   "id": "aa65418f",
   "metadata": {},
   "outputs": [
    {
     "name": "stdout",
     "output_type": "stream",
     "text": [
      "[4, 8, 10, 14, 16, 18]\n",
      "[4, 8, 10, 14, 16, 18]\n"
     ]
    }
   ],
   "source": [
    "my_list = [2, 4, 5, 7, 8, 9]\n",
    "\n",
    "new_list = list()    #for loop\n",
    "for n in my_list:\n",
    "    new_list.append(n*2)\n",
    "comp_list = [n*2 for n in my_list]  #list comprehension\n",
    "\n",
    "\n",
    "print(new_list)\n",
    "print(comp_list)"
   ]
  },
  {
   "cell_type": "code",
   "execution_count": 9,
   "id": "206d2ea1",
   "metadata": {},
   "outputs": [
    {
     "name": "stdout",
     "output_type": "stream",
     "text": [
      "[4, 16, 36, 64]\n"
     ]
    }
   ],
   "source": []
  },
  {
   "cell_type": "code",
   "execution_count": 10,
   "id": "6b60d8bd",
   "metadata": {},
   "outputs": [
    {
     "name": "stdout",
     "output_type": "stream",
     "text": [
      "[4, 16, 36, 64]\n"
     ]
    }
   ],
   "source": [
    "evens_sqrd = [i**2 for i in range(1, 10) if i % 2 == 0]\n",
    "#new list    # power 2 look for even and add to list sqrd                          #optional\n",
    "#name\n",
    "\n",
    "print(evens_sqrd)   #list comprehension"
   ]
  },
  {
   "cell_type": "code",
   "execution_count": null,
   "id": "9859a8ac",
   "metadata": {},
   "outputs": [],
   "source": []
  }
 ],
 "metadata": {
  "kernelspec": {
   "display_name": "Python 3 (ipykernel)",
   "language": "python",
   "name": "python3"
  },
  "language_info": {
   "codemirror_mode": {
    "name": "ipython",
    "version": 3
   },
   "file_extension": ".py",
   "mimetype": "text/x-python",
   "name": "python",
   "nbconvert_exporter": "python",
   "pygments_lexer": "ipython3",
   "version": "3.9.13"
  }
 },
 "nbformat": 4,
 "nbformat_minor": 5
}
