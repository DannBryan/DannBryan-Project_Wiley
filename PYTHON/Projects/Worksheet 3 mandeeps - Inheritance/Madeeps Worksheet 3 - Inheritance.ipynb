{
 "cells": [
  {
   "cell_type": "markdown",
   "metadata": {},
   "source": [
    "# Inheritance\n",
    "This worksheet corresponds to *Lesson 3: Inheritance* in the online course. Refer to that lesson as necessary to complete these practice activities."
   ]
  },
  {
   "cell_type": "markdown",
   "metadata": {},
   "source": [
    "## Practice 1\n",
    "Create an `Animal` class that includes two string attributes: `name` and `location`. Implement the appropriate `__init__` and `display` methods to create and display objects respectively. \n",
    "\n",
    "Using inheritance, create another class called `Mammal` that inherits from the `Animal` class. Create two `Mammal` objects and display each object's information using the `display` method. "
   ]
  },
  {
   "cell_type": "code",
   "execution_count": 24,
   "metadata": {},
   "outputs": [
    {
     "name": "stdout",
     "output_type": "stream",
     "text": [
      "8\n"
     ]
    }
   ],
   "source": [
    "# your code here  \n",
    "\n",
    "\n",
    "def add_me(self, self):\n",
    "    return int(a) + (b)\n",
    "\n",
    "\n",
    "a = 3\n",
    "b = 5 \n",
    "print(add_me(a,b))\n"
   ]
  },
  {
   "cell_type": "code",
   "execution_count": 25,
   "metadata": {},
   "outputs": [
    {
     "name": "stdout",
     "output_type": "stream",
     "text": [
      "Employee First Name: DirectorFirst\n",
      "Employee Last Name: DirectorLast\n",
      "Employee ID: DIR23432\n",
      "Director Level: Level-5\n"
     ]
    }
   ],
   "source": [
    "# Base Class\n",
    "class Person:\n",
    "    first_name = None\n",
    "    last_name = None \n",
    "    def __init__(self,fname,lname): \n",
    "        self.first_name = fname\n",
    "        self.last_name = lname\n",
    "    def display(self): \n",
    "        print(\"Person First Name: \" + self.first_name)\n",
    "        print(\"Person Last Name: \" + self.last_name)    \n",
    "\n",
    "# Inheriting from Person\n",
    "class Employee(Person):\n",
    "    employee_id = None\n",
    "    def __init__(self, fname, lname, empid):\n",
    "        self.first_name = fname\n",
    "        self.last_name = lname\n",
    "        self.employee_id = empid\n",
    "    def display(self):\n",
    "        print(\"Employee First Name: \" + self.first_name)\n",
    "        print(\"Employee Last Name: \" + self.last_name)\n",
    "        print(\"Employee ID:\" + \" \" + self.employee_id)\n",
    "\n",
    "class Director(Employee):\n",
    "    director_level = None\n",
    "    def __init__(self,fname,lname,empid,dlevel):\n",
    "        Employee.__init__(self,fname,lname,empid)\n",
    "        self.director_level = dlevel\n",
    "    def display(self):\n",
    "        Employee.display(self)\n",
    "        print(\"Director Level:\" + \" \" + self.director_level)\n",
    "        \n",
    "\n",
    "#obj_e = Employee(\"Haythem\", \"Balti\", \"2343SDF\")\n",
    "#obj_e.display()\n",
    "\n",
    "obj_d = Director(\"DirectorFirst\", \"DirectorLast\", \"DIR23432\", \"Level-5\")\n",
    "obj_d.display()"
   ]
  },
  {
   "cell_type": "markdown",
   "metadata": {},
   "source": [
    "## Practice 2\n",
    "Create an `Animal` class that includes two string attributes: `name` and `location`. Implement the appropriate `__init__` and `display` methods to create and display objects. \n",
    "\n",
    "Using inheritance, create another class called `Mammal` that inherits from the `Animal` class. Add at least one more attribute that is specific to the `Mammal` class and is not included in the `Animal` class.\n",
    "\n",
    "Create two `Mammal` objects and display them. "
   ]
  },
  {
   "cell_type": "code",
   "execution_count": 4,
   "metadata": {
    "collapsed": true
   },
   "outputs": [],
   "source": [
    "# your code here  "
   ]
  },
  {
   "cell_type": "markdown",
   "metadata": {},
   "source": [
    "## Practice 3\n",
    "Create a class `Animal` that includes two string attributes: `name` and `location`. Implement the appropriate `__init__` and `display` methods to create and display objects. \n",
    "\n",
    "Use inheritance to create another class called `Mammal` that inherits from the `Animal` class. \n",
    "* Add one more attribute specific to the `Mammal` class.\n",
    "* Override the `display` method to display the newly-added attribute of the `Mammal` class. \n",
    "* Create two `Mammal` objects and display them. \n",
    "\n",
    "Create another class called `Bird` that also inherits from the `Animal` class. \n",
    "* Add one more attribute that is specific to the `Bird` class.\n",
    "* Override the `display` method to display the new attribute of the `Bird` class. \n",
    "* Create two `Bird` objects and display them. \n",
    "\n",
    "Create another class called `Reptile` that inherits from the `Animal` class. \n",
    "* Add one more attribute specific to the `Reptile` class.\n",
    "* Override the `display` method to display the new attribute of the `Reptile` class. \n",
    "* Create two `Reptile` objects and display them."
   ]
  },
  {
   "cell_type": "code",
   "execution_count": 6,
   "metadata": {
    "collapsed": true
   },
   "outputs": [],
   "source": [
    "# your code here  "
   ]
  },
  {
   "cell_type": "markdown",
   "metadata": {},
   "source": [
    "## Practice 4\n",
    "Create a class `Animal` that includes two string attributes: `name` and `location`. Implement the appropriate `__init__` and `display` methods to create and display objects respectively. \n",
    "\n",
    "Use inheritance to create another class called `Mammal` that inherits from the `Animal` class. \n",
    "* Add one more attribute specific to the `Mammal` class.\n",
    "* Override the `__init__` and `display` methods to display the new attribute of the `Mammal` class. \n",
    "* Create two `Mammal` objects and display them. \n",
    "\n",
    "Create another class called `Bird` that also inherits from the `Animal` class. \n",
    "* Add one more attribute specific to the `Bird` class.\n",
    "* Override the `__init__` and `display` methods to display the new attribute of the `Bird` class. \n",
    "* Create two `Bird` objects and display them. \n",
    "\n",
    "Create another class called `Reptile` that inherits from the `Animal` class. \n",
    "* Add one more attribute specific to the `Reptile` class.\n",
    "* Override the `__init__` and `display` methods to display the new attribute of the `Reptile` class. \n",
    "* Create two `Reptile` objects and display them."
   ]
  },
  {
   "cell_type": "code",
   "execution_count": 19,
   "metadata": {},
   "outputs": [
    {
     "name": "stdout",
     "output_type": "stream",
     "text": [
      "Python\n",
      "Wiley\n",
      "5m\n"
     ]
    }
   ],
   "source": [
    "# your code here  \n",
    "\n",
    "\n",
    "class Animal:\n",
    "    name: None\n",
    "    location: None\n",
    "    def __init__(self,nm,loc):\n",
    "        self.name = nm\n",
    "        self.location = loc\n",
    "    def display(self):\n",
    "        print(self.name)\n",
    "        print(self.location)\n",
    "\n",
    "class Mammal(Animal):\n",
    "    mammal_type: None\n",
    "    def __init__(self,nm,loc,mt):\n",
    "        self.name = nm\n",
    "        self.location = loc\n",
    "        self.mammal_type = mt\n",
    "    def display(self):\n",
    "        Animal.display(self)\n",
    "        print(self.mammal_type)\n",
    "\n",
    "class Bird(Animal):\n",
    "    bird_colour = None\n",
    "    def __init__(self,nm,loc,bc):\n",
    "        self.name = nm\n",
    "        self.location = loc\n",
    "        self.bird_colour = bc\n",
    "    def display(self):\n",
    "        Animal.display(self)\n",
    "        print(self.bird_colour)\n",
    "    \n",
    "\n",
    "class Reptile(Animal):\n",
    "    rep_length = None\n",
    "    def __init__(self,nm,loc,rl):\n",
    "        Animal.__init__(self,nm,loc)\n",
    "        self.rep_length = rl\n",
    "    def display(self):\n",
    "        Animal.display(self)\n",
    "        print(self.rep_length)\n",
    "\n",
    "        \n",
    "        \n",
    "obj_r = Reptile(\"Python\", \"Wiley\", \"5m\")\n",
    "obj_r.display()"
   ]
  },
  {
   "cell_type": "markdown",
   "metadata": {},
   "source": [
    "## Practice 5\n",
    "Create a class Animal that includes two string attributes: name and location. Implement the appropriate `__init__` and display method, to create and display objects respectively. \n",
    "\n",
    "Use inheritance to create another class called Mammal that will inherit from the Animal class. \n",
    "* Add one more attribute specific to the Mammal class.\n",
    "* Override the `__init__` and display methods to display the new added attribute of the mammal class. Use the `__init__` method of the parent class (Animal) to set  the values of the name and location attributes. \n",
    "* Create two mammal objects and display them. \n",
    "\n",
    "Create another class called Bird that also inherits from the Animal class. \n",
    "* Add one more attribute that specific to the bird class.\n",
    "* Override the `__init__` and display methods to display the new added attribute of the bird class. Use the `__init__` method of the parent class (Animal) to set  the values of the name and location attributes. \n",
    "* Create two bird objects and display them. \n",
    "\n",
    "Create another class called Reptile that inherits from the animal class. \n",
    "* Add one more attribute that specific to the reptile class.\n",
    "* Override the `__init__` and display methods to display the new added attribute of the reptile class. Use the `__init__` method of the parent class (Animal) to set  the values of the name and location attributes. \n",
    "* Create two reptile objects and display them"
   ]
  },
  {
   "cell_type": "code",
   "execution_count": 10,
   "metadata": {
    "collapsed": true
   },
   "outputs": [],
   "source": [
    "# your code here  "
   ]
  },
  {
   "cell_type": "markdown",
   "metadata": {},
   "source": [
    "## Practice 6\n",
    "Change the code below as follows:\n",
    "* Add an attribute to the `Director` class called `team`. The team represents the employees that the director manages. The `team` attribute should be a list of `Employee` objects. \n",
    "    * Implement the `add_employee` method, which takes as input an `Employee` object and adds it to the `team` object.\n",
    "    * Implement the `display` method of the `Director` class to display the information about the director and the list of the employees that the director manages.\n",
    "\n",
    "* Create another class called `HourlyEmployee` that inherits from `Employee`.\n",
    "    * Add one attribute to the `HourlyEmployee` class called `hourly_rate`, which represents the hourly pay rate for the hourly employee. <br>\n",
    "    * Implement the  `__init__`  method and `display` methods for the `HourlyEmployee` class.\n",
    "\n",
    "After you make these changes, verify that the code works by making sure it can display the attributes of the `Director` object using the `display` method. "
   ]
  },
  {
   "cell_type": "code",
   "execution_count": 1,
   "metadata": {},
   "outputs": [
    {
     "name": "stdout",
     "output_type": "stream",
     "text": [
      "Incompatible operation\n",
      "Employee ID: E24523525\n",
      "Employee First Name: Haythem\n",
      "Employee Last Name: Balti\n",
      "D-LEVEL-1\n",
      "Employee ID: E4746456456\n",
      "Employee First Name: Mark\n",
      "Employee Last Name: Smith\n",
      "Employee ID: E47464578978\n",
      "Employee First Name: Third\n",
      "Employee Last Name: Employee\n",
      "True\n"
     ]
    }
   ],
   "source": [
    "class Person:\n",
    "    first_name=\"\" \n",
    "    last_name=\"\" \n",
    "    def __init__(self,fname,lname): \n",
    "        self.first_name = fname\n",
    "        self.last_name = lname\n",
    "    def display(self): \n",
    "        print(\"Person First Name: \" + self.first_name)\n",
    "        print(\"Person Last Name: \" + self.last_name)\n",
    "        \n",
    "\n",
    "class Employee(Person):\n",
    "    employee_id=None\n",
    "    def __init__(self,emp_id,fname,lname):\n",
    "        Person.__init__(self,fname,lname) \n",
    "        self.employee_id = emp_id\n",
    "    def display(self):\n",
    "        print(\"Employee ID: \" + self.employee_id)\n",
    "        print(\"Employee First Name: \" + self.first_name)\n",
    "        print(\"Employee Last Name: \" + self.last_name)\n",
    "\n",
    "class Director(Employee):\n",
    "    director_level=None\n",
    "    team = None # list of objects of Employee class\n",
    "    def __init__(self,emp_id,fname,lname,d_level):\n",
    "        # do not change this code\n",
    "        Employee.__init__(self,emp_id,fname,lname)\n",
    "        self.director_level = d_level\n",
    "        self.team = list()\n",
    "    def display(self):\n",
    "        # a method that displays all the attributes of a director object\n",
    "        Employee.display(self)\n",
    "        print(self.director_level)\n",
    "        for emp in self.team:\n",
    "            Employee.display(emp)\n",
    "    def add_employee(self,emp):\n",
    "        # a method to add an employee object to the team attribute \n",
    "        if (isinstance(emp, Employee)):\n",
    "            self.team.append(emp)\n",
    "        else:\n",
    "            print(\"Incompatible operation\")\n",
    "        \n",
    "        \n",
    "class HourlyEmployee(Employee):\n",
    "    hourly_rate = None\n",
    "    # implement this  class\n",
    "    def __init__(self,empid,fn,ln,hr):\n",
    "        Employee.__init__(self,empid,fn,ln)\n",
    "        self.hourly_rate = hr\n",
    "    def display(self):\n",
    "        Employee.display(self)\n",
    "        print(self.hourly_rate)\n",
    "\n",
    "\n",
    "# DO NOT CHANGE THIS CODE \n",
    "d1 = Director(\"E24523525\",\"Haythem\",\"Balti\",\"D-LEVEL-1\")\n",
    "\n",
    "\n",
    "# create first employee object \n",
    "e1 = Employee(\"E4746456456\",\"Mark\",\"Smith\")\n",
    "# add employee e1 to the team attribute of the Director class \n",
    "d1.add_employee(e1)\n",
    "# create second hourlyemployee object \n",
    "e2 = HourlyEmployee(\"E47464578978\",\"Mary\",\"Lang\", \"50\")\n",
    "# add hourly employee e2 to the team attribute of the Director class \n",
    "d1.add_employee([\"1\", \"2\", \"3\"])\n",
    "\n",
    "e3 = HourlyEmployee(\"E47464578978\",\"Third\",\"Employee\", \"50\")\n",
    "# add hourly employee e2 to the team attribute of the Director class \n",
    "d1.add_employee(e3)\n",
    "\n",
    "\n",
    "d1.display()\n",
    "\n",
    "\n",
    "print(isinstance(d1,Person))"
   ]
  },
  {
   "cell_type": "markdown",
   "metadata": {},
   "source": [
    "## Practice 7\n",
    "Implement the classes below as follows:\n",
    "* Implement the `__init__` and `display` methods of the `Asset` class.\n",
    "* Next, leverage the `__init__` and `display` methods from the `Asset` class to create the following:\n",
    "    * Implement the `__init__` and `display` methods of the `Stock` class. \n",
    "    * Implement the `__init__` and `display` methods of the `Bond` class. \n",
    "    * Implement the `__init__` and `display` methods of the `MutualFund` class. \n",
    "* Create two objects from each of the `Stock`, `Bond`, and `MutualFund` classes. Use the `display` method to display the contents of each object.  "
   ]
  },
  {
   "cell_type": "code",
   "execution_count": 14,
   "metadata": {
    "collapsed": true
   },
   "outputs": [],
   "source": [
    "class Asset: \n",
    "    symbol=None\n",
    "    price=None\n",
    "    description=None\n",
    "    def __init__(self,sym,pce,desc):\n",
    "        pass\n",
    "    def display(self):\n",
    "        pass\n",
    "    \n",
    "class Stock(Asset):\n",
    "    company_name = None\n",
    "\n",
    "class Bond(Asset):\n",
    "    interest_rate=None\n",
    "\n",
    "class MutualFund(Asset):\n",
    "    fund_manager=None\n"
   ]
  }
 ],
 "metadata": {
  "kernelspec": {
   "display_name": "Python 3 (ipykernel)",
   "language": "python",
   "name": "python3"
  },
  "language_info": {
   "codemirror_mode": {
    "name": "ipython",
    "version": 3
   },
   "file_extension": ".py",
   "mimetype": "text/x-python",
   "name": "python",
   "nbconvert_exporter": "python",
   "pygments_lexer": "ipython3",
   "version": "3.9.13"
  }
 },
 "nbformat": 4,
 "nbformat_minor": 2
}
