{
 "cells": [
  {
   "cell_type": "code",
   "execution_count": 1,
   "id": "3764dbe7",
   "metadata": {},
   "outputs": [
    {
     "name": "stdout",
     "output_type": "stream",
     "text": [
      "Welcome to Hot coffee!\n",
      "We offer small, medium, and large cups of brewed, espresso, or cold brew coffee.\n",
      "You can add hazelnut, vanilla, or caramel flavoring for an additional 50 cents.\n",
      "Let's get started!\n",
      "Would you like a small, medium, or large coffee? large\n",
      "What type of coffee would you like? (brewed, espresso, or cold brew) cold brewed\n",
      "Would you like to add any flavoring? (hazelnut, vanilla, caramel, or none) vanilla\n",
      "You ordered a large cold brewed coffee with vanilla flavoring.\n",
      "Your coffee is made, that's £ 5.17  to pay please, including a 15% tip.\n"
     ]
    }
   ],
   "source": [
    "#dann Bryan March 3 2023\n",
    "#Coffee shop submission\n",
    "################################\n",
    "\n",
    "print(\"Welcome to Hot coffee!\")\n",
    "print(\"We offer small, medium, and large cups of brewed, espresso, or cold brew coffee.\")\n",
    "print(\"You can add hazelnut, vanilla, or caramel flavoring for an additional 50 cents.\")\n",
    "print(\"Let's get started!\")\n",
    "\n",
    "# Set the initial price\n",
    "price = 0.0\n",
    "\n",
    "# Get coffee size from user\n",
    "sml = input(\"Would you like a small, medium, or large coffee? \")\n",
    "\n",
    "# Update price based on coffee size\n",
    "if sml == \"small\":\n",
    "     price += 2.0\n",
    "elif sml == \"medium\":\n",
    "     price += 3.0\n",
    "elif sml == \"large\":\n",
    "     price += 4.0\n",
    "\n",
    "# Get coffee type from user\n",
    "kind = input(\"What type of coffee would you like? (brewed, espresso, or cold brew) \")\n",
    "\n",
    "# Update price based on coffee type\n",
    "if kind == \"espresso\":\n",
    "    price += 0.5\n",
    "elif kind == \"cold brew\":\n",
    "    price += 1.0\n",
    "\n",
    "# Get flavor from user\n",
    "flavour = input(\"Would you like to add any flavoring? (hazelnut, vanilla, caramel, or none) \")\n",
    "\n",
    "# Update price based on flavor\n",
    "if flavour != \"none\":\n",
    "    price += 0.5\n",
    "\n",
    "# Output the user's order\n",
    "print(\"You ordered a\", sml, kind, \"coffee\", \"with\", flavour, \"flavoring.\")\n",
    "\n",
    "# Calculate total price with tip\n",
    "tip = price * 0.15\n",
    "total_price = price + tip\n",
    "\n",
    "# Round off to 2 decimal place\n",
    "total_price = round(total_price, 2) \n",
    "\n",
    "# Output total price with tip\n",
    "print(\"Your coffee is made, that's £\",total_price, \" to pay please, including a 15% tip.\")"
   ]
  },
  {
   "cell_type": "code",
   "execution_count": null,
   "id": "225e9e74",
   "metadata": {},
   "outputs": [],
   "source": []
  }
 ],
 "metadata": {
  "kernelspec": {
   "display_name": "Python 3 (ipykernel)",
   "language": "python",
   "name": "python3"
  },
  "language_info": {
   "codemirror_mode": {
    "name": "ipython",
    "version": 3
   },
   "file_extension": ".py",
   "mimetype": "text/x-python",
   "name": "python",
   "nbconvert_exporter": "python",
   "pygments_lexer": "ipython3",
   "version": "3.9.13"
  }
 },
 "nbformat": 4,
 "nbformat_minor": 5
}
