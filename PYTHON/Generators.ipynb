{
 "cells": [
  {
   "cell_type": "markdown",
   "id": "da863026-592c-46c6-a4f3-845598c95980",
   "metadata": {},
   "source": [
    "# Generators\n",
    "- Most of the built in functions that iterate (filter, map, ...) take advantage of generators \n",
    "\n"
   ]
  },
  {
   "cell_type": "code",
   "execution_count": 21,
   "id": "5de21ead-cb42-401e-ab69-0aabd10dda44",
   "metadata": {},
   "outputs": [
    {
     "name": "stdout",
     "output_type": "stream",
     "text": [
      "0\n",
      "1\n",
      "2\n",
      "3\n",
      "4\n",
      "5\n",
      "6\n",
      "7\n",
      "8\n",
      "9\n"
     ]
    }
   ],
   "source": [
    "# When we use a for loop, as you have learned so far, we can use a list to iterate through.\n",
    "for i in [0, 1, 2, 3, 4, 5, 6, 7, 8, 9]:\n",
    "    print(i)"
   ]
  },
  {
   "cell_type": "code",
   "execution_count": 22,
   "id": "42cc5309-a503-4c00-a6ad-feab6dab78fa",
   "metadata": {},
   "outputs": [
    {
     "name": "stdout",
     "output_type": "stream",
     "text": [
      "0\n",
      "1\n",
      "2\n",
      "3\n",
      "4\n",
      "5\n",
      "6\n",
      "7\n",
      "8\n",
      "9\n"
     ]
    }
   ],
   "source": [
    "# What is the difference between a list and range\n",
    "for i in range(10):\n",
    "    print(i)"
   ]
  },
  {
   "cell_type": "markdown",
   "id": "5d7404c8-b950-49da-8827-5ef07065ae8a",
   "metadata": {},
   "source": [
    "### What is the difference between looping over range and list?\n",
    "- They are different data types. The `range` function is a generator. It yields one result at a time. \n",
    "- The entire contents of a list exists in memory. If you have a memory bound problem, generator will improve speed.\n",
    "- Below we use `sys.getsizeof` to look at how many bytes is reserved for an object. "
   ]
  },
  {
   "cell_type": "code",
   "execution_count": 23,
   "id": "d06817bc-eabd-4e54-8d4a-9ba6d706736b",
   "metadata": {},
   "outputs": [
    {
     "name": "stdout",
     "output_type": "stream",
     "text": [
      "<class 'list'>\n",
      "<class 'range'>\n",
      "48\n",
      "800056\n"
     ]
    }
   ],
   "source": [
    "import sys\n",
    "\n",
    "big_range = range(100000) # big range\n",
    "big_list = list(big_range) # convert the range to a list\n",
    "\n",
    "print(type(big_list))\n",
    "#prints <class ‘list’>\n",
    "\n",
    "print(type(big_range))\n",
    "# <class ‘range’>\n",
    "\n",
    "print(sys.getsizeof(big_range))\n",
    "# prints 48\n",
    "\n",
    "print(sys.getsizeof(big_list))\n",
    "# prints 800056"
   ]
  },
  {
   "cell_type": "markdown",
   "id": "70c9f796-d6da-43fa-8683-0333b423bffa",
   "metadata": {},
   "source": [
    "## Building a basic generator"
   ]
  },
  {
   "cell_type": "code",
   "execution_count": 5,
   "id": "329ca611-cd28-4587-8511-463568793af4",
   "metadata": {},
   "outputs": [
    {
     "data": {
      "text/plain": [
       "<generator object count_to_ten at 0x000001DCAE3D7900>"
      ]
     },
     "execution_count": 5,
     "metadata": {},
     "output_type": "execute_result"
    }
   ],
   "source": [
    "\n",
    "def count_to_ten():\n",
    "    num = 0\n",
    "    while num < 10:\n",
    "        yield num \n",
    "        num += 1\n",
    "    \n",
    "# You can use count_to_ten in a for loop:\n",
    "#for i in count_to_ten():\n",
    "#    print(i)\n",
    "\n",
    "count_to_ten()\n"
   ]
  },
  {
   "cell_type": "markdown",
   "id": "078e314d-3f0f-41d5-92ef-f0fd66497afc",
   "metadata": {},
   "source": [
    "## How do for loops really work?\n",
    "- Under the hood, it creates an `iter` object\n",
    "- It calls `next` on the iter object to retrive a value from the generator\n",
    "- When `StopIteration` exception is raised, the loop exits. "
   ]
  },
  {
   "cell_type": "code",
   "execution_count": 40,
   "id": "662a5e20-423c-4f3e-a519-8ced2abb6a23",
   "metadata": {},
   "outputs": [],
   "source": [
    "# how does the for loop really work?\n",
    "count_to_ten_generator = iter(count_to_ten())"
   ]
  },
  {
   "cell_type": "code",
   "execution_count": 41,
   "id": "fd596e4f-732b-449f-809a-a7fc96bdf2e2",
   "metadata": {},
   "outputs": [
    {
     "name": "stdout",
     "output_type": "stream",
     "text": [
      "num1 is 0, num2 is 1\n"
     ]
    }
   ],
   "source": [
    "# keep running this code until you get a stop iteration exception\n",
    "num_1 = next(count_to_ten_generator)\n",
    "num_2 = next(count_to_ten_generator)\n",
    "print(f\"num1 is {num_1}, num2 is {num_2}\")"
   ]
  },
  {
   "cell_type": "code",
   "execution_count": 42,
   "id": "cb676db5-9e29-49da-bf07-2d8ea599bec3",
   "metadata": {},
   "outputs": [
    {
     "name": "stdout",
     "output_type": "stream",
     "text": [
      "0\n",
      "1\n",
      "2\n",
      "3\n",
      "4\n",
      "5\n",
      "6\n",
      "7\n",
      "8\n",
      "9\n"
     ]
    }
   ],
   "source": [
    "# Code below is what a for loop really does under the hood\n",
    "\n",
    "count_to_ten_generator = iter(count_to_ten())\n",
    "while True:\n",
    "    try:\n",
    "        num = next(count_to_ten_generator)\n",
    "        print(num)\n",
    "    except StopIteration:\n",
    "        break"
   ]
  },
  {
   "cell_type": "code",
   "execution_count": 46,
   "id": "89d449fc-76c3-4c4f-8166-80edefeb92f9",
   "metadata": {},
   "outputs": [
    {
     "name": "stdout",
     "output_type": "stream",
     "text": [
      "7\n",
      "9\n",
      "11\n",
      "13\n",
      "17\n",
      "19\n",
      "23\n",
      "25\n",
      "29\n",
      "31\n"
     ]
    }
   ],
   "source": [
    "def prime_gen(num_of_primes):\n",
    "    num=3\n",
    "    while num_of_primes:\n",
    "        is_prime = True\n",
    "        for f in range(2, int(i**0.5)+1):\n",
    "            if num % f == 0:\n",
    "                is_prime = False\n",
    "        if is_prime:\n",
    "            yield num\n",
    "            num_of_primes-=1\n",
    "        num += 1\n",
    "            \n",
    "for i in prime_gen(10): # first 10 prime numbers\n",
    "    print(i)"
   ]
  },
  {
   "cell_type": "markdown",
   "id": "31b9cd7a-1a6b-45f7-8206-523743699d6a",
   "metadata": {},
   "source": [
    "# Generator Comprehensions\n",
    "- All comprehensions are actually generator comprehensions casted to other data types\n",
    "- Just use `()` instead of `[]` to make one\n",
    "- eg. A list comprehension is really `list((i for i in range(10)))`"
   ]
  },
  {
   "cell_type": "code",
   "execution_count": 51,
   "id": "af9bdd42-e5ea-4bfb-bdd3-8bab96e8710b",
   "metadata": {},
   "outputs": [
    {
     "name": "stdout",
     "output_type": "stream",
     "text": [
      "1849\n",
      "2209\n",
      "2809\n",
      "3481\n",
      "3721\n",
      "4489\n",
      "5041\n",
      "5329\n",
      "6241\n",
      "6889\n"
     ]
    }
   ],
   "source": [
    "for i in primes_sqrd_generator:\n",
    "    print(i)"
   ]
  },
  {
   "cell_type": "code",
   "execution_count": 44,
   "id": "13f82e6f-18bf-457b-86c1-3df930423aff",
   "metadata": {},
   "outputs": [
    {
     "data": {
      "text/plain": [
       "[0, 1, 2, 3, 4, 5, 6, 7, 8, 9]"
      ]
     },
     "execution_count": 44,
     "metadata": {},
     "output_type": "execute_result"
    }
   ],
   "source": [
    "print(list((i for i in range(10))))\n",
    "# [i for i in range(10)] # same as code above under the hood"
   ]
  }
 ],
 "metadata": {
  "kernelspec": {
   "display_name": "Python 3 (ipykernel)",
   "language": "python",
   "name": "python3"
  },
  "language_info": {
   "codemirror_mode": {
    "name": "ipython",
    "version": 3
   },
   "file_extension": ".py",
   "mimetype": "text/x-python",
   "name": "python",
   "nbconvert_exporter": "python",
   "pygments_lexer": "ipython3",
   "version": "3.9.13"
  }
 },
 "nbformat": 4,
 "nbformat_minor": 5
}
