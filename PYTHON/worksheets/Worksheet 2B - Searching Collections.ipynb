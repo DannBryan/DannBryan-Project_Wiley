{
 "cells": [
  {
   "cell_type": "markdown",
   "metadata": {},
   "source": [
    "# Worksheet 2B - Searching Collections\n",
    "This worksheet corresponds to *Lesson 2B: Searching Collections* in the online course. Refer to that lesson as necessary to complete the practice activities here."
   ]
  },
  {
   "cell_type": "markdown",
   "metadata": {},
   "source": [
    "## Practice 1a\n",
    "Complete the script below so that it performs the following actions:\n",
    "* Iterate through the entire list.\n",
    "* Display only negative numbers from the list."
   ]
  },
  {
   "cell_type": "code",
   "execution_count": 12,
   "metadata": {},
   "outputs": [
    {
     "name": "stdout",
     "output_type": "stream",
     "text": [
      "Mike appears at least once i  the list.\n",
      "we found Mike\n",
      "we found Mike\n"
     ]
    }
   ],
   "source": [
    "#search list to find mike\n",
    "\n",
    "list_of_names = [\"Kate\", \"Jennifer\", \"Mike\", \"Pete\", \"Alex\", \"Mike\"]\n",
    "\n",
    "search_term = \"Mike\"\n",
    "\n",
    "if search_term in list_of_names:\n",
    "    print(search_term + \" appears at least once i  the list.\")\n",
    "    \n",
    "for i in list_of_names:\n",
    "    if i == search_term:\n",
    "        print(\"we found \" + search_term)"
   ]
  },
  {
   "cell_type": "code",
   "execution_count": 1,
   "metadata": {},
   "outputs": [
    {
     "name": "stdout",
     "output_type": "stream",
     "text": [
      "1\n",
      "-9\n",
      "3\n",
      "45\n",
      "-11\n",
      "35\n",
      "-23\n"
     ]
    }
   ],
   "source": [
    "list_of_numbers = [0, 1, -9, -10, 3, 56, 45, -11, 35, 2, -23]\n",
    "\n",
    "for item in list_of_numbers:\n",
    "    if item % 2:\n",
    "        print(item)"
   ]
  },
  {
   "cell_type": "markdown",
   "metadata": {},
   "source": [
    "## Practice 1b\n",
    "Let's make the code from Example 1 above more interactive.\n",
    "\n",
    "The code block below includes the same code presented in Example 1. Modify the code to include the following actions:\n",
    "\n",
    "1. Prompt the user for a name to look for.\n",
    "1. Check whether or not the name is in the list.\n",
    "    1. If the name is **not** in the list, print a statement to that effect and end the program.\n",
    "    1. If the name **is** in the list, print a statement to that effect and then print a separate statement for each instance of the search term in the list."
   ]
  },
  {
   "cell_type": "code",
   "execution_count": 3,
   "metadata": {},
   "outputs": [
    {
     "name": "stdout",
     "output_type": "stream",
     "text": [
      "Mike appears at least once in the list.\n",
      "We found Mike\n",
      "We found Mike\n"
     ]
    }
   ],
   "source": [
    "list_of_names = [\"Kate\", \"Jennifer\", \"Mike\", \"Pete\", \"Alex\", \"Mike\"]\n",
    "search_term = \"Mike\"\n",
    "\n",
    "search_term = input(\"Enter the value\")# user input\n",
    "#check that the search term occurs at least once in the list\n",
    "if search_term in list_of_names:\n",
    "    print (search_term + \" appears at least once in the list.\")\n",
    "\n",
    "#use the variable name to store each item in the list sequentially \n",
    "#and compare name to the search term\n",
    "#print a separate statement for each instance of the search term\n",
    "for name in list_of_names:\n",
    "    if name == search_term:\n",
    "        print(\"We found \" + search_term)"
   ]
  },
  {
   "cell_type": "markdown",
   "metadata": {},
   "source": [
    "## Practice 2\n",
    "Create a tuple that includes data of your choice, with at least two duplicate items.\n",
    "\n",
    "Create a script that searches the tuple for duplicate items and displays appropriate output each time the search terms are found."
   ]
  },
  {
   "cell_type": "code",
   "execution_count": 48,
   "metadata": {},
   "outputs": [
    {
     "name": "stdout",
     "output_type": "stream",
     "text": [
      "These are the duplicates: ['socks', 'jumper']\n"
     ]
    }
   ],
   "source": [
    "tuple_1 = (\"socks\", \"jumper\", \"trousers\", \"socks\", \"shorts\", \"jumper\")\n",
    "\n",
    "dupes = []\n",
    "for item in tuple_1:\n",
    "    if tuple_1.count(item) > 1 and item not in dupes:\n",
    "        dupes.append(item)\n",
    "\n",
    "print(\"These are the duplicates:\", dupes,)\n",
    "    #complete"
   ]
  },
  {
   "cell_type": "markdown",
   "metadata": {},
   "source": [
    "## Practice 3a\n",
    "Now let's try a customized search using a string.\n",
    "\n",
    "We'll start with a longer string, such as the first sentence from Edgar Allan Poe's story <a href=\"https://www.gutenberg.org/ebooks/932\" target=\"_blank\">The House of Usher</a>, as published in Project Gutenberg.\n",
    "\n",
    "Create a script that performs the following tasks:\n",
    "* Prompt the user for a single character.\n",
    "* Search the string for that character.\n",
    "    * If the character does not appear in the string, display a message to inform the user.\n",
    "    * If the string does appear in the string, print a statement for each instance of the character"
   ]
  },
  {
   "cell_type": "code",
   "execution_count": 2,
   "metadata": {},
   "outputs": [
    {
     "name": "stdout",
     "output_type": "stream",
     "text": [
      "During the whole of a dull, dark, and soundless day in the autumn of the year, when the clouds hung oppressively low in the heavens, I had been passing alone, on horseback, through a singularly dreary tract of country; and at length found myself, as the shades of the evening drew on, within view of the melancholy House of Usher.\n",
      "enter a character you want to search: t\n",
      "I found this:  t\n",
      "I found this:  t\n",
      "I found this:  t\n",
      "I found this:  t\n",
      "I found this:  t\n",
      "I found this:  t\n",
      "I found this:  t\n",
      "I found this:  t\n",
      "I found this:  t\n",
      "I found this:  t\n",
      "I found this:  t\n",
      "I found this:  t\n",
      "I found this:  t\n",
      "I found this:  t\n",
      "I found this:  t\n",
      "I found this:  t\n",
      "No go soldier: \n"
     ]
    }
   ],
   "source": [
    "# create a string\n",
    "#because this string is very long, we use \\ at the end of each line \n",
    " #to continue the text to the next line\n",
    "#Python ignores the \\ character\n",
    "string_1 = \"During the whole of a dull, dark, and soundless day in the \\\n",
    "autumn of the year, when the clouds hung oppressively low in the \\\n",
    "heavens, I had been passing alone, on horseback, through a \\\n",
    "singularly dreary tract of country; and at length found myself, \\\n",
    "as the shades of the evening drew on, within view of the \\\n",
    "melancholy House of Usher.\"\n",
    "\n",
    "print(string_1)\n",
    "\n",
    "c = input(\"enter a character you want to search: \")\n",
    "\n",
    "for i in string_1:\n",
    "    if i == c:\n",
    "        print(\"I found this: \", i)\n",
    "        \n",
    "while i in string_1:\n",
    "    if i != c:\n",
    "        print(\"No go soldier: \")\n",
    "        break\n",
    "\n",
    "#complete but last print always appears?"
   ]
  },
  {
   "cell_type": "code",
   "execution_count": 3,
   "metadata": {},
   "outputs": [
    {
     "name": "stdout",
     "output_type": "stream",
     "text": [
      "lemme hold a lettar\n",
      "I found this:  r\n",
      "I found this:  r\n",
      "I found this:  r\n",
      "I found this:  r\n",
      "I found this:  r\n",
      "I found this:  r\n",
      "I found this:  r\n",
      "I found this:  r\n",
      "I found this:  r\n",
      "I found this:  r\n",
      "I found this:  r\n",
      "I found this:  r\n",
      "I found this:  r\n"
     ]
    }
   ],
   "source": [
    "string_1 = \"During the whole of a dull, dark, and soundless day in the \\\n",
    "autumn of the year, when the clouds hung oppressively low in the \\\n",
    "heavens, I had been passing alone, on horseback, through a \\\n",
    "singularly dreary tract of country; and at length found myself, \\\n",
    "as the shades of the evening drew on, within view of the \\\n",
    "melancholy House of Usher.\"\n",
    "c = input(\"lemme hold a letta\")\n",
    "for i in string_1:\n",
    "    if i == c:\n",
    "        print(\"I found this: \", i)"
   ]
  },
  {
   "cell_type": "markdown",
   "metadata": {},
   "source": [
    "## Practice 3b\n",
    "Refactor the code in the previous practice exercise so that the user can enter a character in uppercase or lowercase and Python will find each instance of that character, regardless of its case in the original text. \n",
    "\n",
    "For example, the user can enter either \"i\" or \"I\" and Python will find all instances of the letter \"i\" or \"I\" in the string in the same search."
   ]
  },
  {
   "cell_type": "code",
   "execution_count": 42,
   "metadata": {},
   "outputs": [
    {
     "name": "stdout",
     "output_type": "stream",
     "text": [
      "During the whole of a dull, dark, and soundless day in the autumn of the year, when the clouds hung oppressively low in the heavens, I had been passing alone, on horseback, through a singularly dreary tract of country; and at length found myself, as the shades of the evening drew on, within view of the melancholy House of Usher.\n",
      "enter a character you want to search: t\n",
      "I found this:  t\n",
      "I found this:  t\n",
      "I found this:  t\n",
      "I found this:  t\n",
      "I found this:  t\n",
      "I found this:  t\n",
      "I found this:  t\n",
      "I found this:  t\n",
      "I found this:  t\n",
      "I found this:  t\n",
      "I found this:  t\n",
      "I found this:  t\n",
      "I found this:  t\n",
      "I found this:  t\n",
      "I found this:  t\n",
      "I found this:  t\n",
      "No go soldier: \n"
     ]
    }
   ],
   "source": [
    "string_1 = \"During the whole of a dull, dark, and soundless day in the \\\n",
    "autumn of the year, when the clouds hung oppressively low in the \\\n",
    "heavens, I had been passing alone, on horseback, through a \\\n",
    "singularly dreary tract of country; and at length found myself, \\\n",
    "as the shades of the evening drew on, within view of the \\\n",
    "melancholy House of Usher.\"\n",
    "\n",
    "print(string_1)\n",
    "\n",
    "c = input(\"enter a character you want to search: \")\n",
    "c = c.lower()\n",
    "for i in string_1:\n",
    "    if i == c:\n",
    "        print(\"I found this: \", i)\n",
    "        \n",
    "while i in string_1:\n",
    "    if i != c:\n",
    "        print(\"No go soldier: \")\n",
    "        break\n",
    "#complete"
   ]
  },
  {
   "cell_type": "markdown",
   "metadata": {},
   "source": [
    "## Search Challenge\n",
    "Now let's put together a bunch of individual concepts into a single script.\n",
    "\n",
    "The tuple below contains the abbreviations of all states in the USA.\n",
    "\n",
    "Using the values in the tuple as a starting point, create three new lists:\n",
    "- one list contains all states that start with N\n",
    "- one list contains all states that start with W\n",
    "- one list contains all states that start with A\n",
    "\n",
    "The lists should be generated by asking Python to look at the initial letter of each abbreviation and performing a set of instructions based on that letter. Do NOT use slicing techniques to extract multiple values at the same time.\n",
    "\n",
    "Print each list one time.\n",
    "\n",
    "**Tip**: This is a complex problem that requires several individual steps completed in the correct order. It can help to write out the steps first, using pseudocode or something similar, and then make sure the steps are in a logical order. Complete the code for the first list to make sure it works before attempting the other two lists."
   ]
  },
  {
   "cell_type": "code",
   "execution_count": 78,
   "metadata": {},
   "outputs": [
    {
     "name": "stdout",
     "output_type": "stream",
     "text": [
      "[]\n",
      "[]\n",
      "[]\n"
     ]
    }
   ],
   "source": [
    "states = (\"AL\", \"AK\", \"AZ\", \"AR\", \"CA\", \"CO\", \"CT\", \"DC\", \"FL\", \"GA\", \n",
    "          \"HI\", \"ID\", \"IL\", \"IN\", \"IA\", \"KS\", \"KY\", \"LA\", \"ME\", \"MD\", \n",
    "          \"MA\", \"MI\", \"MN\", \"MS\", \"MO\", \"MT\", \"NE\", \"NV\", \"NH\", \"NJ\", \n",
    "          \"NM\", \"NY\", \"NC\", \"ND\", \"OH\", \"OK\", \"OR\", \"PA\", \"RI\", \"SC\", \n",
    "          \"SD\", \"TN\", \"TX\", \"UT\", \"VT\", \"VA\", \"WA\", \"WV\", \"WI\", \"WY\")\n",
    "\n",
    "\n",
    "list_n = []\n",
    "list_w = []\n",
    "list_a = []\n",
    "\n",
    "for items in states:\n",
    "    if items[0].lower == 'n':\n",
    "        list_n.append(items)\n",
    "        \n",
    "for items in states:\n",
    "    if items[0].lower == 'w':\n",
    "        list_w.append(items)\n",
    "        \n",
    "for items in states:\n",
    "    if items[0].lower == 'a':\n",
    "        list_a.append(items)\n",
    "\n",
    "        \n",
    "print(list_n)\n",
    "print(list_w)\n",
    "print(list_a)\n",
    "\n",
    "\n",
    "\n",
    "#multi line\n",
    "#comment\n",
    "#1 given tuple\n",
    "#2 output == 3 lists\n",
    " #   a,states start with n\n",
    "  #  b, states start with w\n",
    "   # states start with a\n",
    "#3, search states tuple\n",
    " #   getstart letter of state names\n",
    "#4. compare that with n for list n\n",
    "    #if match found- add state name to list n\n",
    "\n",
    "\n",
    "\n",
    "\n",
    "# your code here "
   ]
  },
  {
   "cell_type": "code",
   "execution_count": 17,
   "metadata": {},
   "outputs": [
    {
     "ename": "AttributeError",
     "evalue": "'list' object has no attribute 'upper'",
     "output_type": "error",
     "traceback": [
      "\u001b[1;31m---------------------------------------------------------------------------\u001b[0m",
      "\u001b[1;31mAttributeError\u001b[0m                            Traceback (most recent call last)",
      "\u001b[1;32m~\\AppData\\Local\\Temp\\ipykernel_3932\\3790157317.py\u001b[0m in \u001b[0;36m<module>\u001b[1;34m\u001b[0m\n\u001b[0;32m      9\u001b[0m     \u001b[1;32mif\u001b[0m \u001b[0mitems\u001b[0m\u001b[1;33m.\u001b[0m\u001b[0mlower\u001b[0m \u001b[1;33m==\u001b[0m \u001b[1;34m'a'\u001b[0m\u001b[1;33m:\u001b[0m\u001b[1;33m\u001b[0m\u001b[1;33m\u001b[0m\u001b[0m\n\u001b[0;32m     10\u001b[0m         \u001b[0mlist_n\u001b[0m\u001b[1;33m.\u001b[0m\u001b[0mappend\u001b[0m\u001b[1;33m(\u001b[0m\u001b[0mitems\u001b[0m\u001b[1;33m.\u001b[0m\u001b[0mupper\u001b[0m\u001b[1;33m)\u001b[0m\u001b[1;33m\u001b[0m\u001b[1;33m\u001b[0m\u001b[0m\n\u001b[1;32m---> 11\u001b[1;33m \u001b[0mprint\u001b[0m\u001b[1;33m(\u001b[0m\u001b[0mlist_n\u001b[0m\u001b[1;33m.\u001b[0m\u001b[0mupper\u001b[0m\u001b[1;33m)\u001b[0m\u001b[1;33m\u001b[0m\u001b[1;33m\u001b[0m\u001b[0m\n\u001b[0m",
      "\u001b[1;31mAttributeError\u001b[0m: 'list' object has no attribute 'upper'"
     ]
    }
   ],
   "source": [
    "states = (\"AL\", \"AK\", \"AZ\", \"AR\", \"CA\", \"CO\", \"CT\", \"DC\", \"FL\", \"GA\", \n",
    "          \"HI\", \"ID\", \"IL\", \"IN\", \"IA\", \"KS\", \"KY\", \"LA\", \"ME\", \"MD\", \n",
    "          \"MA\", \"MI\", \"MN\", \"MS\", \"MO\", \"MT\", \"NE\", \"NV\", \"NH\", \"NJ\", \n",
    "          \"NM\", \"NY\", \"NC\", \"ND\", \"OH\", \"OK\", \"OR\", \"PA\", \"RI\", \"SC\", \n",
    "          \"SD\", \"TN\", \"TX\", \"UT\", \"VT\", \"VA\", \"WA\", \"WV\", \"WI\", \"WY\")\n",
    "list_n = []\n",
    "\n",
    "for items in states:\n",
    "    if items.lower == 'a':\n",
    "        list_n.append(items.upper)\n",
    "print(list_n)"
   ]
  }
 ],
 "metadata": {
  "kernelspec": {
   "display_name": "Python 3 (ipykernel)",
   "language": "python",
   "name": "python3"
  },
  "language_info": {
   "codemirror_mode": {
    "name": "ipython",
    "version": 3
   },
   "file_extension": ".py",
   "mimetype": "text/x-python",
   "name": "python",
   "nbconvert_exporter": "python",
   "pygments_lexer": "ipython3",
   "version": "3.9.13"
  }
 },
 "nbformat": 4,
 "nbformat_minor": 2
}
