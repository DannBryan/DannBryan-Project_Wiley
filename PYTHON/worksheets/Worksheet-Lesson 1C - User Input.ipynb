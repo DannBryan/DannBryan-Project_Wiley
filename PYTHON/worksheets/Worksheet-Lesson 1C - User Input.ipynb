{
 "cells": [
  {
   "cell_type": "markdown",
   "metadata": {},
   "source": [
    "# Worksheet: User Input\n",
    "This worksheet includes the practice activities for *Lesson 1C: User Input* in the online course. Refer to that lesson as necessary to complete these activities."
   ]
  },
  {
   "cell_type": "markdown",
   "metadata": {},
   "source": [
    "## Practice 1\n",
    "Create a program that prompts the user for their name and three states they have visited. \n",
    "\n",
    "Run the program and enter appropriate values at each prompt. Pay attention to what Python outputs for each prompt. What happens if you add a third or fourth prompt to the code?"
   ]
  },
  {
   "cell_type": "code",
   "execution_count": 6,
   "metadata": {},
   "outputs": [
    {
     "name": "stdout",
     "output_type": "stream",
     "text": [
      "Enter your name: Dann\n",
      "Hi Dann\n",
      "Please provide your 3 favourite States. State 1: Texas\n",
      "Second state: Arizona\n",
      "Third State: Florida\n"
     ]
    }
   ],
   "source": [
    "# Enter your code here\n",
    "name=input(\"Enter your name: \")\n",
    "print(\"Hi\", name)\n",
    "first_states=input(\"Please provide your 3 favourite States. State 1: \")\n",
    "second_state=input(\"Second state: \")\n",
    "third_state=input(\"Third State: \")\n"
   ]
  },
  {
   "cell_type": "markdown",
   "metadata": {},
   "source": [
    "## Practice 2\n",
    "Write code that asks the user for their first name as one input and their last name as a second input and stores each input in a separate variable.\n",
    "\t\n",
    "Use the `print` command to display the last name and then the first name.."
   ]
  },
  {
   "cell_type": "code",
   "execution_count": 7,
   "metadata": {},
   "outputs": [
    {
     "name": "stdout",
     "output_type": "stream",
     "text": [
      "first name: Danners\n",
      "second name: Bryaner\n",
      "Danners Bryaner\n"
     ]
    }
   ],
   "source": [
    "# Enter your code here\n",
    "first=input(\"first name: \")\n",
    "last=input(\"second name: \")\n",
    "\n",
    "print (first + \" \" + last)\n",
    "#complete"
   ]
  },
  {
   "cell_type": "code",
   "execution_count": null,
   "metadata": {},
   "outputs": [],
   "source": []
  }
 ],
 "metadata": {
  "kernelspec": {
   "display_name": "Python 3 (ipykernel)",
   "language": "python",
   "name": "python3"
  },
  "language_info": {
   "codemirror_mode": {
    "name": "ipython",
    "version": 3
   },
   "file_extension": ".py",
   "mimetype": "text/x-python",
   "name": "python",
   "nbconvert_exporter": "python",
   "pygments_lexer": "ipython3",
   "version": "3.9.13"
  }
 },
 "nbformat": 4,
 "nbformat_minor": 2
}
