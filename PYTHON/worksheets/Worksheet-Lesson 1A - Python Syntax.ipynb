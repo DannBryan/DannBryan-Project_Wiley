{
 "cells": [
  {
   "cell_type": "markdown",
   "metadata": {},
   "source": [
    "# Worksheet: Python Syntax\n",
    "This worksheet includes the practice activities for *Lesson 1A: Python Syntax* in the online course. Refer to that lesson as necessary to complete these activities."
   ]
  },
  {
   "cell_type": "markdown",
   "metadata": {},
   "source": [
    "## Practice 1a\n",
    "Experiment with the `print` command by changing one or both of the statements below and adding at least one more print statement. \n",
    "* Click in the code cell above and edit the existing code. \n",
    "* Run the code using the Run Cell command in the toolbar."
   ]
  },
  {
   "cell_type": "code",
   "execution_count": 1,
   "metadata": {},
   "outputs": [
    {
     "name": "stdout",
     "output_type": "stream",
     "text": [
      "Hello, John!\n",
      "Got a new motor?\n"
     ]
    }
   ],
   "source": [
    "print(\"Hello, John!\") \n",
    "print(\"Got a new motor?\")"
   ]
  },
  {
   "cell_type": "markdown",
   "metadata": {},
   "source": [
    "## Practice 1b\n",
    "Fix the code below using what you learned in Concept 1."
   ]
  },
  {
   "cell_type": "code",
   "execution_count": 2,
   "metadata": {},
   "outputs": [
    {
     "name": "stdout",
     "output_type": "stream",
     "text": [
      "Not a new one really.\n",
      "It's just a lease\n"
     ]
    }
   ],
   "source": [
    "print(\"Not a new one really.\")\n",
    "print(\"It's just a lease\")"
   ]
  },
  {
   "cell_type": "markdown",
   "metadata": {},
   "source": [
    "## Practice 2\n",
    "Display a message that includes your name and your favorite hobby in two different instructions separated by a semicolon. What happens if you write the two `print` commands in the same line?\n",
    "* Enter your code in the box below.\n",
    "* Use the Run Cell command in the toolbar above to see the output."
   ]
  },
  {
   "cell_type": "code",
   "execution_count": 7,
   "metadata": {},
   "outputs": [
    {
     "name": "stdout",
     "output_type": "stream",
     "text": [
      "My name is Dannie\n",
      "My hobby is struggling with computers\n"
     ]
    }
   ],
   "source": [
    "#practice 2 solution\n",
    "print(\"My name is Dannie\");print(\"My hobby is struggling with computers\")"
   ]
  },
  {
   "cell_type": "markdown",
   "metadata": {},
   "source": [
    "## Practice 3\n",
    "Fix the following code, keeping the instructions on one line."
   ]
  },
  {
   "cell_type": "code",
   "execution_count": 6,
   "metadata": {},
   "outputs": [
    {
     "name": "stdout",
     "output_type": "stream",
     "text": [
      "Welcome to our store.\n",
      "How can I help you?\n"
     ]
    }
   ],
   "source": [
    "print(\"Welcome to our store.\");print(\"How can I help you?\")"
   ]
  },
  {
   "cell_type": "markdown",
   "metadata": {},
   "source": [
    "## Practice 4\n",
    "Fix the following code, keeping the instruction on four separate lines."
   ]
  },
  {
   "cell_type": "code",
   "execution_count": 4,
   "metadata": {},
   "outputs": [
    {
     "name": "stdout",
     "output_type": "stream",
     "text": [
      "How long is a piece of string\n"
     ]
    }
   ],
   "source": [
    "print \\\n",
    "(\"How long is a \\\n",
    "piece of string\" \n",
    ")"
   ]
  },
  {
   "cell_type": "markdown",
   "metadata": {},
   "source": [
    "## Practice 5\n",
    "Fix the following code. "
   ]
  },
  {
   "cell_type": "code",
   "execution_count": 5,
   "metadata": {},
   "outputs": [
    {
     "name": "stdout",
     "output_type": "stream",
     "text": [
      "Hi!\n",
      "My Name is Dannie.\n",
      "I enjoy staring blankly at my computer.\n"
     ]
    }
   ],
   "source": [
    "print(\"Hi!\");print(\"My Name is Dannie.\");print(\"I enjoy staring blankly at my computer.\");"
   ]
  },
  {
   "cell_type": "markdown",
   "metadata": {},
   "source": [
    "## Practice 6\n",
    "Replace the `print` commands with comments that include the same text. What happens when you run the program after making the changes?"
   ]
  },
  {
   "cell_type": "code",
   "execution_count": 7,
   "metadata": {},
   "outputs": [
    {
     "data": {
      "text/plain": [
       "'This is a computer program that prints the following information:'"
      ]
     },
     "metadata": {},
     "output_type": "display_data"
    },
    {
     "data": {
      "text/plain": [
       "\"User's name\""
      ]
     },
     "metadata": {},
     "output_type": "display_data"
    },
    {
     "data": {
      "text/plain": [
       "\"User's age\""
      ]
     },
     "metadata": {},
     "output_type": "display_data"
    },
    {
     "data": {
      "text/plain": [
       "'List of states where the user has lived'"
      ]
     },
     "metadata": {},
     "output_type": "display_data"
    }
   ],
   "source": [
    "display(\"This is a computer program that prints the following information:\")\n",
    "display(\"User's name\")\n",
    "display(\"User's age\")\n",
    "display(\"List of states where the user has lived\")"
   ]
  },
  {
   "cell_type": "code",
   "execution_count": 20,
   "metadata": {},
   "outputs": [
    {
     "data": {
      "text/plain": [
       "'List of states where the user has lived'"
      ]
     },
     "execution_count": 20,
     "metadata": {},
     "output_type": "execute_result"
    }
   ],
   "source": [
    "(\"This is a computer program that prints the following information:\")\n",
    "(\"List of states where the user has lived\")"
   ]
  },
  {
   "cell_type": "code",
   "execution_count": 21,
   "metadata": {},
   "outputs": [
    {
     "data": {
      "text/plain": [
       "'This is a computer program that prints the following information:'"
      ]
     },
     "metadata": {},
     "output_type": "display_data"
    }
   ],
   "source": [
    "display(\"This is a computer program that prints the following information:\")"
   ]
  },
  {
   "cell_type": "code",
   "execution_count": 9,
   "metadata": {},
   "outputs": [
    {
     "data": {
      "text/plain": [
       "\"User's age\""
      ]
     },
     "execution_count": 9,
     "metadata": {},
     "output_type": "execute_result"
    }
   ],
   "source": [
    "(\"This is a computer program that prints the following information:\")\n",
    "(\"List of states where the user has lived\")\n",
    "(\"User's age\")   #last only, no function"
   ]
  },
  {
   "cell_type": "code",
   "execution_count": 23,
   "metadata": {},
   "outputs": [
    {
     "data": {
      "text/plain": [
       "'This is a computer program that prints the following information:'"
      ]
     },
     "metadata": {},
     "output_type": "display_data"
    },
    {
     "data": {
      "text/plain": [
       "\"User's age\""
      ]
     },
     "execution_count": 23,
     "metadata": {},
     "output_type": "execute_result"
    }
   ],
   "source": [
    "display (\"This is a computer program that prints the following information:\")\n",
    "(\"List of states where the user has lived\")\n",
    "(\"User's age\")   #first and last"
   ]
  },
  {
   "cell_type": "code",
   "execution_count": null,
   "metadata": {},
   "outputs": [],
   "source": []
  }
 ],
 "metadata": {
  "kernelspec": {
   "display_name": "Python 3 (ipykernel)",
   "language": "python",
   "name": "python3"
  },
  "language_info": {
   "codemirror_mode": {
    "name": "ipython",
    "version": 3
   },
   "file_extension": ".py",
   "mimetype": "text/x-python",
   "name": "python",
   "nbconvert_exporter": "python",
   "pygments_lexer": "ipython3",
   "version": "3.9.13"
  }
 },
 "nbformat": 4,
 "nbformat_minor": 4
}
