{
 "cells": [
  {
   "cell_type": "markdown",
   "metadata": {},
   "source": [
    "# Lesson 1 Activities: Functions\n",
    "The following activities will allow you to practice your ability to:\n",
    "* Demonstrate the use of function parameters, including the use of default values.\n",
    "* Demonstrate the use of indefinite parameters in a function.\n",
    "* Use keywords to define parameters in a function."
   ]
  },
  {
   "cell_type": "markdown",
   "metadata": {},
   "source": [
    "## Activity 1\n",
    "Define the find_min function below to compute the lowest value in an input list of numbers."
   ]
  },
  {
   "cell_type": "code",
   "execution_count": 9,
   "metadata": {},
   "outputs": [
    {
     "name": "stdout",
     "output_type": "stream",
     "text": [
      "1\n"
     ]
    }
   ],
   "source": [
    "def find_min(numbers):\n",
    "    min_num = numbers[0]  # set the initial minimum value to the first number in the list\n",
    "    for num in numbers:\n",
    "        if num < min_num:\n",
    "            min_num = num  # update the minimum value if a smaller number is found\n",
    "    return min_num\n",
    "numbers = [1,5,5,7,10,1]\n",
    "print(find_min(numbers))   #same below less code"
   ]
  },
  {
   "cell_type": "code",
   "execution_count": 10,
   "metadata": {},
   "outputs": [
    {
     "name": "stdout",
     "output_type": "stream",
     "text": [
      "1\n",
      "1\n"
     ]
    }
   ],
   "source": [
    "def find_min(numbers):\n",
    "    print(min(numbers))\n",
    "    return min(numbers)\n",
    "                          # must be part of indentation\n",
    "   \n",
    "\n",
    "                          #do not change this code below \n",
    "numbers = [1,5,5,7,10,1]\n",
    "print(find_min(numbers))"
   ]
  },
  {
   "cell_type": "markdown",
   "metadata": {},
   "source": [
    "## Activity 2\n",
    "Define the `find_lower` function below to find all values in the `numbers` list that are lower than a specific threshold number."
   ]
  },
  {
   "cell_type": "code",
   "execution_count": 6,
   "metadata": {},
   "outputs": [
    {
     "name": "stdout",
     "output_type": "stream",
     "text": [
      "[1, 5, 5, 7, 10, 1]\n",
      "[1, 5, 5, 7, 10, 1]\n"
     ]
    },
    {
     "data": {
      "text/plain": [
       "[1, 5, 5, 7, 10, 1]"
      ]
     },
     "execution_count": 6,
     "metadata": {},
     "output_type": "execute_result"
    }
   ],
   "source": [
    "def find_lower(numbers,threshold):\n",
    "    for num in numbers:\n",
    "        print(numbers)#remove pass and define the function here\n",
    "        return(numbers)\n",
    "\n",
    "numbers = [1,5,5,7,10,1]\n",
    "find_lower(numbers,7) #find all numbers lower than 0\n",
    "find_lower(numbers,5) #find all numbers lower than 5"
   ]
  },
  {
   "cell_type": "code",
   "execution_count": 58,
   "metadata": {},
   "outputs": [
    {
     "name": "stdout",
     "output_type": "stream",
     "text": [
      "[1, 3, 4, 5, 5, 1]\n",
      "[1, 3, 4, 1]\n"
     ]
    }
   ],
   "source": [
    "def find_lower(numbers, threshold):\n",
    "    lower_numbers = []\n",
    "    for num in numbers:\n",
    "        if num < threshold:\n",
    "            lower_numbers.append(num)\n",
    "    return lower_numbers\n",
    "numbers = [1, 3, 4, 5, 5, 7, 10, 1]\n",
    "print(find_lower(numbers, 7))  # Output: [1, 5, 5, 1]\n",
    "print(find_lower(numbers, 5))  # Output: [1, 1]\n"
   ]
  },
  {
   "cell_type": "markdown",
   "metadata": {},
   "source": [
    "## Activity 3\n",
    "A <a href=\"https://en.wikipedia.org/wiki/Fibonacci_number\" target=\"_blank\">Fibonacci sequence</a> is a series of numbers where each number is the sum of the two preceding numbers in the sequence. For example, the first eight Fibonacci numbers starting from 0 are:\n",
    "\n",
    "    0, 1, 1, 2, 3, 5, 8, 13, 21\n",
    "\n",
    "Create a function `compute_fib` that will perform the following steps to calculate a Fibonacci sequence with a given start value.\n",
    "1. The function should include two parameters: the starting value (`start`) and the number of values to display (`stop`) in the sequence.\n",
    "1. Starting with the first value, determine the Fibonacci sequence for the number of values and store the sequence values in a list.\n",
    "    * By definition, we determine a Fibonacci sequence for value `n` (<code>F<sub><em>n</em></sub></code>) using:\n",
    "    \n",
    "    <pre>F<sub>0</sub> = 0\n",
    "    F<sub>1</sub> = 1\n",
    "    F<sub><em>n</em></sub> = F<sub><em>n-1</em></sub> + F<sub><em>n-2</em></sub> for <em>n</em> > 1</pre>\n",
    "        \n",
    "    * Assume that the first value in the sequence is always 0, and use the starting input value as the second value in the list.<br /><br />\n",
    "    \n",
    "1. Display the final list to the user with an appropriate message.\n",
    "\n",
    "For example, if the start value is 5 and the stop value is 7, the output values should be:\n",
    "\n",
    "    0, 5, 5, 10, 15, 25, 40\n",
    "        "
   ]
  },
  {
   "cell_type": "code",
   "execution_count": 23,
   "metadata": {},
   "outputs": [
    {
     "name": "stdout",
     "output_type": "stream",
     "text": [
      "[0, 5, 5, 10, 15, 25, 40]\n"
     ]
    }
   ],
   "source": [
    "def compute_fib(start, stop):   \n",
    "    fib_list = [0, start]               \n",
    "    for i in range(2, stop):\n",
    "        fib_list.append(fib_list[i-1] + fib_list[i-2])\n",
    "    print(fib_list)   \n",
    "    \n",
    "compute_fib(5, 7)"
   ]
  },
  {
   "cell_type": "code",
   "execution_count": 34,
   "metadata": {},
   "outputs": [
    {
     "name": "stdout",
     "output_type": "stream",
     "text": [
      "Give me a number, preferably 2. 3\n"
     ]
    },
    {
     "ename": "IndexError",
     "evalue": "list index out of range",
     "output_type": "error",
     "traceback": [
      "\u001b[1;31m---------------------------------------------------------------------------\u001b[0m",
      "\u001b[1;31mIndexError\u001b[0m                                Traceback (most recent call last)",
      "\u001b[1;32m~\\AppData\\Local\\Temp\\ipykernel_16880\\1237330807.py\u001b[0m in \u001b[0;36m<module>\u001b[1;34m\u001b[0m\n\u001b[0;32m      7\u001b[0m     \u001b[0mprint\u001b[0m\u001b[1;33m(\u001b[0m\u001b[0mfib_list\u001b[0m\u001b[1;33m)\u001b[0m\u001b[1;33m\u001b[0m\u001b[1;33m\u001b[0m\u001b[0m\n\u001b[0;32m      8\u001b[0m \u001b[1;33m\u001b[0m\u001b[0m\n\u001b[1;32m----> 9\u001b[1;33m \u001b[0mcompute_fib\u001b[0m\u001b[1;33m(\u001b[0m\u001b[1;36m5\u001b[0m\u001b[1;33m,\u001b[0m \u001b[1;36m7\u001b[0m\u001b[1;33m)\u001b[0m\u001b[1;33m\u001b[0m\u001b[1;33m\u001b[0m\u001b[0m\n\u001b[0m",
      "\u001b[1;32m~\\AppData\\Local\\Temp\\ipykernel_16880\\1237330807.py\u001b[0m in \u001b[0;36mcompute_fib\u001b[1;34m(start, stop)\u001b[0m\n\u001b[0;32m      4\u001b[0m     \u001b[0mfib_list\u001b[0m \u001b[1;33m=\u001b[0m \u001b[1;33m[\u001b[0m\u001b[1;36m0\u001b[0m\u001b[1;33m,\u001b[0m \u001b[0mstart\u001b[0m\u001b[1;33m]\u001b[0m\u001b[1;33m\u001b[0m\u001b[1;33m\u001b[0m\u001b[0m\n\u001b[0;32m      5\u001b[0m     \u001b[1;32mfor\u001b[0m \u001b[0mi\u001b[0m \u001b[1;32min\u001b[0m \u001b[0mrange\u001b[0m\u001b[1;33m(\u001b[0m\u001b[0muser\u001b[0m\u001b[1;33m,\u001b[0m \u001b[0mstop\u001b[0m\u001b[1;33m)\u001b[0m\u001b[1;33m:\u001b[0m\u001b[1;33m\u001b[0m\u001b[1;33m\u001b[0m\u001b[0m\n\u001b[1;32m----> 6\u001b[1;33m         \u001b[0mfib_list\u001b[0m\u001b[1;33m.\u001b[0m\u001b[0mappend\u001b[0m\u001b[1;33m(\u001b[0m\u001b[0mfib_list\u001b[0m\u001b[1;33m[\u001b[0m\u001b[0mi\u001b[0m\u001b[1;33m-\u001b[0m\u001b[1;36m1\u001b[0m\u001b[1;33m]\u001b[0m \u001b[1;33m+\u001b[0m \u001b[0mfib_list\u001b[0m\u001b[1;33m[\u001b[0m\u001b[0mi\u001b[0m\u001b[1;33m-\u001b[0m\u001b[1;36m2\u001b[0m\u001b[1;33m]\u001b[0m\u001b[1;33m)\u001b[0m\u001b[1;33m\u001b[0m\u001b[1;33m\u001b[0m\u001b[0m\n\u001b[0m\u001b[0;32m      7\u001b[0m     \u001b[0mprint\u001b[0m\u001b[1;33m(\u001b[0m\u001b[0mfib_list\u001b[0m\u001b[1;33m)\u001b[0m\u001b[1;33m\u001b[0m\u001b[1;33m\u001b[0m\u001b[0m\n\u001b[0;32m      8\u001b[0m \u001b[1;33m\u001b[0m\u001b[0m\n",
      "\u001b[1;31mIndexError\u001b[0m: list index out of range"
     ]
    }
   ],
   "source": [
    "user = int(input(\"Give me a number, preferably 2. \"))\n",
    "\n",
    "def compute_fib(start, stop):   \n",
    "    fib_list = [0, start]\n",
    "    for i in range(user, stop):\n",
    "        fib_list.append(fib_list[i-1] + fib_list[i-2])\n",
    "    print(fib_list)   \n",
    "    \n",
    "compute_fib(5, 7)"
   ]
  },
  {
   "cell_type": "markdown",
   "metadata": {},
   "source": [
    "### Challenge Activity\n",
    "After you have set up the function to use fixed values, refactor the code to accept user input for each of the function parameters."
   ]
  },
  {
   "cell_type": "markdown",
   "metadata": {},
   "source": [
    "## Activity 4\n",
    "Starting with a grocery shopping list, create a function that will iterate through the items in the list and identify only items only in a specific category, such as meats, fruits, or beverages.\n",
    "\n",
    "As a starting point, create a list with at least 15 items that someone might include in a grocery shopping list and use this list as the first parameter of the function.\n",
    "\n",
    "When executing the function, include a series of items in your selected category, including items that may or may not appear in the shopping list. The program should return a list of items from the shopping list that appear in the category values.\n",
    "\n",
    "For example, assume the original shopping list is:\n",
    "\n",
    "    (\"apples\", \"corn\", \"turkey slices\", \"ground beef\", \"flour\", \"sugar\", \"eggs\", \"peas\", \"tomatoes\", \"spaghetti\")\n",
    "    \n",
    "You then use meat values `\"turkey\"`, `\"beef\"`, `\"pork\"` as parameters in the function.\n",
    "\n",
    "The function should return the following items from the list:\n",
    "\n",
    "    (\"turkey slices\", \"ground beef\")\n",
    "    \n",
    "Use meaningful names for lists and functions in your program.\n"
   ]
  },
  {
   "cell_type": "code",
   "execution_count": 66,
   "metadata": {},
   "outputs": [
    {
     "ename": "SyntaxError",
     "evalue": "invalid syntax (1827989175.py, line 3)",
     "output_type": "error",
     "traceback": [
      "\u001b[1;36m  File \u001b[1;32m\"C:\\Users\\mattb\\AppData\\Local\\Temp\\ipykernel_7292\\1827989175.py\"\u001b[1;36m, line \u001b[1;32m3\u001b[0m\n\u001b[1;33m    def compute_meat(\"turkey\", \"beef\",): #self named function with 2 values\u001b[0m\n\u001b[1;37m                     ^\u001b[0m\n\u001b[1;31mSyntaxError\u001b[0m\u001b[1;31m:\u001b[0m invalid syntax\n"
     ]
    }
   ],
   "source": [
    "shopping = (\"apples\", \"corn\", \"turkey slices\", \"ground beef\", \"flour\", \"sugar\", \"eggs\", \"peas\", \"tomatoes\", \"spaghetti\")\n",
    "\n"
   ]
  },
  {
   "cell_type": "markdown",
   "metadata": {},
   "source": [
    "## Activity 5\n",
    "Create a function that builds an address block for an envelope when given specific individual values for the address.\n",
    "\n",
    "* Start with individual values for salutation (*Mr.*, *Ms.*, *Dr.*, etc.), first name, last name, street address, city, state, and ZIP.\n",
    "* Prompt the user for each of these individual values.\n",
    "* Display an address block that includes the person's full name (in the order *Salutation Firstname Lastname*) on the first line, the street address on the second line, and the city/state/zip on the third line.\n",
    "\n",
    "### Challenge\n",
    "Set up the program so that the salutation is optional, and if the user does not provide one, the first line of the address block starts with the input first name without a preceding space."
   ]
  },
  {
   "cell_type": "code",
   "execution_count": null,
   "metadata": {},
   "outputs": [],
   "source": [
    "# your code here"
   ]
  }
 ],
 "metadata": {
  "kernelspec": {
   "display_name": "Python 3 (ipykernel)",
   "language": "python",
   "name": "python3"
  },
  "language_info": {
   "codemirror_mode": {
    "name": "ipython",
    "version": 3
   },
   "file_extension": ".py",
   "mimetype": "text/x-python",
   "name": "python",
   "nbconvert_exporter": "python",
   "pygments_lexer": "ipython3",
   "version": "3.9.13"
  }
 },
 "nbformat": 4,
 "nbformat_minor": 2
}
