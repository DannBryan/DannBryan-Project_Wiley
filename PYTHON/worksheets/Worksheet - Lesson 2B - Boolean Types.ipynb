{
 "cells": [
  {
   "cell_type": "markdown",
   "metadata": {},
   "source": [
    "# Worksheet: Boolean Types\n",
    "This worksheet includes the practice activities for *Lesson 2B: Boolean Types* in the online course. Refer to that lesson as necessary to complete these activities."
   ]
  },
  {
   "cell_type": "markdown",
   "metadata": {},
   "source": [
    "## Practice 1\n",
    "Create boolean variables to store your answers to the following questions. Use `True` for yes and `False` for no.\n",
    "* Do you live in the United States?\n",
    "* Have you ever lived in New Hampshire?\n",
    "* Have you ever lived in Boston?\n",
    "* Have you ever been to California?\n",
    "\n",
    "The code should display the value and type for each variable."
   ]
  },
  {
   "cell_type": "code",
   "execution_count": 10,
   "metadata": {},
   "outputs": [
    {
     "name": "stdout",
     "output_type": "stream",
     "text": [
      "live in US? False\n",
      "live in NH? False\n",
      "live in Boston? False\n",
      "visit_to_ca? True\n"
     ]
    }
   ],
   "source": [
    "\n",
    "\n",
    "live_in_US=False\n",
    "live_in_nh=False\n",
    "live_in_boston=False\n",
    "visit_to_ca=True\n",
    "print(\"live in US?\", live_in_US)\n",
    "print(\"live in NH?\", live_in_nh)\n",
    "print(\"live in Boston?\", live_in_boston)\n",
    "print(\"visit_to_ca?\", visit_to_ca)\n",
    "#complete"
   ]
  },
  {
   "cell_type": "markdown",
   "metadata": {},
   "source": [
    "## Practice 2a\n",
    "Update the code below to include an additional variable `d`. Assign a value of your choice (number or string) and determine the boolean value for that value using the pattern provided for the existing variables. \n",
    "\n",
    "Can you find any other values that convert to `False` besides 0? (**Hint**: Try using an empty value.)"
   ]
  },
  {
   "cell_type": "code",
   "execution_count": 4,
   "metadata": {},
   "outputs": [
    {
     "name": "stdout",
     "output_type": "stream",
     "text": [
      "0\n",
      "False\n",
      "1\n",
      "True\n",
      "2\n",
      "True\n",
      "1\n",
      "True\n",
      "1\n",
      "True\n"
     ]
    }
   ],
   "source": [
    "a = 0\n",
    "b =  1\n",
    "c = 2\n",
    "d = 1\n",
    "e = 1\n",
    "\n",
    "print(a)\n",
    "print(bool(a))\n",
    "print(b)\n",
    "print(bool(b))\n",
    "print(c)\n",
    "print(bool(c))\n",
    "print(d)\n",
    "print(bool(d))\n",
    "print(e)\n",
    "print(bool(e))"
   ]
  },
  {
   "cell_type": "markdown",
   "metadata": {},
   "source": [
    "## Practice 2b\n",
    "Update the following code so all the tests return `True`. \n",
    "\n",
    "**Hint**: You will need to update the values for `test` so the `bool` function returns `True` in all situations."
   ]
  },
  {
   "cell_type": "code",
   "execution_count": 7,
   "metadata": {},
   "outputs": [
    {
     "name": "stdout",
     "output_type": "stream",
     "text": [
      "1 : True\n",
      "5.0 : True\n",
      "yes indeed : True\n",
      "True : True\n",
      "Easy string : True\n"
     ]
    }
   ],
   "source": [
    "test = 1\n",
    "print(test,':',bool(test))\n",
    "test = 5.0\n",
    "print(test,':',bool(test))\n",
    "test = \"yes indeed\"\n",
    "print(test,':',bool(test))\n",
    "test = True\n",
    "print(test,':',bool(test))\n",
    "test = 'Easy string'\n",
    "print(test,':',bool(test))"
   ]
  },
  {
   "cell_type": "markdown",
   "metadata": {},
   "source": [
    "## Practice 3a\n",
    "Run the code below and answer each question with true or false based on the operation displayed."
   ]
  },
  {
   "cell_type": "markdown",
   "metadata": {},
   "source": [
    "## Practice 3b\n",
    "Now create a program that performs each of the logic operations in the previous exercise to check your answers.\n",
    "\n",
    "The code below shows the results for variable `a`. Use that model to create the statements for the remaining variables."
   ]
  },
  {
   "cell_type": "code",
   "execution_count": 15,
   "metadata": {},
   "outputs": [
    {
     "name": "stdout",
     "output_type": "stream",
     "text": [
      "True\n",
      "False\n",
      "False\n",
      "True\n",
      "False\n",
      "False\n"
     ]
    }
   ],
   "source": [
    "a = True and True\n",
    "print(a)\n",
    "b != False and False\n",
    "print(b)\n",
    "c = False and False\n",
    "print(c)\n",
    "print(a)\n",
    "print(b)\n",
    "print(c)"
   ]
  },
  {
   "cell_type": "markdown",
   "metadata": {},
   "source": [
    "## Practice 4a\n",
    "Run the following code and answer each question with true or false. \n",
    "\n",
    "Pay attention to details!"
   ]
  },
  {
   "cell_type": "code",
   "execution_count": 1,
   "metadata": {},
   "outputs": [
    {
     "name": "stdout",
     "output_type": "stream",
     "text": [
      "What is the output of the following operation: num1 != num2 ? true\n",
      "What is the output of the following operation: num1 == num2 ? false\n",
      "What is the output of the following operation: num1 > num2 ? false\n",
      "What is the output of the following operation: num2 >= num2 ? true\n",
      "What is the output of the following operation: num2 is not num2? false\n"
     ]
    }
   ],
   "source": [
    "num1 = 2\n",
    "num2 = 3\n",
    "a = input(\"What is the output of the following operation: num1 != num2 ? \")\n",
    "b = input(\"What is the output of the following operation: num1 == num2 ? \")\n",
    "c = input(\"What is the output of the following operation: num1 > num2 ? \")\n",
    "d = input(\"What is the output of the following operation: num2 >= num2 ? \")\n",
    "e = input(\"What is the output of the following operation: num2 is not num2? \")\n",
    "#complete"
   ]
  },
  {
   "cell_type": "markdown",
   "metadata": {},
   "source": [
    "## Practice 4b\n",
    "Now create a separate program that evaluates each statement above and returns the real value so you can check your answers.\n",
    "\n",
    "The code below shows the output for `a` as a model. You should add similar code for each of the variables in Practice 4a and then run the program to compare your answers from Practice 4a to how Python actually evaluates each statement."
   ]
  },
  {
   "cell_type": "code",
   "execution_count": 3,
   "metadata": {},
   "outputs": [
    {
     "name": "stdout",
     "output_type": "stream",
     "text": [
      "True\n",
      "False\n",
      "False\n",
      "False\n",
      "False\n"
     ]
    }
   ],
   "source": [
    "num1 = 2\n",
    "num2 = 3\n",
    "a = (num1 != num2)\n",
    "print(a)\n",
    "\n",
    "b = num1 == num2\n",
    "print(b)\n",
    "\n",
    "c = num1 > num2\n",
    "print (c)\n",
    "\n",
    "d = num1 >= num2\n",
    "print(d)\n",
    "\n",
    "e = num2 is not num2\n",
    "print (e)\n",
    "\n",
    "#complete"
   ]
  },
  {
   "cell_type": "code",
   "execution_count": null,
   "metadata": {},
   "outputs": [],
   "source": []
  }
 ],
 "metadata": {
  "kernelspec": {
   "display_name": "Python 3 (ipykernel)",
   "language": "python",
   "name": "python3"
  },
  "language_info": {
   "codemirror_mode": {
    "name": "ipython",
    "version": 3
   },
   "file_extension": ".py",
   "mimetype": "text/x-python",
   "name": "python",
   "nbconvert_exporter": "python",
   "pygments_lexer": "ipython3",
   "version": "3.9.13"
  }
 },
 "nbformat": 4,
 "nbformat_minor": 2
}
