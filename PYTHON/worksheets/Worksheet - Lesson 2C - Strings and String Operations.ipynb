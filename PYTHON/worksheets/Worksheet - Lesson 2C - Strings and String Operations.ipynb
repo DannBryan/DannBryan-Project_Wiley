{
 "cells": [
  {
   "cell_type": "markdown",
   "metadata": {},
   "source": [
    "# Worksheet: Strings and String Operations\n",
    "This worksheet includes the practice activities for `Lesson 2c: Strings and String Operations` in the online course. Refer to that lesson as necessary to complete these activities."
   ]
  },
  {
   "cell_type": "markdown",
   "metadata": {},
   "source": [
    "## Practice 1\n",
    "Create five different variables that contain strings. Use the `print` command to display the variables. "
   ]
  },
  {
   "cell_type": "code",
   "execution_count": 6,
   "metadata": {},
   "outputs": [
    {
     "name": "stdout",
     "output_type": "stream",
     "text": [
      "First\n",
      "Second\n",
      "Third\n",
      "Forth\n",
      "Fifth\n"
     ]
    }
   ],
   "source": [
    "# your code here\n",
    "\n",
    "a = \"First\"\n",
    "b = \"Second\"\n",
    "c = \"Third\"\n",
    "d = \"Forth\"\n",
    "e = \"Fifth\"\n",
    "print(a)\n",
    "print(b)\n",
    "print(c)\n",
    "print(d)\n",
    "print(e)"
   ]
  },
  {
   "cell_type": "markdown",
   "metadata": {},
   "source": [
    "## Practice 2\n",
    "Create a script that performs the following steps:\n",
    "1. Prompt the user for their first name and store the input in a variable.\n",
    "2. Prompt the user for their last name and store the input in a separate variable.\n",
    "2. Calculate and return the sum of the lengths of both names."
   ]
  },
  {
   "cell_type": "code",
   "execution_count": 5,
   "metadata": {},
   "outputs": [
    {
     "name": "stdout",
     "output_type": "stream",
     "text": [
      "enter your first name: Dannie\n",
      "enter your last name: Dann\n",
      "10\n"
     ]
    }
   ],
   "source": [
    "first=input(\"enter your first name: \")\n",
    "last=input(\"enter your last name: \")\n",
    "\n",
    "#sum_length = len(first)+len(last)\n",
    "\n",
    "print(len(first)+len(last))"
   ]
  },
  {
   "cell_type": "markdown",
   "metadata": {},
   "source": [
    "## Practice 3\n",
    "Fix  the following code so the output displays only the character H and all instances of the character o."
   ]
  },
  {
   "cell_type": "code",
   "execution_count": 20,
   "metadata": {},
   "outputs": [
    {
     "name": "stdout",
     "output_type": "stream",
     "text": [
      "o 2\n",
      "o 3\n"
     ]
    }
   ],
   "source": [
    "message = \"Hello, World!\"\n",
    "#print(message[0])\n",
    "#print(message[4])\n",
    "#print(message[8])\n",
    "#print(message[12])\n",
    "\n",
    "#print(len(message))\n",
    "counter = 1\n",
    "\n",
    "for c in message:\n",
    "   \n",
    "    if c == \"o\":\n",
    "        counter = counter + 1\n",
    "        print (c, counter)\n",
    "        \n",
    "\n",
    "\n",
    "        #print(message.find(\"o\")) \n",
    "#finds your character position\n",
    "\n",
    "\n"
   ]
  },
  {
   "cell_type": "markdown",
   "metadata": {},
   "source": [
    "## Practice 4\n",
    "Create a script that performs the following steps:\n",
    "1. Prompt the user for the name of the city where they were born.\n",
    "1. Display the number of characters in the name of the city, with an appropriate message.\n",
    "1. Display the first letter of the name of the city, with an appropriate message.\n",
    "1. Display the third from the last letter of the name of the city, with an appropriate message."
   ]
  },
  {
   "cell_type": "code",
   "execution_count": 9,
   "metadata": {},
   "outputs": [
    {
     "name": "stdout",
     "output_type": "stream",
     "text": [
      "In which city were you born: Hitchin\n",
      "There are 7 ('letters in: ', 'Hitchin')\n"
     ]
    },
    {
     "ename": "TypeError",
     "evalue": "'builtin_function_or_method' object is not subscriptable",
     "output_type": "error",
     "traceback": [
      "\u001b[1;31m---------------------------------------------------------------------------\u001b[0m",
      "\u001b[1;31mTypeError\u001b[0m                                 Traceback (most recent call last)",
      "\u001b[1;32m~\\AppData\\Local\\Temp\\ipykernel_10408\\2108525206.py\u001b[0m in \u001b[0;36m<module>\u001b[1;34m\u001b[0m\n\u001b[0;32m      1\u001b[0m \u001b[0mmessage\u001b[0m \u001b[1;33m=\u001b[0m \u001b[0minput\u001b[0m\u001b[1;33m(\u001b[0m\u001b[1;34m\"In which city were you born: \"\u001b[0m\u001b[1;33m)\u001b[0m\u001b[1;33m\u001b[0m\u001b[1;33m\u001b[0m\u001b[0m\n\u001b[0;32m      2\u001b[0m \u001b[0mprint\u001b[0m\u001b[1;33m(\u001b[0m\u001b[1;34m\"There are\"\u001b[0m\u001b[1;33m,\u001b[0m\u001b[0mlen\u001b[0m\u001b[1;33m(\u001b[0m\u001b[0mmessage\u001b[0m\u001b[1;33m)\u001b[0m\u001b[1;33m,\u001b[0m\u001b[1;33m(\u001b[0m\u001b[1;34m\"letters in: \"\u001b[0m\u001b[1;33m,\u001b[0m\u001b[1;33m(\u001b[0m\u001b[0mmessage\u001b[0m\u001b[1;33m)\u001b[0m\u001b[1;33m)\u001b[0m\u001b[1;33m)\u001b[0m\u001b[1;33m\u001b[0m\u001b[1;33m\u001b[0m\u001b[0m\n\u001b[1;32m----> 3\u001b[1;33m \u001b[0mprint\u001b[0m\u001b[1;33m(\u001b[0m\u001b[0mmessage\u001b[0m\u001b[1;33m.\u001b[0m\u001b[0mfind\u001b[0m\u001b[1;33m[\u001b[0m\u001b[1;36m0\u001b[0m\u001b[1;33m]\u001b[0m\u001b[1;33m)\u001b[0m\u001b[1;33m\u001b[0m\u001b[1;33m\u001b[0m\u001b[0m\n\u001b[0m",
      "\u001b[1;31mTypeError\u001b[0m: 'builtin_function_or_method' object is not subscriptable"
     ]
    }
   ],
   "source": [
    "message = input(\"In which city were you born: \")\n",
    "print(\"There are\",len(message),(\"letters in: \",(message)))\n",
    "print(message.find[0])\n"
   ]
  },
  {
   "cell_type": "markdown",
   "metadata": {},
   "source": [
    "## Practice 5\n",
    "Create a script that performs the following steps:\n",
    "* Prompt the user for their first name and store the input in a variable.\n",
    "* Display the value in the same case the user entered it, in uppercase, and in lowercase.\n",
    "* Calculate the number of characters in their first name and display the result."
   ]
  },
  {
   "cell_type": "code",
   "execution_count": 12,
   "metadata": {},
   "outputs": [
    {
     "name": "stdout",
     "output_type": "stream",
     "text": [
      "Enter your first name: Dannie Bryan\n",
      "Dannie Bryan\n",
      "dannie bryan\n",
      "DANNIE BRYAN\n"
     ]
    }
   ],
   "source": [
    "first = input(\"Enter your first name: \")\n",
    "print(first)\n",
    "\n",
    "print(first.lower())\n",
    "print(first.upper())"
   ]
  },
  {
   "cell_type": "markdown",
   "metadata": {},
   "source": [
    "## Practice 6\n",
    "Write a script that performs the following steps:\n",
    "1. Prompt the user to enter their full name in the format \"last\\_name, first\\_name\".\n",
    "1. Split the input into the separate names and display the result.\n",
    "\n",
    "It's fine if the last name still includes the comma from the original user input."
   ]
  },
  {
   "cell_type": "code",
   "execution_count": 2,
   "metadata": {},
   "outputs": [
    {
     "name": "stdout",
     "output_type": "stream",
     "text": [
      "Enter your name, 'using last name, first name,' format Bryan, Dann\n",
      "Bryan\n",
      "Dann\n"
     ]
    }
   ],
   "source": [
    "fullname=input(\"Enter your name, 'using last name, first name,' format \")\n",
    "\n",
    "lastname, firstname = fullname.split(\", \")\n",
    "print(lastname)\n",
    "print(firstname)\n",
    "#complete"
   ]
  },
  {
   "cell_type": "markdown",
   "metadata": {
    "collapsed": true
   },
   "source": [
    "## Practice 7a\n",
    "Update the code below so the `print` command returns `True` in all cases. Use the inequality operator (`!=`) at least once."
   ]
  },
  {
   "cell_type": "code",
   "execution_count": 3,
   "metadata": {},
   "outputs": [
    {
     "name": "stdout",
     "output_type": "stream",
     "text": [
      "True\n",
      "True\n",
      "True\n"
     ]
    }
   ],
   "source": [
    "string1 = \"This is a string\"\n",
    "string2 = \"This  is a string  \" \n",
    "print(string1 != string2)\n",
    "print(string1[0:5] == string2[0:5])\n",
    "print(string1[10:] != string2[10:]) #space makes it not equal\n",
    "#complete"
   ]
  },
  {
   "cell_type": "code",
   "execution_count": 10,
   "metadata": {},
   "outputs": [
    {
     "name": "stdout",
     "output_type": "stream",
     "text": [
      " string  \n"
     ]
    }
   ],
   "source": [
    "print(string2[10:])"
   ]
  },
  {
   "cell_type": "markdown",
   "metadata": {},
   "source": [
    "## Practice 7b\n",
    "One common problem we run into when we ask users to enter data is that some users prefer to type only in lowercase, others use mixed case, while others sometimes have Caps Lock on (intentionally or not!). Although passwords and other security strings are typically case-sensitive, other values like web addresses and usernames are normally not sensitive to case, even though the system that manages those values (such as a web server OS or a programming language) may be case-sensitive. \n",
    "\n",
    "We could ask that a user types only uppercase or lowercase, but there is no guarantee that they will do so. Instead, we can use a script to normalize the characters to work within the system. \n",
    "\n",
    "Update the code below so that it works as follows:\n",
    "* It accepts the user input in any case.\n",
    "* It compares the user input to a preexisting `value1`, stored in lowercase.\n",
    "* It returns `True` if if the lowercase version of the user input is the same as the preexisting value, regardless of the input's case.\n",
    "* It returns `False` if the values are not the same.\n",
    "\n",
    "Be sure to test the program using lowercase input, uppercase input, and mixed case input, as well as misspelled input. In the code below, \"username\" is the preexisting value, but you can change this to a different value if you wish."
   ]
  },
  {
   "cell_type": "code",
   "execution_count": 6,
   "metadata": {},
   "outputs": [
    {
     "name": "stdout",
     "output_type": "stream",
     "text": [
      "Enter your username: GangmanTTT\n",
      "False\n"
     ]
    }
   ],
   "source": [
    "value1 = \"username\"\n",
    "value2 = input(\"Enter your username: \")\n",
    "\n",
    "\n",
    "print(value1.lower() == value2.lower())\n"
   ]
  },
  {
   "cell_type": "markdown",
   "metadata": {},
   "source": [
    "## Practice 8\n",
    "Update the following code to display the full name in uppercase.\n",
    "\n",
    "The full name must be displayed last name first, e.g., _SMITHJOHN_. \n",
    "\n",
    "As an additional step, include a comma and a space between the last name and the first name, e.g., _SMITH, JOHN_."
   ]
  },
  {
   "cell_type": "code",
   "execution_count": 14,
   "metadata": {},
   "outputs": [
    {
     "name": "stdout",
     "output_type": "stream",
     "text": [
      "SMITH, JOHN\n"
     ]
    }
   ],
   "source": [
    "first_name = \"John\"\n",
    "last_name = \"Smith,\"\n",
    "print(last_name.upper(), first_name.upper())\n",
    "#not correct? right output wrong way"
   ]
  },
  {
   "cell_type": "markdown",
   "metadata": {},
   "source": [
    "## Practice 9\n",
    "Update the print statements in the following code to display `True` in all cases. Do not change the original strings."
   ]
  },
  {
   "cell_type": "code",
   "execution_count": 30,
   "metadata": {},
   "outputs": [
    {
     "name": "stdout",
     "output_type": "stream",
     "text": [
      "True\n",
      "True\n",
      "False\n",
      "False\n"
     ]
    }
   ],
   "source": [
    "first_name = \"John\"\n",
    "last_name  = \"Smith\"\n",
    "print(\"J\" in first_name)\n",
    "print(\"S\" in last_name)\n",
    "print(\"ih\" in last_name)\n",
    "print(\"on\" in first_name)"
   ]
  },
  {
   "cell_type": "markdown",
   "metadata": {},
   "source": [
    "## Practice 10\n",
    "Update the code below to use slicing to complete the following tasks: \n",
    "* Extract the first name from the string and assign it to a variable.\n",
    "* Extract the last name from the string and assign it to a variable.\n",
    "* Display the first name and last name in uppercase using separate `print` statements. \n",
    "* Display the person's initials as a single string in uppercase.\n",
    "\n",
    "**Challenge**: When you have completed the steps above for a first and last name, modify the code to include a middle name."
   ]
  },
  {
   "cell_type": "code",
   "execution_count": 15,
   "metadata": {},
   "outputs": [
    {
     "name": "stdout",
     "output_type": "stream",
     "text": [
      "JOHN\n",
      "SMITH,\n"
     ]
    }
   ],
   "source": [
    "name=\"John Smith\"\n",
    "\n",
    "first_name,last_name.split()\n",
    "\n",
    "print(first_name.upper())\n",
    "print(last_name.upper())\n",
    "#print(first_name[0].upper()) #incomplete"
   ]
  },
  {
   "cell_type": "code",
   "execution_count": null,
   "metadata": {},
   "outputs": [],
   "source": []
  }
 ],
 "metadata": {
  "kernelspec": {
   "display_name": "Python 3 (ipykernel)",
   "language": "python",
   "name": "python3"
  },
  "language_info": {
   "codemirror_mode": {
    "name": "ipython",
    "version": 3
   },
   "file_extension": ".py",
   "mimetype": "text/x-python",
   "name": "python",
   "nbconvert_exporter": "python",
   "pygments_lexer": "ipython3",
   "version": "3.9.13"
  }
 },
 "nbformat": 4,
 "nbformat_minor": 2
}
