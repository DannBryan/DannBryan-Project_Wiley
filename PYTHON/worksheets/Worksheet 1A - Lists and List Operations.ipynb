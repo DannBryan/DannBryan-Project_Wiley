{
 "cells": [
  {
   "cell_type": "markdown",
   "metadata": {},
   "source": [
    "# Worksheet 1A: Lists and List Operations\n",
    "This worksheet corresponds to *Lesson 1A: Lists and List Operations* in the online course. Refer to that lesson as necessary to complete the practice exercises here."
   ]
  },
  {
   "cell_type": "markdown",
   "metadata": {},
   "source": [
    "## Practice 1\n",
    "Create a list that contains  the following information (in this specific order):\t\n",
    "* Your first name \t\n",
    "* Your last name\t\n",
    "* Your age\t\n",
    "* The average number of miles you travel to work every day (round trip)"
   ]
  },
  {
   "cell_type": "code",
   "execution_count": 1,
   "metadata": {},
   "outputs": [
    {
     "name": "stdout",
     "output_type": "stream",
     "text": [
      "['Dannie', 'Bryan', 33, 55]\n"
     ]
    }
   ],
   "source": [
    "# your code here\n",
    "\n",
    "my_list = [\"Dannie\",\"Bryan\", 33, 55 ]\n",
    "print(my_list)\n",
    "#complete"
   ]
  },
  {
   "cell_type": "markdown",
   "metadata": {},
   "source": [
    "## Practice 2\n",
    "Modify the list definition (add or remove elements) so the `print` command displays `True`. "
   ]
  },
  {
   "cell_type": "code",
   "execution_count": 3,
   "metadata": {},
   "outputs": [
    {
     "name": "stdout",
     "output_type": "stream",
     "text": [
      "True\n"
     ]
    }
   ],
   "source": [
    "list_of_strings = [\"Kate\", \"Jennifer\", \"Mike\", \"Dann\", \"Wiley\"]\n",
    "\n",
    "# do not change the following code\n",
    "test = len(list_of_strings) == 5 # check that the size of the list is equal to 5\n",
    "print(test)\n",
    "#complete"
   ]
  },
  {
   "cell_type": "markdown",
   "metadata": {},
   "source": [
    "## Practice 3a\n",
    "Update the following code to display only the first character of each name in the list of names.\n",
    "\n",
    "**Tip**: Review the use of index values in strings."
   ]
  },
  {
   "cell_type": "code",
   "execution_count": 10,
   "metadata": {},
   "outputs": [
    {
     "name": "stdout",
     "output_type": "stream",
     "text": [
      "K\n",
      "J\n",
      "M\n"
     ]
    }
   ],
   "source": [
    "list_of_strings = [\"Kate\", \"Jennifer\", \"Mike\"]\n",
    "person_1 = list_of_strings[0] # access the first element of the list\n",
    "print(person_1[0])\n",
    "\n",
    "person_2 = list_of_strings[1][0] # access the second element of the list\n",
    "print(person_2) #different solution to 1 and 3. \n",
    "                #second 0 asks for 1st letter only\n",
    "\n",
    "person_3 = list_of_strings[2] # access the third (and last) element of the list\n",
    "print(person_3[0])"
   ]
  },
  {
   "cell_type": "code",
   "execution_count": 1,
   "metadata": {},
   "outputs": [
    {
     "name": "stdout",
     "output_type": "stream",
     "text": [
      "s\n"
     ]
    }
   ],
   "source": [
    "value = \"string\"\n",
    "print(value[0:1])\n",
    "#an\n",
    "#alternative method"
   ]
  },
  {
   "cell_type": "markdown",
   "metadata": {},
   "source": [
    "## Practice 3b\n",
    "When we use the `split` function on a string that contains multiple words, Python creates a list that includes each word in the string as a separate item in the list.\n",
    "\n",
    "Create a script that performs the following steps:\t\n",
    "1. Prompt the user for their name in the format: \"last_name, first_name\".\t\n",
    "1. Use the `split` function to separate the names in the input string.\t\n",
    "1. Store each name in its own variable.\t\n",
    "1. Display the first name to the user with an appropriate feedback message.\t\n",
    "1. Display the last name to the user without the comma and with an appropriate feedback message.\t\n",
    "\n",
    "**Challenge**: Allow the user to enter their name using any case. Display each name with only the first letter capitalized, regardless of the case used to enter the name."
   ]
  },
  {
   "cell_type": "code",
   "execution_count": 5,
   "metadata": {},
   "outputs": [
    {
     "ename": "SyntaxError",
     "evalue": "unexpected EOF while parsing (730434988.py, line 7)",
     "output_type": "error",
     "traceback": [
      "\u001b[1;36m  File \u001b[1;32m\"C:\\Users\\mattb\\AppData\\Local\\Temp\\ipykernel_58480\\730434988.py\"\u001b[1;36m, line \u001b[1;32m7\u001b[0m\n\u001b[1;33m    #print(user_name[1:]) #start position and open (nothing\\0) will comolete\u001b[0m\n\u001b[1;37m                                                                            ^\u001b[0m\n\u001b[1;31mSyntaxError\u001b[0m\u001b[1;31m:\u001b[0m unexpected EOF while parsing\n"
     ]
    }
   ],
   "source": [
    "# your code here\n",
    "user_name = input(\"Enter your name: \")\n",
    "print(user_name[0].upper(user_name[1:]))\n",
    "print(user_name[-1])\n",
    "print(len(user_name)\n",
    "    \n",
    "#print(user_name[1:]) #start position and open (nothing\\0) will comolete"
   ]
  },
  {
   "cell_type": "markdown",
   "metadata": {},
   "source": [
    "## Practice 4\n",
    "Fix the following code so each of the `print` lines displays the expected data."
   ]
  },
  {
   "cell_type": "code",
   "execution_count": 1,
   "metadata": {},
   "outputs": [
    {
     "name": "stdout",
     "output_type": "stream",
     "text": [
      "First name: John\n",
      "Last name: Smith\n",
      "Address: 123 East Main Street\n",
      "City: Boston\n",
      "Profession: Junior Software Developer\n"
     ]
    }
   ],
   "source": [
    "# do not change the first line\n",
    "info = [\"John\", \"Smith\", \"123 East Main Street\", \"Boston\", \"Junior Software Developer\"]\n",
    "\n",
    "# change the index values in the output statements\n",
    "print(\"First name: \" + info[-5])\n",
    "print(\"Last name: \" + info[-4])\n",
    "print(\"Address: \" + info[-3])\n",
    "print(\"City: \" + info[-2])\n",
    "print(\"Profession: \" + info[-1])"
   ]
  },
  {
   "cell_type": "markdown",
   "metadata": {},
   "source": [
    "## Practice 5a\n",
    "Using the code below as a starting point, update the slicing code for `team_1` and `team_3` **without** referencing both index values. The output should not change."
   ]
  },
  {
   "cell_type": "code",
   "execution_count": 9,
   "metadata": {},
   "outputs": [
    {
     "name": "stdout",
     "output_type": "stream",
     "text": [
      "['John', 'Mike', 'Serena', 'Jennifer', 'Abby', 'Lisa']\n",
      "The first team is:\n",
      "['John', 'Mike']\n",
      "The second team is:\n",
      "['Serena', 'Jennifer']\n",
      "The third team is:\n",
      "['Abby', 'Lisa']\n"
     ]
    }
   ],
   "source": [
    "list_of_names = [\"John\", \"Mike\", \"Serena\", \"Jennifer\", \"Abby\", \"Lisa\"]\n",
    "print(list_of_names)\n",
    "\n",
    "team_1 = list_of_names[2:] #use slicing to retrieve the first two elements\n",
    "print(\"The first team is:\")\n",
    "print(team_1)\n",
    "\n",
    "team_2 = list_of_names[2:4] #use slicing to retrieve the middle two elements\n",
    "print(\"The second team is:\")\n",
    "print(team_2)\n",
    "\n",
    "team_3 = list_of_names[-1:] #use slicing to retrieve the last two elements\n",
    "print(\"The third team is:\")\n",
    "print(team_3)"
   ]
  },
  {
   "cell_type": "markdown",
   "metadata": {},
   "source": [
    "## Practice 5b\n",
    "The list below contains the abbreviations for all states in the USA.\n",
    "\n",
    "Use slicing to create three new lists:\t\n",
    "* One list that contains all states that start with M\t\n",
    "* One list that contains all states that start with W\t\n",
    "* One list that contains all states that start with V"
   ]
  },
  {
   "cell_type": "code",
   "execution_count": 12,
   "metadata": {},
   "outputs": [
    {
     "name": "stdout",
     "output_type": "stream",
     "text": [
      "['ME', 'MD', 'MA', 'MI', 'MN', 'MS', 'MO']\n",
      "['WA', 'WV', 'WI', 'WY']\n",
      "['VT', 'VA']\n"
     ]
    }
   ],
   "source": [
    "states = [\"AL\", \"AK\", \"AZ\", \"AR\", \"CA\", \"CO\", \"CT\", \"DE\", \"FL\", \"GA\", \n",
    "          \"HI\", \"ID\", \"IL\", \"IN\", \"IA\", \"KS\", \"KY\", \"LA\", \"ME\", \"MD\", \n",
    "          \"MA\", \"MI\", \"MN\", \"MS\", \"MO\", \"MT\", \"NE\", \"NV\", \"NH\", \"NJ\", \n",
    "          \"NM\", \"NY\", \"NC\", \"ND\", \"OH\", \"OK\", \"OR\", \"PA\", \"RI\", \"SC\", \n",
    "          \"SD\", \"TN\", \"TX\", \"UT\", \"VT\", \"VA\", \"WA\", \"WV\", \"WI\", \"WY\"]\n",
    "#method1\n",
    "x = slice(18, 25)\n",
    "list_m = states[x]\n",
    "print(list_m)\n",
    "#method 2\n",
    "list_w = states [46:50]\n",
    "print(list_w)\n",
    "list_v = states [-6:-4]\n",
    "print(list_v)\n",
    "\n",
    "\n",
    "# complete"
   ]
  },
  {
   "cell_type": "markdown",
   "metadata": {},
   "source": [
    "## Practice 6\n",
    "Using the `append` method, add  the following information in this specific order: \t\n",
    "* Your first name \t\n",
    "* Your last name\t\n",
    "* Your age\t\n",
    "* The average number of miles you travel to work every day (round trip)"
   ]
  },
  {
   "cell_type": "code",
   "execution_count": 16,
   "metadata": {},
   "outputs": [
    {
     "name": "stdout",
     "output_type": "stream",
     "text": [
      "['Dannie', 'Bee', 45, 'faf']\n"
     ]
    }
   ],
   "source": [
    "info = []  # the info list is initially empty\n",
    "\n",
    "info.append(\"Dannie\")\n",
    "info.append(\"Bee\")\n",
    "info.append(45)\n",
    "info.append(\"faf\")\n",
    "\n",
    "print(info)\n",
    "# continue code here"
   ]
  },
  {
   "cell_type": "markdown",
   "metadata": {},
   "source": [
    "## Practice 7\n",
    "Use the `insert` method to add the appropriate information to the list and then update the `print` statements so the data is displayed correctly. Use any random address.\t\n",
    "\n",
    "**Hint**: You will need to add the address to `info` at the appropriate index. "
   ]
  },
  {
   "cell_type": "code",
   "execution_count": 19,
   "metadata": {},
   "outputs": [
    {
     "name": "stdout",
     "output_type": "stream",
     "text": [
      "First name: John\n",
      "Last name: Smith\n",
      "Address: Boston\n",
      "City: Penthouse Floor Nakatomi Tower\n"
     ]
    }
   ],
   "source": [
    "info = [\"John\", \"Smith\", \"Boston\", \"Junior Software Developer\"]\n",
    "#your code goes here \n",
    "info.insert(2,\"Penthouse Floor Nakatomi Tower\")\n",
    "\n",
    "#this code should be executed last \n",
    "print(\"First name: \" + info[0])\n",
    "print(\"Last name: \" + info[1])\n",
    "print(\"Address: \" + info[3])\n",
    "print(\"City: \" + info[2])\n",
    "#print(\"Profession: \" + info[3])"
   ]
  },
  {
   "cell_type": "markdown",
   "metadata": {},
   "source": [
    "## Practice 8\n",
    "Use the `remove` method in the code below to delete all duplicate values in the list. \n",
    "\n",
    "Each value in the original list should be included exactly one time in the final version of the list."
   ]
  },
  {
   "cell_type": "code",
   "execution_count": 20,
   "metadata": {},
   "outputs": [
    {
     "name": "stdout",
     "output_type": "stream",
     "text": [
      "['Haythem', 1, 'Layla', 'Livia', 'Layla', 2, 1, 2, 3, 'Mike', 'Jesse', 'Haythem']\n"
     ]
    }
   ],
   "source": [
    "input_list = [\"Haythem\", \"Mike\", 1, \"Layla\", \"Livia\", \"Layla\", 2, 1, 2, 3, \"Mike\", \"Jesse\", \"Haythem\"]\n",
    "\n",
    "input_list.remove(\"Mike\")\n",
    "print(input_list)\n",
    "# mike is removed "
   ]
  },
  {
   "cell_type": "code",
   "execution_count": 21,
   "metadata": {},
   "outputs": [
    {
     "name": "stdout",
     "output_type": "stream",
     "text": [
      "2\n",
      "['Haythem', 'Mike', 1, 'Layla', 'Livia', 'Layla', 2, 1, 2, 3, 'Mike', 'Jesse', 'Haythem']\n"
     ]
    }
   ],
   "source": [
    "input_list = [\"Haythem\", \"Mike\", 1, \"Layla\", \"Livia\", \"Layla\", 2, 1, 2, 3, \"Mike\", \"Jesse\", \"Haythem\"]\n",
    "\n",
    "print(input_list.count(\"Mike\"))\n",
    "print(input_list)\n",
    "#shows 2 ocurrance of mike\n",
    "new_list[]\n",
    "for item in input\\_list:\n",
    "        while input_list not in new_list.count(\"Mike\") >1:\n",
    "            new_list.remove(\"Mike\")\n",
    "#method 2 loops"
   ]
  },
  {
   "cell_type": "markdown",
   "metadata": {},
   "source": [
    "## Practice 9\n",
    "Create code below that performs the following steps: \t\n",
    "* Concatenate the three lists. \t\n",
    "* Use the `remove` method to delete all the negative numbers from the new list. "
   ]
  },
  {
   "cell_type": "code",
   "execution_count": 29,
   "metadata": {},
   "outputs": [
    {
     "name": "stdout",
     "output_type": "stream",
     "text": [
      "[1, -1, 4, 6, 0, 1, 67, -98, 45, 65, 2, -54, -434]\n",
      "[1, 4, 6, 0, 1, 67, 45, 65, 2, -434]\n"
     ]
    }
   ],
   "source": [
    "#method 1\n",
    "list_1 = [1,-1,4,6]\n",
    "list_2 = [0,1,67,-98]\n",
    "list_3 = [45,65,2,-54,-434]\n",
    "print(list_1 + list_2 + list_3)\n",
    "\n",
    "#method 2\n",
    "new_list = list_1 + list_2 + list_3\n",
    "print(new_list)\n",
    "    \n",
    "for item in new_list:\n",
    "    if item <0:\n",
    "        new_list.remove(item)\n",
    "    \n",
    "print(new_list)\n",
    "#complete"
   ]
  }
 ],
 "metadata": {
  "kernelspec": {
   "display_name": "Python 3 (ipykernel)",
   "language": "python",
   "name": "python3"
  },
  "language_info": {
   "codemirror_mode": {
    "name": "ipython",
    "version": 3
   },
   "file_extension": ".py",
   "mimetype": "text/x-python",
   "name": "python",
   "nbconvert_exporter": "python",
   "pygments_lexer": "ipython3",
   "version": "3.9.13"
  }
 },
 "nbformat": 4,
 "nbformat_minor": 2
}
