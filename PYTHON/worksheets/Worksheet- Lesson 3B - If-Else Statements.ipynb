{
 "cells": [
  {
   "cell_type": "markdown",
   "metadata": {},
   "source": [
    "# Worksheet: If-Else Statements\n",
    "This worksheet includes the practice activities for `Lesson 3B: If-Else Statements` in the online course. Refer to that lesson as necessary to complete these activities."
   ]
  },
  {
   "cell_type": "markdown",
   "metadata": {},
   "source": [
    "## Practice 1\n",
    "Change the code below to use an `if-else` statement instead of two separate `if` statements."
   ]
  },
  {
   "cell_type": "code",
   "execution_count": null,
   "metadata": {},
   "outputs": [],
   "source": []
  },
  {
   "cell_type": "code",
   "execution_count": 14,
   "metadata": {},
   "outputs": [
    {
     "name": "stdout",
     "output_type": "stream",
     "text": [
      "Are Natalie or John?Natalie\n",
      "This person is my sibling.\n"
     ]
    }
   ],
   "source": [
    "name = input(\"Are Natalie or John?\")\n",
    "if name == \"Natalie\":\n",
    "    print(\"This person is my sibling.\") \n",
    "elif name == \"John\":\n",
    "    print(\"This person is not my sibling.\")\n"
   ]
  },
  {
   "cell_type": "code",
   "execution_count": null,
   "metadata": {},
   "outputs": [],
   "source": [
    "### your code goes here"
   ]
  },
  {
   "cell_type": "markdown",
   "metadata": {},
   "source": [
    "## Practice 3\n",
    "Create a program that does the following:\n",
    "* Prompt the user to enter a single letter. \n",
    "* Check if the entered letter is uppercase or lowercase.\n",
    "    * If the character is uppercase, display the message: \"The user entered an uppercase letter.\"\n",
    "    * If the character is lowercase, display the message: \"The user entered a lowercase letter.\"\n",
    "\n",
    "**Hint**: Python supports the methods `string.isupper()` and `string.islower()` to evaluate the case of characters in a string. Neither method takes arguments."
   ]
  },
  {
   "cell_type": "code",
   "execution_count": 4,
   "metadata": {},
   "outputs": [
    {
     "name": "stdout",
     "output_type": "stream",
     "text": [
      "Enter a single letter. T\n",
      "Upper case\n"
     ]
    }
   ],
   "source": [
    "c=input(\"Enter a single letter. \")\n",
    "\n",
    "if c.isupper():\n",
    "    print(\"Upper case\")\n",
    "else:\n",
    "    print(\"Lower case\")\n",
    "    \n",
    "#complete"
   ]
  },
  {
   "cell_type": "code",
   "execution_count": null,
   "metadata": {},
   "outputs": [],
   "source": []
  }
 ],
 "metadata": {
  "kernelspec": {
   "display_name": "Python 3 (ipykernel)",
   "language": "python",
   "name": "python3"
  },
  "language_info": {
   "codemirror_mode": {
    "name": "ipython",
    "version": 3
   },
   "file_extension": ".py",
   "mimetype": "text/x-python",
   "name": "python",
   "nbconvert_exporter": "python",
   "pygments_lexer": "ipython3",
   "version": "3.9.13"
  }
 },
 "nbformat": 4,
 "nbformat_minor": 2
}
