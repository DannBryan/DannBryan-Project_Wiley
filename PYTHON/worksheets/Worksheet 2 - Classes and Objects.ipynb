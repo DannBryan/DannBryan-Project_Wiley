{
 "cells": [
  {
   "cell_type": "markdown",
   "metadata": {},
   "source": [
    "# Classes and Objects\n",
    "This worksheet corresponds to *Lesson 2: Classes and Objects* in the online course. Refer to that lesson as necessary to complete these practice exercises."
   ]
  },
  {
   "cell_type": "markdown",
   "metadata": {},
   "source": [
    "## Practice 1\n",
    "Create a class `Animal` that could represent any animal. \n",
    "\n",
    "Include at least two attributes within the new class."
   ]
  },
  {
   "cell_type": "code",
   "execution_count": 10,
   "metadata": {},
   "outputs": [
    {
     "name": "stdout",
     "output_type": "stream",
     "text": [
      "<__main__.animal object at 0x000001E5B108B8E0>\n"
     ]
    }
   ],
   "source": [
    "class animal:\n",
    "    no_ofLegs = \"\"\n",
    "    category = \"\"\n",
    "    \n",
    "animal_1 = animal()\n",
    "animal_1.no_of_legs = \"4\"\n",
    "animal_1.catagory = \"mammal\"\n",
    "\n",
    "print(animal_1)\n",
    "\n"
   ]
  },
  {
   "cell_type": "code",
   "execution_count": 19,
   "metadata": {},
   "outputs": [
    {
     "name": "stdout",
     "output_type": "stream",
     "text": [
      "First\n",
      "Last-new\n",
      "Paul\n",
      "jenkins\n"
     ]
    }
   ],
   "source": [
    "class person:\n",
    "    first_name = \"\"    #create class\n",
    "    last_name = \"\"      \n",
    "\n",
    "    \n",
    "    \n",
    "person_1 = person()   #create object\n",
    "\n",
    "person_1.first_name = \"First\"            #assign values to object\n",
    "person_1.last_name = \"Last-new\"\n",
    "print(person_1.first_name)              \n",
    "print(person_1.last_name)\n",
    "\n",
    "person_2 = person()\n",
    "person_2.first_name = \"Paul\"\n",
    "person_2.last_name = \"jenkins\"               #assign values to object\n",
    "\n",
    "print(person_2.first_name)\n",
    "print(person_2.last_name)          #show values\n"
   ]
  },
  {
   "cell_type": "code",
   "execution_count": 17,
   "metadata": {},
   "outputs": [
    {
     "name": "stdout",
     "output_type": "stream",
     "text": [
      "FirstInput\n",
      "LastInput\n"
     ]
    }
   ],
   "source": [
    "class person:\n",
    "    first_name = \"\"    #create class\n",
    "    last_name = \"\"      \n",
    "\n",
    "    def __init__(self, fn, ln):     #function, initialise  \"init\"\n",
    "        self.first_name = fn         #\n",
    "        self.last_name = ln\n",
    "                                              \n",
    "    \n",
    "person_1 = person(\"FirstInput\", \"LastInput\")   #assign value\n",
    "\n",
    "\n",
    "print(person_1.first_name)              \n",
    "print(person_1.last_name)\n",
    "\n"
   ]
  },
  {
   "cell_type": "markdown",
   "metadata": {},
   "source": [
    "## Practice 2\n",
    "Using the `Animal` class from the previous exercise, create three objects that represent animals.\n",
    "\n",
    "Print out all attributes for each animal."
   ]
  },
  {
   "cell_type": "code",
   "execution_count": 21,
   "metadata": {},
   "outputs": [
    {
     "name": "stdout",
     "output_type": "stream",
     "text": [
      "grass\n",
      "Mammal\n",
      "4\n",
      "ocean\n",
      "fish\n",
      "0\n"
     ]
    }
   ],
   "source": [
    "class animal:\n",
    "    living_environment = \"\"\n",
    "    category = \"\"\n",
    "    number_of_legs = \"\"\n",
    "    \n",
    "    def __init__(self, living_environment, category, number_of_legs):\n",
    "        self.living_environment = living_environment\n",
    "        self.category = category\n",
    "        self.number_of_legs = number_of_legs\n",
    "        \n",
    "animal_1 = animal(\"grass\", \"Mammal\", \"4\")\n",
    "    \n",
    "animal_2 = animal(\"ocean\", \"fish\", \"0\",)    \n",
    "\n",
    "print(animal_1.living_environment)\n",
    "print(animal_1.category)\n",
    "print(animal_1.number_of_legs)\n",
    "\n",
    "print(animal_2.living_environment)\n",
    "print(animal_2.category)\n",
    "print(animal_2.number_of_legs)\n",
    "\n"
   ]
  },
  {
   "cell_type": "markdown",
   "metadata": {},
   "source": [
    "## Practice 3\n",
    "Create an `__init__` method for the `Animal` class. Include at least three of the attributes you originally defined in the new method.  "
   ]
  },
  {
   "cell_type": "code",
   "execution_count": 6,
   "metadata": {},
   "outputs": [
    {
     "name": "stdout",
     "output_type": "stream",
     "text": [
      "grass\n",
      "Mammal\n",
      "4\n",
      "ocean\n",
      "fish\n",
      "0\n"
     ]
    }
   ],
   "source": [
    "class animal:\n",
    "    living_environment = \"\"\n",
    "    category = \"\"\n",
    "    number_of_legs = \"\"\n",
    "    \n",
    "    def __init__(self, living_environment, category, number_of_legs):\n",
    "        self.living_environment = living_environment\n",
    "        self.category = category\n",
    "        self.number_of_legs = number_of_legs\n",
    "        \n",
    "animal_1 = animal(\"grass\", \"Mammal\", \"4\")\n",
    "    \n",
    "animal_2 = animal(\"ocean\", \"fish\", \"0\")    \n",
    "\n",
    "print(animal_1.living_environment)\n",
    "print(animal_1.category)\n",
    "print(animal_1.number_of_legs)\n",
    "\n",
    "print(animal_2.living_environment)\n",
    "print(animal_2.category)\n",
    "print(animal_2.number_of_legs)\n"
   ]
  },
  {
   "cell_type": "markdown",
   "metadata": {},
   "source": [
    "## Practice 4\n",
    "Create a `display_info` method for the `Animal` class. \n",
    "\n",
    "Create three objects from the `Animal` class and display each object using the `display_info` method."
   ]
  },
  {
   "cell_type": "code",
   "execution_count": 7,
   "metadata": {},
   "outputs": [
    {
     "name": "stdout",
     "output_type": "stream",
     "text": [
      "grass\n",
      "Mammal\n",
      "4\n",
      "ocean\n",
      "fish\n",
      "0\n"
     ]
    }
   ],
   "source": [
    "class animal:\n",
    "    living_environment = \"\"\n",
    "    category = \"\"\n",
    "    number_of_legs = \"\"\n",
    "    \n",
    "    def __init__(self, living_environment, category, number_of_legs):\n",
    "        self.living_environment = living_environment\n",
    "        self.category = category\n",
    "        self.number_of_legs = number_of_legs\n",
    "    \n",
    "    def display_info(self):\n",
    "        print(self.living_environment)\n",
    "        print(self.category)\n",
    "        print(self.number_of_legs)\n",
    "\n",
    "animal_1 = animal(\"grass\", \"Mammal\", \"4\")\n",
    "animal_1.display_info()    \n",
    "animal_2 = animal(\"ocean\", \"fish\", \"0\",)  \n",
    "animal_2.display_info()\n",
    "\n",
    "#self is very important, it refers to itself?!"
   ]
  },
  {
   "cell_type": "markdown",
   "metadata": {},
   "source": [
    "## Practice 5a\n",
    "The following code includes multiple errors. Find the errors and update the code as necessary. Do not change any of the existing code above line 9.\n",
    "\n",
    "The final output should read:\n",
    "    `Harry Potter and the Sorcerer's Stone by J. K. Rowling, published in 1997`"
   ]
  },
  {
   "cell_type": "code",
   "execution_count": 29,
   "metadata": {},
   "outputs": [
    {
     "name": "stdout",
     "output_type": "stream",
     "text": [
      "Harry Potter and the Sorcerer's Stone by J. K. Rowling, published in 1997\n"
     ]
    }
   ],
   "source": [
    "class Book:\n",
    "    title = \"\"\n",
    "    author = \"\"\n",
    "    pub_date = \"\"\n",
    "    def __init__ (book, ti, au, da):  #book is internal ref\n",
    "        book.title = ti\n",
    "        book.author = au\n",
    "        book.pub_date = da\n",
    "   \n",
    "\n",
    "#Change only the code below this line\n",
    "    def book_details(self):\n",
    "        print (self.title + \" by \" + self.author + \", published in \" + self.pub_date)\n",
    "     \n",
    "    \n",
    "book_1 = Book(\"Harry Potter and the Sorcerer's Stone\", \"J. K. Rowling\",\"1997\")\n",
    "book_1.book_details()\n"
   ]
  },
  {
   "cell_type": "markdown",
   "metadata": {},
   "source": [
    "## Practice 5b\n",
    "Create and execute another meaningful method for the `Animal` class. Make sure to pass the `self` object when executing the method. "
   ]
  },
  {
   "cell_type": "code",
   "execution_count": 72,
   "metadata": {},
   "outputs": [
    {
     "ename": "SyntaxError",
     "evalue": "invalid syntax (1952581758.py, line 6)",
     "output_type": "error",
     "traceback": [
      "\u001b[1;36m  File \u001b[1;32m\"C:\\Users\\mattb\\AppData\\Local\\Temp\\ipykernel_13012\\1952581758.py\"\u001b[1;36m, line \u001b[1;32m6\u001b[0m\n\u001b[1;33m    def __init__(self, living_environment, category, number_of_legs)\u001b[0m\n\u001b[1;37m                                                                    ^\u001b[0m\n\u001b[1;31mSyntaxError\u001b[0m\u001b[1;31m:\u001b[0m invalid syntax\n"
     ]
    }
   ],
   "source": [
    "class animal:\n",
    "    living_environment = \"\"\n",
    "    category = \"\"\n",
    "    number_of_legs = \"\"\n",
    "    \n",
    "    def __init__(self, living_environment, category, number_of_legs):\n",
    "        self.living_environment = living_environment\n",
    "        self.category = category\n",
    "        self.number_of_legs = number_of_legs\n",
    "    \n",
    "    def animal_details(self):\n",
    "        print(str(\"They live in the,\", self.living_environment + \" It's a type of, \", + self.category + \", gets around on\", + self.number_of_legs))\n",
    "    \n",
    "#   def display_info(self):\n",
    " #       print(self.living_environment)\n",
    "  #      print(self.category)\n",
    "   #     print(self.number_of_legs)\n",
    "\n",
    "animal_1 = self(\"grass\", \"Mammal\", \"4\")\n",
    "animal_1.display_info(self)    \n",
    "animal_2 = self(\"ocean\", \"fish\", \"0\",)  \n",
    "animal_2.display_info()\n",
    "\n",
    "#needs finishing"
   ]
  },
  {
   "cell_type": "markdown",
   "metadata": {},
   "source": [
    "## Practice 6\n",
    "Revise the following code so that the `Person` class includes a list of addresses rather than a single address. "
   ]
  },
  {
   "cell_type": "code",
   "execution_count": null,
   "metadata": {},
   "outputs": [],
   "source": []
  },
  {
   "cell_type": "code",
   "execution_count": 53,
   "metadata": {},
   "outputs": [
    {
     "name": "stdout",
     "output_type": "stream",
     "text": [
      "Account Number: C1566X56576\n",
      "Account Holder Information: \n"
     ]
    }
   ],
   "source": [
    "class Address:\n",
    "    number = None\n",
    "    street  = None\n",
    "    city = None\n",
    "    state = None\n",
    "    zipcode = None\n",
    "    def  __init__(self,num,st,cty,ste,zc):\n",
    "        self.number = num\n",
    "        self.street = st \n",
    "        self.city = cty\n",
    "        self.state= ste\n",
    "        self.zipcode  = zc\n",
    "    def display(self):\n",
    "        print(str(self.number) + \" \" + self.street + \" \" + self.city + \" \" + self.state + \" \" + self.zipcode)\n",
    "        \n",
    "\n",
    "class Person:\n",
    "    fname = None\n",
    "    lname = None\n",
    "    addresses = None #a ddresses will hold a list  of addresses that belong to a person\n",
    "    def __init__(self,fname,lname,addrs):\n",
    "        self.fname = fname\n",
    "        self.lname = lname\n",
    "        self.addresses = addrs\n",
    "    def display(self):\n",
    "        # implement the display method to display  first name,  last name, \n",
    "        # then iterate through addresses and display each address in one line. \n",
    "        pass\n",
    "    def add_address(self,addr):\n",
    "        # implement\n",
    "        pass\n",
    "     \n",
    "class Account:\n",
    "    ain = None \n",
    "    person = None \n",
    "    def __init__(self,ain,person):\n",
    "        self.ain = ain\n",
    "        self.person = person\n",
    "    def display(self):\n",
    "        print(\"Account Number: \" + str(self.ain))\n",
    "        print(\"Account Holder Information: \")\n",
    "        self.person.display()\n",
    "\n",
    "addr1 = Address(123,\"Main Street\",\"Asbury Park\",\"NJ\",\"07712\")\n",
    "addr2 = Address(12,\"Rue Simon Bolivard\",\"Paris\",\"France\",\"75019\")\n",
    "addresses = list()\n",
    "addresses.append(addr1)\n",
    "addresses.append(addr2)\n",
    "\n",
    "\n",
    "p = Person(\"Haythem\",\"Balti\",addresses)\n",
    "addr3 = Address(46,\"Fourth Street\",\"Louisville\",\"KY\",\"40208\")\n",
    "\n",
    "p.add_address(addr3)\n",
    "\n",
    "# p.display()\n",
    "a = Account(\"C1566X56576\",p)\n",
    "a.display()"
   ]
  },
  {
   "cell_type": "code",
   "execution_count": 4,
   "metadata": {},
   "outputs": [
    {
     "name": "stdout",
     "output_type": "stream",
     "text": [
      "Account Number: C1566X56576\n",
      "Account Holder Information: \n",
      "Haythem Balti\n",
      "123 Main Street Asbury Park NJ 07712\n",
      "12 Rue Simon Bolivard Paris France 75019\n",
      "46 Fourth Street Louisville KY 40208\n"
     ]
    }
   ],
   "source": [
    "class Address:                   #final version\n",
    "    number = None\n",
    "    street  = None\n",
    "    city = None\n",
    "    state = None\n",
    "    zipcode = None\n",
    "    def  __init__(self,num,st,cty,ste,zc):\n",
    "        self.number = num\n",
    "        self.street = st \n",
    "        self.city = cty\n",
    "        self.state= ste\n",
    "        self.zipcode  = zc\n",
    "    def display(self):\n",
    "        print(str(self.number) + \" \" + self.street + \" \" + self.city + \" \" + self.state + \" \" + self.zipcode)\n",
    "\n",
    "        \n",
    "class Person:\n",
    "    fname = None\n",
    "    lname = None\n",
    "    addresses = None #a ddresses will hold a list  of addresses that belong to a person\n",
    "    def __init__(self,fname,lname,addrs):\n",
    "        self.fname = fname\n",
    "        self.lname = lname\n",
    "        self.addresses = addrs\n",
    "    def display(self):\n",
    "        # implement the display method to display  first name,  last name, \n",
    "        # then iterate through addresses and display each address in one line. \n",
    "        print(self.fname + \" \" + self.lname)\n",
    "        for addr_item in self.addresses:\n",
    "            addr_item.display()\n",
    "         \n",
    "    def add_address(self,addr):\n",
    "        self.addresses.append(addr)\n",
    "\n",
    "        \n",
    "class Account:\n",
    "    ain = None \n",
    "    person = None \n",
    "    def __init__(self,ain,person):\n",
    "        self.ain = ain\n",
    "        self.person = person\n",
    "    def display(self):\n",
    "        print(\"Account Number: \" + str(self.ain))\n",
    "        print(\"Account Holder Information: \")\n",
    "        self.person.display()\n",
    "        \n",
    "        \n",
    "# two objects for Address class\n",
    "addr1 = Address(123,\"Main Street\",\"Asbury Park\",\"NJ\",\"07712\")\n",
    "addr2 = Address(12,\"Rue Simon Bolivard\",\"Paris\",\"France\",\"75019\")\n",
    "\n",
    "# Empty list\n",
    "addresses = list()\n",
    "\n",
    "# Adding objects to the list\n",
    "addresses.append(addr1)\n",
    "addresses.append(addr2)\n",
    "\n",
    "\n",
    "# creating a new Person object\n",
    "p = Person(\"Haythem\",\"Balti\",addresses)\n",
    "\n",
    "# new addr object\n",
    "addr3 = Address(46,\"Fourth Street\",\"Louisville\",\"KY\",\"40208\")\n",
    "\n",
    "\n",
    "# adding addr3 to Person object\n",
    "p.add_address(addr3)\n",
    "\n",
    "# p.display()\n",
    "a = Account(\"C1566X56576\",p)\n",
    "a.display()"
   ]
  },
  {
   "cell_type": "code",
   "execution_count": 3,
   "metadata": {},
   "outputs": [
    {
     "name": "stdout",
     "output_type": "stream",
     "text": [
      "Account Number: SDFSDFSD2323\n",
      "Account Holder Information:\n",
      "FirstName LastName\n",
      "306 123 St New York NY 30210\n"
     ]
    }
   ],
   "source": [
    "class Person:\n",
    "    fname = None\n",
    "    lname = None\n",
    "    address = None #address will hold the address information about a person\n",
    "    def __init__(self,fname,lname,a):\n",
    "        self.fname = fname\n",
    "        self.lname = lname\n",
    "        self.address = a\n",
    "    def display(self):\n",
    "        print(self.fname + \" \" + self.lname)\n",
    "        self.address.display()\n",
    "\n",
    "        \n",
    "class Account:\n",
    "    ain = None #account identification number: unique ID \n",
    "    person = None  #person will hold the information about the person on the account. \n",
    "    def __init__(self,ain,person):\n",
    "        self.ain=ain\n",
    "        self.person=person\n",
    "    def display(self):\n",
    "        print(\"Account Number: \" + str(self.ain))\n",
    "        print(\"Account Holder Information:\")\n",
    "        self.person.display()\n",
    "        \n",
    "addr = Address(306, \"123 St\", \"New York\", \"NY\", \"30210\")\n",
    "#addr.display()\n",
    "\n",
    "\n",
    "p = Person(\"FirstName\", \"LastName\", addr)\n",
    "#p.display()\n",
    "        \n",
    "\n",
    "acc = Account(\"SDFSDFSD2323\", p)\n",
    "acc.display()"
   ]
  },
  {
   "cell_type": "code",
   "execution_count": null,
   "metadata": {},
   "outputs": [],
   "source": []
  }
 ],
 "metadata": {
  "kernelspec": {
   "display_name": "Python 3 (ipykernel)",
   "language": "python",
   "name": "python3"
  },
  "language_info": {
   "codemirror_mode": {
    "name": "ipython",
    "version": 3
   },
   "file_extension": ".py",
   "mimetype": "text/x-python",
   "name": "python",
   "nbconvert_exporter": "python",
   "pygments_lexer": "ipython3",
   "version": "3.9.13"
  }
 },
 "nbformat": 4,
 "nbformat_minor": 2
}
