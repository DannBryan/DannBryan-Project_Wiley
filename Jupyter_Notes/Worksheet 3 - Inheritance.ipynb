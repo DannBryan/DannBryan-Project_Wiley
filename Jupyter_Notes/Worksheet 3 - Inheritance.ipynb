{
 "cells": [
  {
   "cell_type": "markdown",
   "metadata": {},
   "source": [
    "# Inheritance\n",
    "This worksheet corresponds to *Lesson 3: Inheritance* in the online course. Refer to that lesson as necessary to complete these practice activities."
   ]
  },
  {
   "cell_type": "markdown",
   "metadata": {},
   "source": [
    "## Practice 1\n",
    "Create an `Animal` class that includes two string attributes: `name` and `location`. Implement the appropriate `__init__` and `display` methods to create and display objects respectively. \n",
    "\n",
    "Using inheritance, create another class called `Mammal` that inherits from the `Animal` class. Create two `Mammal` objects and display each object's information using the `display` method. "
   ]
  },
  {
   "cell_type": "code",
   "execution_count": 1,
   "metadata": {},
   "outputs": [
    {
     "ename": "NameError",
     "evalue": "name 'self' is not defined",
     "output_type": "error",
     "traceback": [
      "\u001b[1;31m---------------------------------------------------------------------------\u001b[0m",
      "\u001b[1;31mNameError\u001b[0m                                 Traceback (most recent call last)",
      "\u001b[1;32m~\\AppData\\Local\\Temp\\ipykernel_15136\\4036840067.py\u001b[0m in \u001b[0;36m<module>\u001b[1;34m\u001b[0m\n\u001b[0;32m     10\u001b[0m         \u001b[0mprint\u001b[0m\u001b[1;33m(\u001b[0m\u001b[0mstr\u001b[0m\u001b[1;33m(\u001b[0m\u001b[1;34m\"The\"\u001b[0m\u001b[1;33m,\u001b[0m \u001b[0mself\u001b[0m\u001b[1;33m.\u001b[0m\u001b[0mname\u001b[0m \u001b[1;33m+\u001b[0m \u001b[1;34m\" is commonly found around the \"\u001b[0m\u001b[1;33m,\u001b[0m \u001b[1;33m+\u001b[0m \u001b[0mself\u001b[0m\u001b[1;33m.\u001b[0m\u001b[0mlocation\u001b[0m \u001b[1;33m+\u001b[0m \u001b[1;34m\", of the world\"\u001b[0m\u001b[1;33m)\u001b[0m\u001b[1;33m)\u001b[0m\u001b[1;33m\u001b[0m\u001b[1;33m\u001b[0m\u001b[0m\n\u001b[0;32m     11\u001b[0m \u001b[1;33m\u001b[0m\u001b[0m\n\u001b[1;32m---> 12\u001b[1;33m \u001b[0manimal_1\u001b[0m \u001b[1;33m=\u001b[0m \u001b[0mself\u001b[0m\u001b[1;33m(\u001b[0m\u001b[1;34m\"Blue-Whale \"\u001b[0m\u001b[1;33m,\u001b[0m \u001b[1;34m\"under_water place \"\u001b[0m\u001b[1;33m)\u001b[0m\u001b[1;33m\u001b[0m\u001b[1;33m\u001b[0m\u001b[0m\n\u001b[0m\u001b[0;32m     13\u001b[0m \u001b[1;33m\u001b[0m\u001b[0m\n\u001b[0;32m     14\u001b[0m \u001b[0manimal_2\u001b[0m \u001b[1;33m=\u001b[0m \u001b[0mself\u001b[0m\u001b[1;33m(\u001b[0m\u001b[1;34m\"Pangolin \"\u001b[0m\u001b[1;33m,\u001b[0m \u001b[1;34m\"on the land bits \"\u001b[0m\u001b[1;33m)\u001b[0m\u001b[1;33m\u001b[0m\u001b[1;33m\u001b[0m\u001b[0m\n",
      "\u001b[1;31mNameError\u001b[0m: name 'self' is not defined"
     ]
    }
   ],
   "source": [
    "class animal:\n",
    "    name = \"\"\n",
    "    location = \"\"\n",
    "   \n",
    "    def __init__(self, name, location):\n",
    "        self.name = name\n",
    "        self.location = location\n",
    "     \n",
    "    def animal_details(self):\n",
    "        print(str(\"The\", self.name + \" is commonly found around the \", + self.location + \", of the world\"))\n",
    "        \n",
    "animal_1 = self(\"Blue-Whale \", \"under_water place \")\n",
    "    \n",
    "animal_2 = self(\"Pangolin \", \"on the land bits \")    \n",
    "\n",
    "animal_1.display_info(self)\n",
    "animal_2.display_info(self)\n",
    "\n",
    "\n",
    "\n",
    "\n",
    "\n",
    "#print(animal_1.living_environment)\n",
    "#print(animal_1.category)\n",
    "#print(animal_1.number_of_legs)\n",
    "\n",
    "#print(animal_2.living_environment)\n",
    "#print(animal_2.category)\n",
    "#print(animal_2.number_of_legs)\n",
    "\n"
   ]
  },
  {
   "cell_type": "code",
   "execution_count": 18,
   "metadata": {},
   "outputs": [
    {
     "name": "stdout",
     "output_type": "stream",
     "text": [
      "Employee ID2: \n",
      "Employee ID: 007\n"
     ]
    }
   ],
   "source": [
    "#Base class\n",
    "class Person:\n",
    "    first_name=\"\" \n",
    "    last_name=\"\" \n",
    "    def __init__(self,fname,lname): \n",
    "        self.first_name = fname\n",
    "        self.last_name = lname\n",
    "    def display(self): \n",
    "        print(\"Person First Name: \" + self.first_name)\n",
    "        print(\"Person Last Name: \" + self.last_name)  \n",
    " \n",
    "\n",
    "class Employee(Person):  #base class inherit\n",
    "    employee_ID = \"\"\n",
    "\n",
    "    def display(self):\n",
    "        \n",
    "        print(\"Employee ID2:\" + \" \" + obj_e.employee_ID)\n",
    "    \n",
    "obj_e = Employee(\"Haythem\", \"Balti\") #passing to employee class\n",
    "obj_e.display()\n",
    "obj_e.employee_ID = \"007\"\n",
    "\n",
    "\n",
    "print(\"Employee ID:\" + \" \" + obj_e.employee_ID)"
   ]
  },
  {
   "cell_type": "code",
   "execution_count": 17,
   "metadata": {},
   "outputs": [
    {
     "name": "stdout",
     "output_type": "stream",
     "text": [
      "Employee First Name: Haythem\n",
      "Employee Last Name: Balti\n",
      "Employee ID: 2343SDF\n",
      "Person First Name: PersonFirst\n",
      "Person Last Name: PersonLast\n",
      "Employee First Name: ManagerFirst\n",
      "Employee Last Name: ManagerLast\n",
      "Employee ID: MANG324\n",
      "Employee First Name: Manager2First\n",
      "Employee Last Name: Manager2Last\n",
      "Employee ID: MANG546\n"
     ]
    }
   ],
   "source": [
    "# Base Class\n",
    "class Person:\n",
    "    first_name = None\n",
    "    last_name = None \n",
    "    def __init__(self,fname,lname): \n",
    "        self.first_name = fname\n",
    "        self.last_name = lname\n",
    "    def display(self): \n",
    "        print(\"Person First Name: \" + self.first_name)\n",
    "        print(\"Person Last Name: \" + self.last_name)    \n",
    "\n",
    "# Inheriting from Person\n",
    "class Employee(Person):\n",
    "    employee_id = None\n",
    "    def __init__(self, fname, lname, empid):\n",
    "        self.first_name = fname\n",
    "        self.last_name = lname\n",
    "        self.employee_id = empid\n",
    "    def display(self):\n",
    "        print(\"Employee First Name: \" + self.first_name)\n",
    "        print(\"Employee Last Name: \" + self.last_name)\n",
    "        print(\"Employee ID:\" + \" \" + self.employee_id)\n",
    "\n",
    "class Manager(Employee):\n",
    "    pass\n",
    "        \n",
    "\n",
    "obj_e = Employee(\"Haythem\", \"Balti\", \"2343SDF\")\n",
    "obj_e.display()\n",
    "\n",
    "\n",
    "obj_p = Person(\"PersonFirst\", \"PersonLast\")\n",
    "obj_p.display()\n",
    "\n",
    "obj_m = Manager(\"ManagerFirst\", \"ManagerLast\", \"MANG324\")\n",
    "obj_m.display()\n",
    "\n",
    "obj_m2 = Manager(\"Manager2First\", \"Manager2Last\", \"MANG546\")\n",
    "obj_m2.display()"
   ]
  },
  {
   "cell_type": "markdown",
   "metadata": {},
   "source": [
    "## Practice 2\n",
    "Create an `Animal` class that includes two string attributes: `name` and `location`. Implement the appropriate `__init__` and `display` methods to create and display objects. \n",
    "\n",
    "Using inheritance, create another class called `Mammal` that inherits from the `Animal` class. Add at least one more attribute that is specific to the `Mammal` class and is not included in the `Animal` class.\n",
    "\n",
    "Create two `Mammal` objects and display them. "
   ]
  },
  {
   "cell_type": "code",
   "execution_count": 21,
   "metadata": {},
   "outputs": [
    {
     "ename": "NameError",
     "evalue": "name 'self' is not defined",
     "output_type": "error",
     "traceback": [
      "\u001b[1;31m---------------------------------------------------------------------------\u001b[0m",
      "\u001b[1;31mNameError\u001b[0m                                 Traceback (most recent call last)",
      "\u001b[1;32m~\\AppData\\Local\\Temp\\ipykernel_5336\\1691518414.py\u001b[0m in \u001b[0;36m<module>\u001b[1;34m\u001b[0m\n\u001b[0;32m     10\u001b[0m         \u001b[0mprint\u001b[0m\u001b[1;33m(\u001b[0m\u001b[0mstr\u001b[0m\u001b[1;33m(\u001b[0m\u001b[1;34m\"The\"\u001b[0m\u001b[1;33m,\u001b[0m \u001b[0mself\u001b[0m\u001b[1;33m.\u001b[0m\u001b[0mname\u001b[0m \u001b[1;33m+\u001b[0m \u001b[1;34m\" is commonly found around the \"\u001b[0m\u001b[1;33m,\u001b[0m \u001b[1;33m+\u001b[0m \u001b[0mself\u001b[0m\u001b[1;33m.\u001b[0m\u001b[0mlocation\u001b[0m \u001b[1;33m+\u001b[0m \u001b[1;34m\", of the world\"\u001b[0m\u001b[1;33m)\u001b[0m\u001b[1;33m)\u001b[0m\u001b[1;33m\u001b[0m\u001b[1;33m\u001b[0m\u001b[0m\n\u001b[0;32m     11\u001b[0m \u001b[1;33m\u001b[0m\u001b[0m\n\u001b[1;32m---> 12\u001b[1;33m \u001b[0manimal_1\u001b[0m \u001b[1;33m=\u001b[0m \u001b[0mself\u001b[0m\u001b[1;33m(\u001b[0m\u001b[1;34m\"Blue-Whale \"\u001b[0m\u001b[1;33m,\u001b[0m \u001b[1;34m\"under_water place \"\u001b[0m\u001b[1;33m)\u001b[0m\u001b[1;33m\u001b[0m\u001b[1;33m\u001b[0m\u001b[0m\n\u001b[0m\u001b[0;32m     13\u001b[0m \u001b[1;33m\u001b[0m\u001b[0m\n\u001b[0;32m     14\u001b[0m \u001b[0manimal_2\u001b[0m \u001b[1;33m=\u001b[0m \u001b[0mself\u001b[0m\u001b[1;33m(\u001b[0m\u001b[1;34m\"Pangolin \"\u001b[0m\u001b[1;33m,\u001b[0m \u001b[1;34m\"on the land bits \"\u001b[0m\u001b[1;33m)\u001b[0m\u001b[1;33m\u001b[0m\u001b[1;33m\u001b[0m\u001b[0m\n",
      "\u001b[1;31mNameError\u001b[0m: name 'self' is not defined"
     ]
    }
   ],
   "source": [
    "class animal:\n",
    "    name = None\n",
    "    location = None\n",
    "   \n",
    "    def __init__(self, name, location):\n",
    "        self.name = name\n",
    "        self.location = location\n",
    "     \n",
    "    def animal_details(self):\n",
    "        print(str(\"The\", self.name + \" is commonly found around the \", + self.location + \", of the world\"))\n",
    "        \n",
    "animal_1 = self(\"Blue-Whale \", \"under_water place \")\n",
    "animal_2 = self(\"Pangolin \", \"on the land bits \")    \n",
    "\n",
    "animal_1.display_info()\n",
    "animal_2.display_info()\n",
    "\n"
   ]
  },
  {
   "cell_type": "markdown",
   "metadata": {},
   "source": [
    "## Practice 3\n",
    "Create a class `Animal` that includes two string attributes: `name` and `location`. Implement the appropriate `__init__` and `display` methods to create and display objects. \n",
    "\n",
    "Use inheritance to create another class called `Mammal` that inherits from the `Animal` class. \n",
    "* Add one more attribute specific to the `Mammal` class.\n",
    "* Override the `display` method to display the newly-added attribute of the `Mammal` class. \n",
    "* Create two `Mammal` objects and display them. \n",
    "\n",
    "Create another class called `Bird` that also inherits from the `Animal` class. \n",
    "* Add one more attribute that is specific to the `Bird` class.\n",
    "* Override the `display` method to display the new attribute of the `Bird` class. \n",
    "* Create two `Bird` objects and display them. \n",
    "\n",
    "Create another class called `Reptile` that inherits from the `Animal` class. \n",
    "* Add one more attribute specific to the `Reptile` class.\n",
    "* Override the `display` method to display the new attribute of the `Reptile` class. \n",
    "* Create two `Reptile` objects and display them."
   ]
  },
  {
   "cell_type": "code",
   "execution_count": 6,
   "metadata": {
    "collapsed": true
   },
   "outputs": [],
   "source": [
    "class animal:\n",
    "    name = \"\"\n",
    "    location = \"\"\n",
    "    def __init__(self, name, location):\n",
    "        self.name = name\n",
    "        self.location = location\n",
    "    def display(self):                                     \n",
    "        print(self.name)\n",
    "        print(self.location)\n",
    "     \n",
    "class Mammal(animal):\n",
    "     mammal_type:None\n",
    "            def__init__(self        )\n",
    "            \n",
    "            \n",
    "            \n",
    "        self.name = name\n",
    "        self.location = location\n",
    "        self.sub_species\n",
    "\n",
    "        \n",
    "        \n",
    "        \n",
    "   #pics on camera of complete     \n",
    "        \n",
    "        \n",
    "        \n",
    "        \n",
    "        \n",
    "        \n",
    "    #def animal_details(self):\n",
    "        #print(str(\"The\", self.name + \" is commonly found around the \", + self.location + \", of the world\"))\n",
    "        \n",
    "#animal_1 = self(\"Blue-Whale \", \"under_water place \")\n",
    "    \n",
    "#animal_2 = self(\"Pangolin \", \"on the land bits \")    \n",
    "\n",
    "#animal_1.display_info(self)\n",
    "#animal_2.display_info(self)\n",
    "\n"
   ]
  },
  {
   "cell_type": "markdown",
   "metadata": {},
   "source": [
    "## Practice 4\n",
    "Create a class `Animal` that includes two string attributes: `name` and `location`. Implement the appropriate `__init__` and `display` methods to create and display objects respectively. \n",
    "\n",
    "Use inheritance to create another class called `Mammal` that inherits from the `Animal` class. \n",
    "* Add one more attribute specific to the `Mammal` class.\n",
    "* Override the `__init__` and `display` methods to display the new attribute of the `Mammal` class. \n",
    "* Create two `Mammal` objects and display them. \n",
    "\n",
    "Create another class called `Bird` that also inherits from the `Animal` class. \n",
    "* Add one more attribute specific to the `Bird` class.\n",
    "* Override the `__init__` and `display` methods to display the new attribute of the `Bird` class. \n",
    "* Create two `Bird` objects and display them. \n",
    "\n",
    "Create another class called `Reptile` that inherits from the `Animal` class. \n",
    "* Add one more attribute specific to the `Reptile` class.\n",
    "* Override the `__init__` and `display` methods to display the new attribute of the `Reptile` class. \n",
    "* Create two `Reptile` objects and display them."
   ]
  },
  {
   "cell_type": "code",
   "execution_count": 8,
   "metadata": {
    "collapsed": true
   },
   "outputs": [],
   "source": [
    "# your code here  "
   ]
  },
  {
   "cell_type": "markdown",
   "metadata": {},
   "source": [
    "## Practice 5\n",
    "Create a class Animal that includes two string attributes: name and location. Implement the appropriate `__init__` and display method, to create and display objects respectively. \n",
    "\n",
    "Use inheritance to create another class called Mammal that will inherit from the Animal class. \n",
    "* Add one more attribute specific to the Mammal class.\n",
    "* Override the `__init__` and display methods to display the new added attribute of the mammal class. Use the `__init__` method of the parent class (Animal) to set  the values of the name and location attributes. \n",
    "* Create two mammal objects and display them. \n",
    "\n",
    "Create another class called Bird that also inherits from the Animal class. \n",
    "* Add one more attribute that specific to the bird class.\n",
    "* Override the `__init__` and display methods to display the new added attribute of the bird class. Use the `__init__` method of the parent class (Animal) to set  the values of the name and location attributes. \n",
    "* Create two bird objects and display them. \n",
    "\n",
    "Create another class called Reptile that inherits from the animal class. \n",
    "* Add one more attribute that specific to the reptile class.\n",
    "* Override the `__init__` and display methods to display the new added attribute of the reptile class. Use the `__init__` method of the parent class (Animal) to set  the values of the name and location attributes. \n",
    "* Create two reptile objects and display them"
   ]
  },
  {
   "cell_type": "code",
   "execution_count": 10,
   "metadata": {
    "collapsed": true
   },
   "outputs": [],
   "source": [
    "# your code here  "
   ]
  },
  {
   "cell_type": "markdown",
   "metadata": {},
   "source": [
    "## Practice 6\n",
    "Change the code below as follows:\n",
    "* Add an attribute to the `Director` class called `team`. The team represents the employees that the director manages. The `team` attribute should be a list of `Employee` objects. \n",
    "    * Implement the `add_employee` method, which takes as input an `Employee` object and adds it to the `team` object.\n",
    "    * Implement the `display` method of the `Director` class to display the information about the director and the list of the employees that the director manages.\n",
    "\n",
    "* Create another class called `HourlyEmployee` that inherits from `Employee`.\n",
    "    * Add one attribute to the `HourlyEmployee` class called `hourly_rate`, which represents the hourly pay rate for the hourly employee. <br>\n",
    "    * Implement the  `__init__`  method and `display` methods for the `HourlyEmployee` class.\n",
    "\n",
    "After you make these changes, verify that the code works by making sure it can display the attributes of the `Director` object using the `display` method. "
   ]
  },
  {
   "cell_type": "code",
   "execution_count": 34,
   "metadata": {},
   "outputs": [
    {
     "ename": "SyntaxError",
     "evalue": "invalid syntax (1691778613.py, line 4)",
     "output_type": "error",
     "traceback": [
      "\u001b[1;36m  File \u001b[1;32m\"C:\\Users\\mattb\\AppData\\Local\\Temp\\ipykernel_5336\\1691778613.py\"\u001b[1;36m, line \u001b[1;32m4\u001b[0m\n\u001b[1;33m    def __init__(self,fname,lname)\u001b[0m\n\u001b[1;37m                                   ^\u001b[0m\n\u001b[1;31mSyntaxError\u001b[0m\u001b[1;31m:\u001b[0m invalid syntax\n"
     ]
    }
   ],
   "source": [
    "class Person:\n",
    "    first_name=\"\" \n",
    "    last_name=\"\" \n",
    "    def __init__(self,fname,lname) \n",
    "        self.first_name = fname\n",
    "        self.last_name = lname\n",
    "    def display(self): \n",
    "        print(\"Person First Name: \" + self.first_name)\n",
    "        print(\"Person Last Name: \" + self.last_name)\n",
    "        \n",
    "\n",
    "class Employee(Person):\n",
    "    employee_id=None\n",
    "    def __init__(self,emp_id,fname,lname)\n",
    "        Person.__init__(self,fname,lname) \n",
    "        self.employee_id =emp_id\n",
    "    def display(self):\n",
    "        print(\"Employee ID: \" + self.employee_id)\n",
    "        print(\"Employee First Name: \" + self.first_name)\n",
    "        print(\"Employee Last Name: \" + self.last_name)\n",
    "\n",
    "class Director(Employee):\n",
    "    director_level=None\n",
    "    team =None\n",
    "    def __init__(self,emp_id,fname,lname,d_level):\n",
    "        # do not change this code\n",
    "        Employee.__init__(self,emp_id,fname,lname)\n",
    "        self.director_level = d_level\n",
    "        self.team = list()\n",
    "    def display(self):\n",
    "        # a method that displays all the attributes of a director object\n",
    "        Employee.display(self)\n",
    "        for emp in self.team:\n",
    "            Employee.display(emp)\n",
    "        \n",
    "        \n",
    "    def add_employee(self,emp):\n",
    "                     # a method to add an employee object to the team attribute \n",
    "        self.team.append(emp)\n",
    "        print(self.director_level)\n",
    "\n",
    "class HourlyEmployee(Employee):\n",
    "    hourly_rate = None\n",
    "    # implement this  class\n",
    "    def __init__(self, hr,fn, ln, emp):\n",
    "        Employee __init__(self, hr,fn, ln, emp):\n",
    "        self.hourly_rate = hr\n",
    "    def display(self):\n",
    "        Employee.display(self)\n",
    "        print(self.hourly_rate)\n",
    "        \n",
    "        \n",
    "        \n",
    "#team attribute is a list of employee onjects\n",
    "#create empty list  /\n",
    "#add mutiple obj to the list of employee obj\n",
    "#create mutiple objects of emmployee class\n",
    "#creat director obj assign list of employee objects tp the director class\n",
    "\n",
    "# DO NOT CHANGE THIS CODE \n",
    "d1 = Director(\"E24523525\",\"Haythem\",\"Balti\",\"D-LEVEL-1\")\n",
    "\n",
    "\n",
    "# create first employee object \n",
    "e1 = Employee(\"E4746456456\",\"Mark\",\"Smith\", \"45\")\n",
    "# add employee e1 to the team attribute of the Director class \n",
    "d1.add_employee(e1)\n",
    "# create second hourlyemployee object \n",
    "e2 = HourlyEmployee(\"E47464578978\",\"Mary\",\"Lang\", \"50\")\n",
    "# add hourly employee e2 to the team attribute of the Director class \n",
    "d1.add_employee(e2)\n",
    "\n",
    "\n",
    "d1.display()\n"
   ]
  },
  {
   "cell_type": "code",
   "execution_count": 29,
   "metadata": {},
   "outputs": [
    {
     "name": "stdout",
     "output_type": "stream",
     "text": [
      "Employee First Name: DirectorFirst\n",
      "Employee Last Name: DirectorLast\n",
      "Employee ID: DIR23432\n",
      "Director Level: Level-5\n"
     ]
    }
   ],
   "source": [
    "# Base Class\n",
    "class Person:\n",
    "    first_name = None\n",
    "    last_name = None \n",
    "    def __init__(self,fname,lname): \n",
    "        self.first_name = fname\n",
    "        self.last_name = lname\n",
    "    def display(self): \n",
    "        print(\"Person First Name: \" + self.first_name)\n",
    "        print(\"Person Last Name: \" + self.last_name)    \n",
    "\n",
    "# Inheriting from Person\n",
    "class Employee(Person):\n",
    "    employee_id = None\n",
    "    def __init__(self, fname, lname, empid):\n",
    "        self.first_name = fname\n",
    "        self.last_name = lname\n",
    "        self.employee_id = empid\n",
    "    def display(self):\n",
    "        print(\"Employee First Name: \" + self.first_name)\n",
    "        print(\"Employee Last Name: \" + self.last_name)\n",
    "        print(\"Employee ID:\" + \" \" + self.employee_id)\n",
    "\n",
    "class Director(Employee):\n",
    "    director_level = None\n",
    "    def __init__(self,fname,lname,empid,dlevel):\n",
    "        Employee.__init__(self,fname,lname,empid)\n",
    "        self.director_level = dlevel\n",
    "    def display(self):\n",
    "        Employee.display(self)\n",
    "        print(\"Director Level:\" + \" \" + self.director_level)\n",
    "        \n",
    "\n",
    "\n",
    "obj_d = Director(\"DirectorFirst\", \"DirectorLast\", \"DIR23432\", \"Level-5\")\n",
    "obj_d.display()"
   ]
  },
  {
   "cell_type": "code",
   "execution_count": 35,
   "metadata": {},
   "outputs": [
    {
     "name": "stdout",
     "output_type": "stream",
     "text": [
      "Incompatible operation\n",
      "Employee ID: E24523525\n",
      "Employee First Name: Haythem\n",
      "Employee Last Name: Balti\n",
      "D-LEVEL-1\n",
      "Employee ID: E4746456456\n",
      "Employee First Name: Mark\n",
      "Employee Last Name: Smith\n",
      "Employee ID: E47464578978\n",
      "Employee First Name: Third\n",
      "Employee Last Name: Employee\n",
      "True\n"
     ]
    }
   ],
   "source": [
    "class Person:\n",
    "    first_name=\"\" \n",
    "    last_name=\"\" \n",
    "    def __init__(self,fname,lname): \n",
    "        self.first_name = fname\n",
    "        self.last_name = lname\n",
    "    def display(self): \n",
    "        print(\"Person First Name: \" + self.first_name)\n",
    "        print(\"Person Last Name: \" + self.last_name)\n",
    "        \n",
    "\n",
    "class Employee(Person):\n",
    "    employee_id=None\n",
    "    def __init__(self,emp_id,fname,lname):\n",
    "        Person.__init__(self,fname,lname) \n",
    "        self.employee_id = emp_id\n",
    "    def display(self):\n",
    "        print(\"Employee ID: \" + self.employee_id)\n",
    "        print(\"Employee First Name: \" + self.first_name)\n",
    "        print(\"Employee Last Name: \" + self.last_name)\n",
    "\n",
    "class Director(Employee):\n",
    "    director_level=None\n",
    "    team = None # list of objects of Employee class\n",
    "    def __init__(self,emp_id,fname,lname,d_level):\n",
    "        # do not change this code\n",
    "        Employee.__init__(self,emp_id,fname,lname)\n",
    "        self.director_level = d_level\n",
    "        self.team = list()\n",
    "    def display(self):\n",
    "        # a method that displays all the attributes of a director object\n",
    "        Employee.display(self)\n",
    "        print(self.director_level)\n",
    "        for emp in self.team:\n",
    "            Employee.display(emp)\n",
    "    def add_employee(self,emp):\n",
    "        # a method to add an employee object to the team attribute \n",
    "        if (isinstance(emp, Employee)):\n",
    "            self.team.append(emp)\n",
    "        else:\n",
    "            print(\"Incompatible operation\")\n",
    "        \n",
    "        \n",
    "class HourlyEmployee(Employee):\n",
    "    hourly_rate = None\n",
    "    # implement this  class\n",
    "    def __init__(self,empid,fn,ln,hr):\n",
    "        Employee.__init__(self,empid,fn,ln)\n",
    "        self.hourly_rate = hr\n",
    "    def display(self):\n",
    "        Employee.display(self)\n",
    "        print(self.hourly_rate)\n",
    "\n",
    "\n",
    "# DO NOT CHANGE THIS CODE \n",
    "d1 = Director(\"E24523525\",\"Haythem\",\"Balti\",\"D-LEVEL-1\")\n",
    "\n",
    "\n",
    "# create first employee object \n",
    "e1 = Employee(\"E4746456456\",\"Mark\",\"Smith\")\n",
    "# add employee e1 to the team attribute of the Director class \n",
    "d1.add_employee(e1)\n",
    "# create second hourlyemployee object \n",
    "e2 = HourlyEmployee(\"E47464578978\",\"Mary\",\"Lang\", \"50\")\n",
    "# add hourly employee e2 to the team attribute of the Director class \n",
    "d1.add_employee([\"1\", \"2\", \"3\"])\n",
    "\n",
    "e3 = HourlyEmployee(\"E47464578978\",\"Third\",\"Employee\", \"50\")\n",
    "# add hourly employee e2 to the team attribute of the Director class \n",
    "d1.add_employee(e3)\n",
    "\n",
    "\n",
    "d1.display()\n",
    "\n",
    "\n",
    "print(isinstance(d1,Person))"
   ]
  },
  {
   "cell_type": "markdown",
   "metadata": {},
   "source": [
    "## Practice 7\n",
    "Implement the classes below as follows:\n",
    "* Implement the `__init__` and `display` methods of the `Asset` class.\n",
    "* Next, leverage the `__init__` and `display` methods from the `Asset` class to create the following:\n",
    "    * Implement the `__init__` and `display` methods of the `Stock` class. \n",
    "    * Implement the `__init__` and `display` methods of the `Bond` class. \n",
    "    * Implement the `__init__` and `display` methods of the `MutualFund` class. \n",
    "* Create two objects from each of the `Stock`, `Bond`, and `MutualFund` classes. Use the `display` method to display the contents of each object.  "
   ]
  },
  {
   "cell_type": "code",
   "execution_count": 14,
   "metadata": {
    "collapsed": true
   },
   "outputs": [],
   "source": [
    "class Asset: \n",
    "    symbol=None\n",
    "    price=None\n",
    "    description=None\n",
    "    def __init__(self,sym,pce,desc):\n",
    "        pass\n",
    "    def display(self):\n",
    "        pass\n",
    "    \n",
    "class Stock(Asset):\n",
    "    company_name = None\n",
    "\n",
    "class Bond(Asset):\n",
    "    interest_rate=None\n",
    "\n",
    "class MutualFund(Asset):\n",
    "    fund_manager=None\n"
   ]
  }
 ],
 "metadata": {
  "kernelspec": {
   "display_name": "Python 3 (ipykernel)",
   "language": "python",
   "name": "python3"
  },
  "language_info": {
   "codemirror_mode": {
    "name": "ipython",
    "version": 3
   },
   "file_extension": ".py",
   "mimetype": "text/x-python",
   "name": "python",
   "nbconvert_exporter": "python",
   "pygments_lexer": "ipython3",
   "version": "3.9.13"
  }
 },
 "nbformat": 4,
 "nbformat_minor": 2
}
