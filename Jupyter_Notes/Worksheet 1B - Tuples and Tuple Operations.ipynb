{
 "cells": [
  {
   "cell_type": "markdown",
   "metadata": {},
   "source": [
    "# Worksheet 1B: Tuples\n",
    "This worksheet corresponds to *Lesson 1B: Tuples and Tuple Operations* in the online course. Refer to that lesson as necessary to complete the practice activities here."
   ]
  },
  {
   "cell_type": "markdown",
   "metadata": {},
   "source": [
    "## Practice 1\n",
    "Create a tuple that contains the following information:  \n",
    "* Your first name \n",
    "* Your last name\n",
    "* Your age\n",
    "* The average number of miles you travel to work every day (round trip)"
   ]
  },
  {
   "cell_type": "code",
   "execution_count": 13,
   "metadata": {},
   "outputs": [
    {
     "name": "stdout",
     "output_type": "stream",
     "text": [
      "('first', 'last', 'everything')\n"
     ]
    }
   ],
   "source": [
    "my_tuple = (\"first\", \"last\", \"everything\")\n",
    "print(my_tuple)"
   ]
  },
  {
   "cell_type": "markdown",
   "metadata": {},
   "source": [
    "## Practice 2\n",
    "Create a tuple that contains a series of items and then calculate the length of the tuple.\n",
    "\n",
    "You may use the code from Practice 1 above as a starting point if you wish."
   ]
  },
  {
   "cell_type": "code",
   "execution_count": 7,
   "metadata": {},
   "outputs": [],
   "source": [
    "# your code here"
   ]
  },
  {
   "cell_type": "markdown",
   "metadata": {},
   "source": [
    "## Practice 3\n",
    "Fix the following code so all the information is displayed correctly. "
   ]
  },
  {
   "cell_type": "code",
   "execution_count": 10,
   "metadata": {},
   "outputs": [
    {
     "name": "stdout",
     "output_type": "stream",
     "text": [
      "('Jonathan', 'Vance', '679 Birchpond Street', 'Merrillville', 'IN', '46410', '219-555-4876')\n",
      "Last name: Jonathan\n",
      "First name: Vance\n",
      "Phone number: 46410\n",
      "Street: 679 Birchpond Street\n",
      "City: Merrillville\n",
      "State: IN\n",
      "Zip code: 46410\n"
     ]
    }
   ],
   "source": [
    "# do not change the first line of code\n",
    "info = (\"Jonathan\", \"Vance\", \"679 Birchpond Street\", \"Merrillville\", \"IN\", \"46410\", \"219-555-4876\") \n",
    "print(info)\n",
    "\n",
    "# change the index values to produce the correct outputs\n",
    "print(\"Last name: \"+info[0])\n",
    "print(\"First name: \"+info[1])\n",
    "print(\"Phone number: \"+info[5])\n",
    "print(\"Street: \"+info[2])\n",
    "print(\"City: \"+info[3])\n",
    "print(\"State: \"+info[4])\n",
    "print(\"Zip code: \"+info[-2])"
   ]
  },
  {
   "cell_type": "markdown",
   "metadata": {},
   "source": [
    "## Practice 4\n",
    "Use negative indexing to display all the items in the tuple below in alphabetical order."
   ]
  },
  {
   "cell_type": "code",
   "execution_count": 16,
   "metadata": {},
   "outputs": [
    {
     "name": "stdout",
     "output_type": "stream",
     "text": [
      "('Adams', 'Adams', 'Jackson', 'Jefferson', 'Madison', 'Monroe', 'Van Buren', 'Washington')\n",
      "('Adams', 'Jackson', 'Madison', 'Van Buren')\n",
      "('Adams', 'Jefferson', 'Van Buren')\n"
     ]
    }
   ],
   "source": [
    "info = (\"Washington\", \"Adams\", \"Jefferson\", \"Madison\", \"Monroe\", \"Adams\", \"Jackson\", \"Van Buren\")\n",
    "\n",
    "#my_tuple = tuple(sorted(info, reverse=true))\n",
    "\n",
    "#print(my_tuple[-1])\n",
    "\n",
    "# seperate print(info[-1])\n",
    "\n",
    "#print(info[-5])\n",
    "#print(info[-1])\n",
    "\n",
    "#print(sorted(info))\n",
    "\n",
    "#print(sorted(info, reverse=True)) independent \n",
    "\n",
    "my_tuple = tuple(sorted(info, reverse=True))  #by default in reverse order\n",
    "\n",
    "print(my_tuple[::-1])\n",
    "print(my_tuple[::-2])\n",
    "print(my_tuple[::-3])\n",
    "\n",
    "print(my_tuple[::1])\n",
    "print(my_tuple[::1]) #by default in reverse order"
   ]
  },
  {
   "cell_type": "code",
   "execution_count": 11,
   "metadata": {},
   "outputs": [
    {
     "name": "stdout",
     "output_type": "stream",
     "text": [
      "('Washington', 'Adams', 'Jefferson', 'Madison', 'Monroe', 'Adams', 'Jackson', 'Van Buren')\n",
      "['Adams', 'Adams', 'Jackson', 'Jefferson', 'Madison', 'Monroe', 'Van Buren', 'Washington']\n",
      "('Washington', 'Van Buren', 'Monroe', 'Madison', 'Jefferson', 'Jackson', 'Adams', 'Adams')\n",
      "('Adams', 'Adams', 'Jackson', 'Jefferson', 'Madison', 'Monroe', 'Van Buren', 'Washington')\n"
     ]
    }
   ],
   "source": [
    "#practice 4 more\n",
    "info = (\"Washington\", \"Adams\", \"Jefferson\", \"Madison\", \"Monroe\", \"Adams\", \"Jackson\", \"Van Buren\")\n",
    "#print(info[0:2:2])#not running\n",
    "print(info)\n",
    "print(sorted(info))     #sort tuple and rearrange in new one below\n",
    "\n",
    "my_tuple = tuple(sorted(info, reverse=True)) #reversed hard code?\n",
    "print(my_tuple)\n",
    "print(my_tuple[::-1])  #-1 reversed again using last item first"
   ]
  },
  {
   "cell_type": "markdown",
   "metadata": {},
   "source": [
    "## Practice 5a\n",
    "Update the code below so that each range references only one index value.\n",
    "\n",
    "The output should not change."
   ]
  },
  {
   "cell_type": "code",
   "execution_count": 18,
   "metadata": {},
   "outputs": [
    {
     "name": "stdout",
     "output_type": "stream",
     "text": [
      "The name is:\n",
      "('Jonathan', 'Vance')\n",
      "The address is:\n",
      "('679 Birchpond Street', 'Merrillville', 'IN', '46410')\n"
     ]
    }
   ],
   "source": [
    "info = (\"Jonathan\", \"Vance\", \"679 Birchpond Street\", \"Merrillville\", \"IN\", \"46410\") \n",
    "\n",
    "\n",
    "# we extract only the first two elements from the tuple and store them in a new tuple\n",
    "name = info[0:2]  \n",
    "print(\"The name is:\")\n",
    "print(name)\n",
    "\n",
    "# we extract only the last four elements from the tuple and store them in a new tuple\n",
    "address = info[-4:] \n",
    "print(\"The address is:\")\n",
    "print(address)"
   ]
  },
  {
   "cell_type": "markdown",
   "metadata": {},
   "source": [
    "## Practice 5b\n",
    "The tuple below contains the abbreviation of all the states in the USA. \n",
    "\n",
    "Use slicing to create three new tuples: \n",
    "* One tuple that contains all states that start with N\n",
    "* One tuple that contains all states that start with O\n",
    "* One tuple that contains all states that start with A"
   ]
  },
  {
   "cell_type": "code",
   "execution_count": null,
   "metadata": {},
   "outputs": [],
   "source": [
    "states = (\"AL\", \"AK\", \"AZ\", \"AR\", \"CA\", \"CO\", \"CT\", \"DE\", \"FL\", \"GA\", \n",
    "          \"HI\", \"ID\", \"IL\", \"IN\", \"IA\", \"KS\", \"KY\", \"LA\", \"ME\", \"MD\", \n",
    "          \"MA\", \"MI\", \"MN\", \"MS\", \"MO\", \"MT\", \"NE\", \"NV\", \"NH\", \"NJ\", \n",
    "          \"NM\", \"NY\", \"NC\", \"ND\", \"OH\", \"OK\", \"OR\", \"PA\", \"RI\", \"SC\", \n",
    "          \"SD\", \"TN\", \"TX\", \"UT\", \"VT\", \"VA\", \"WA\", \"WV\", \"WI\", \"WY\")\n",
    "\n",
    "# your code here "
   ]
  },
  {
   "cell_type": "markdown",
   "metadata": {},
   "source": [
    "## Practice 6\n",
    "Attempt each of the following tasks on the tuple defined below:\n",
    "* Add an integer representing Jonathan's age as the last item in the tuple.\n",
    "* Add the Zip code \"46410\" between the state and phone number.\n",
    "* Remove the phone number from the tuple.\n",
    "Attempt each of the tasks individually, run the code to see what happens, and then attempt the next task in the list.\n",
    "\n",
    "**Challenge**: Change the code so that the data is stored as a list rather than as a tuple and attempt each of the tasks again."
   ]
  },
  {
   "cell_type": "code",
   "execution_count": 2,
   "metadata": {},
   "outputs": [
    {
     "name": "stdout",
     "output_type": "stream",
     "text": [
      "['Jonathan', 'Vance', '679 Birchpond Street', 'Merrillville', 'IN', '219-555-4876']\n"
     ]
    },
    {
     "ename": "TypeError",
     "evalue": "list.append() takes exactly one argument (2 given)",
     "output_type": "error",
     "traceback": [
      "\u001b[1;31m---------------------------------------------------------------------------\u001b[0m",
      "\u001b[1;31mTypeError\u001b[0m                                 Traceback (most recent call last)",
      "\u001b[1;32m~\\AppData\\Local\\Temp\\ipykernel_29932\\1739397240.py\u001b[0m in \u001b[0;36m<module>\u001b[1;34m\u001b[0m\n\u001b[0;32m      3\u001b[0m \u001b[1;33m\u001b[0m\u001b[0m\n\u001b[0;32m      4\u001b[0m \u001b[0minfo\u001b[0m\u001b[1;33m.\u001b[0m\u001b[0mappend\u001b[0m\u001b[1;33m(\u001b[0m\u001b[1;36m23\u001b[0m\u001b[1;33m)\u001b[0m\u001b[1;33m\u001b[0m\u001b[1;33m\u001b[0m\u001b[0m\n\u001b[1;32m----> 5\u001b[1;33m \u001b[0minfo\u001b[0m\u001b[1;33m.\u001b[0m\u001b[0mappend\u001b[0m\u001b[1;33m(\u001b[0m\u001b[1;36m5\u001b[0m\u001b[1;33m,\u001b[0m \u001b[1;34m\"90210\"\u001b[0m\u001b[1;33m)\u001b[0m\u001b[1;33m\u001b[0m\u001b[1;33m\u001b[0m\u001b[0m\n\u001b[0m\u001b[0;32m      6\u001b[0m \u001b[0mprint\u001b[0m\u001b[1;33m(\u001b[0m\u001b[0minfo\u001b[0m\u001b[1;33m)\u001b[0m\u001b[1;33m\u001b[0m\u001b[1;33m\u001b[0m\u001b[0m\n",
      "\u001b[1;31mTypeError\u001b[0m: list.append() takes exactly one argument (2 given)"
     ]
    }
   ],
   "source": [
    "info = [\"Jonathan\", \"Vance\", \"679 Birchpond Street\", \"Merrillville\", \"IN\", \"219-555-4876\"] \n",
    "print(info)\n",
    "\n",
    "info.append(23)\n",
    "info.append(5, \"90210\")\n",
    "print(info)"
   ]
  },
  {
   "cell_type": "markdown",
   "metadata": {},
   "source": [
    "## Practice 7\n",
    "Create three tuples: \n",
    "* One tuple with a person's first name and last name\n",
    "* A second tuple with the person's complete address\n",
    "* A third tuple with contact information, such as a phone number and an email address\n",
    "\n",
    "Combine all tuples into a new, single tuple that contains all of the items from the original tuples."
   ]
  },
  {
   "cell_type": "code",
   "execution_count": 23,
   "metadata": {},
   "outputs": [
    {
     "name": "stdout",
     "output_type": "stream",
     "text": [
      "('firstname', 'lastname') ('Street', 'county', 'country') ('bag', 'dog', 'strawberry')\n"
     ]
    }
   ],
   "source": [
    "tuple_1 = (\"firstname\", \"lastname\",)\n",
    "tuple_2 = (\"Street\", \"county\", \"country\")\n",
    "tuple_3 = (\"bag\", \"dog\", \"strawberry\")\n",
    "\n",
    "print(tuple_1, tuple_2, tuple_3)"
   ]
  }
 ],
 "metadata": {
  "kernelspec": {
   "display_name": "Python 3 (ipykernel)",
   "language": "python",
   "name": "python3"
  },
  "language_info": {
   "codemirror_mode": {
    "name": "ipython",
    "version": 3
   },
   "file_extension": ".py",
   "mimetype": "text/x-python",
   "name": "python",
   "nbconvert_exporter": "python",
   "pygments_lexer": "ipython3",
   "version": "3.9.13"
  }
 },
 "nbformat": 4,
 "nbformat_minor": 2
}
