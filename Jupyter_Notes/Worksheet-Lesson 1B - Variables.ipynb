{
 "cells": [
  {
   "cell_type": "markdown",
   "metadata": {},
   "source": [
    "# Worksheet: Variables\n",
    "This worksheet includes the practice activities for *Lesson 1B: Variables* in the online course. Refer to that lesson as necessary to complete these activities."
   ]
  },
  {
   "cell_type": "markdown",
   "metadata": {},
   "source": [
    "## Practice 1\n",
    "Create three variables to store the following information:\n",
    "- Name: Your name\n",
    "- Age: Your age\n",
    "- States: A list that contains the names of the states (in the USA) where you have lived "
   ]
  },
  {
   "cell_type": "code",
   "execution_count": 11,
   "metadata": {},
   "outputs": [
    {
     "name": "stdout",
     "output_type": "stream",
     "text": [
      "['NY', 'Massachusetts', 'Florida']\n",
      "Dannie\n",
      "44\n"
     ]
    }
   ],
   "source": [
    "# Create the requested variables here.\n",
    "name=\"Dannie\"\n",
    "age=44\n",
    "states=[\"NY\", \"Massachusetts\", \"Florida\"]\n",
    "print (states)\n",
    "print (name)\n",
    "print (age)\n"
   ]
  },
  {
   "cell_type": "markdown",
   "metadata": {},
   "source": [
    "## Practice 2a\n",
    "Experiment with the example code below. What happens if you put the `print` statements at the end of the program? What if you put them above the corresponding variable statements?"
   ]
  },
  {
   "cell_type": "code",
   "execution_count": 7,
   "metadata": {},
   "outputs": [
    {
     "name": "stdout",
     "output_type": "stream",
     "text": [
      "0\n",
      "['Maya', 'Marley']\n",
      "0.06\n",
      "Hello World\n",
      "0.06\n",
      "True\n",
      "[45, 7, 25, 7, 2, 6, 4, 11]\n",
      "0\n"
     ]
    }
   ],
   "source": [
    "t =0 #a variable that stores an integer\n",
    "print(t)\n",
    "print(pets)\n",
    "print (tax_rate)\n",
    "message=\"Hello World\"  #a variable that stores a string\n",
    "print(message)\n",
    "tax_rate=0.06 #a variable that stores fractional numbers\n",
    "print(tax_rate)\n",
    "isFromNH = True  #a variable that stores boolean values true or false\n",
    "print(isFromNH)\n",
    "pets = [\"Maya\",\"Marley\"] #a variable that stores a list of strings \n",
    "\n",
    "winning_numbers= [45,7,25,7,2,6,4,11]  #a variable that stores a list of integers\n",
    "print(winning_numbers)\n",
    "print (t)\n"
   ]
  },
  {
   "cell_type": "markdown",
   "metadata": {},
   "source": [
    "## Practice 2b\n",
    "Using the example given above, create variables to store your name, your age, and a list of states you have lived in and then display those values in the output."
   ]
  },
  {
   "cell_type": "code",
   "execution_count": 9,
   "metadata": {},
   "outputs": [
    {
     "name": "stdout",
     "output_type": "stream",
     "text": [
      "Dann\n",
      "44\n",
      "Hertfordshire\n"
     ]
    }
   ],
   "source": [
    "name = (\"Dann\")\n",
    "age = (\"44\")\n",
    "county = (\"Hertfordshire\")\n",
    "print(name)\n",
    "print (age)\n",
    "print (county)\n"
   ]
  },
  {
   "cell_type": "markdown",
   "metadata": {},
   "source": [
    "## Practice 3a"
   ]
  },
  {
   "cell_type": "markdown",
   "metadata": {},
   "source": [
    "Note that when you run a program that includes an error, the code stops as soon as it reaches an error. We only see one error above because the program stops as soon as it finds a variable whose name starts with a number.\n",
    "\n",
    "Change the code in line 4 below to make the variable name valid and run the code again. What happens when the program reaches line 5?"
   ]
  },
  {
   "cell_type": "code",
   "execution_count": 14,
   "metadata": {
    "scrolled": true
   },
   "outputs": [
    {
     "name": "stdout",
     "output_type": "stream",
     "text": [
      "35\n",
      "43\n",
      "34\n",
      "35\n",
      "36\n"
     ]
    }
   ],
   "source": [
    "age = 33 #correct\n",
    "_age = 43 #correct\n",
    "__age = 34 #correct for python to use underscore\n",
    "age = 35  #correct\n",
    "age_1 = 36 #correct\n",
    "print(age)\n",
    "print(_age)\n",
    "print(__age)\n",
    "print(age)\n",
    "print(age_1)\n"
   ]
  },
  {
   "cell_type": "markdown",
   "metadata": {},
   "source": [
    "## Practice 3b\n",
    "Fix the following code to create three valid variable names. Add `print` statements to display the values associated with each variable and run the code to verify that there are no errors. "
   ]
  },
  {
   "cell_type": "code",
   "execution_count": 15,
   "metadata": {},
   "outputs": [
    {
     "name": "stdout",
     "output_type": "stream",
     "text": [
      "Alex\n",
      "35\n",
      "['Kentucky', 'New Jersey']\n"
     ]
    }
   ],
   "source": [
    "name=\"Dann\"\n",
    "age = 44\n",
    "list_of_states = [\"Kentucky\",\"New Jersey\"]\n",
    "print(name)\n",
    "print(age)\n",
    "print(list_of_states)"
   ]
  },
  {
   "cell_type": "markdown",
   "metadata": {},
   "source": [
    "## Practice 4 \n",
    "While longer names can be useful to make variable names meaningful, it is best practice to keep variable names relatively short whenever possible. Very long names can be hard to re-use because they take more time to key out and because the length makes it more likely that errors will occur when rekeying the name.\n",
    "\n",
    "Run the code in the following cell and then fix the problem so that the code will display the associated value correctly."
   ]
  },
  {
   "cell_type": "code",
   "execution_count": 17,
   "metadata": {},
   "outputs": [
    {
     "name": "stdout",
     "output_type": "stream",
     "text": [
      "5\n"
     ]
    }
   ],
   "source": [
    "thisisavalidvariablenamealthoughitisverylong=5\n",
    "print(thisisavalidvariablenamealthoughitisverylong) # very was missing in variable name"
   ]
  },
  {
   "cell_type": "code",
   "execution_count": null,
   "metadata": {},
   "outputs": [],
   "source": []
  }
 ],
 "metadata": {
  "kernelspec": {
   "display_name": "Python 3 (ipykernel)",
   "language": "python",
   "name": "python3"
  },
  "language_info": {
   "codemirror_mode": {
    "name": "ipython",
    "version": 3
   },
   "file_extension": ".py",
   "mimetype": "text/x-python",
   "name": "python",
   "nbconvert_exporter": "python",
   "pygments_lexer": "ipython3",
   "version": "3.9.13"
  }
 },
 "nbformat": 4,
 "nbformat_minor": 2
}
