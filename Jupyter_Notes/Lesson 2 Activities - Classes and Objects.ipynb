{
 "cells": [
  {
   "cell_type": "markdown",
   "metadata": {},
   "source": [
    "# Lesson 2 Activities: Classes and Objects\n",
    "The activities in this page will allow you to demonstrate your ability to:\n",
    "* Create a class that includes at least three attributes appropriate for that class.\n",
    "* Use a class to create two or more separate objects.\n",
    "* Define and use a constructor in a class.\n",
    "* Create one or more methods that describe a behavior associated with a class and implement those methods in a program.\n",
    "* Reference a class as an attribute of another class to create a complex entity."
   ]
  },
  {
   "cell_type": "markdown",
   "metadata": {},
   "source": [
    "## Activity 1\n",
    "The lesson uses `Person` and `Animal` as example classes. For this activity, choose another `Noun` of your choice to create a class. It can be anything you wish, as long as it meets the following criteria:\n",
    "* Do not use people or animals.\n",
    "* The category must be broad enough to include different examples of the category.\n",
    "* It must represent a real-life object.\n",
    "\n",
    "Include at least three attributes that are common to most (if not all) instances of the `Noun`. Use appropriate naming conventions."
   ]
  },
  {
   "cell_type": "code",
   "execution_count": 5,
   "metadata": {},
   "outputs": [
    {
     "name": "stdout",
     "output_type": "stream",
     "text": [
      "<class '__main__.motor_bike'>\n"
     ]
    }
   ],
   "source": [
    "class motor_bike:\n",
    "    engine_size = \"\"\n",
    "    purpose = \"\"\n",
    "    handle_bars = \"\"\n",
    "    name = \"\"\n",
    "    \n",
    "motor_bike_1 = motor_bike()\n",
    "motor_bike_1.engine_size = \"1000\"\n",
    "motor_bike_1.purpose = \"Racing\"\n",
    "motor_bike_1.handle_bars = \"Ace\"\n",
    "motor_bike_1.name = \"Yamaha_R1\"\n",
    "\n",
    "print(motor_bike) \n"
   ]
  },
  {
   "cell_type": "markdown",
   "metadata": {},
   "source": [
    "## Activity 2\n",
    "Use the `Noun` class you created in the previous activity to create at least four different objects. Print out all attributes for each object."
   ]
  },
  {
   "cell_type": "code",
   "execution_count": 1,
   "metadata": {},
   "outputs": [
    {
     "name": "stdout",
     "output_type": "stream",
     "text": [
      "1000\n",
      "Racing\n",
      "Ace\n",
      "Yamaha_R1\n",
      "1340\n",
      "Cruising\n",
      "Buckhorn\n",
      "Buell_s2_Lightning\n",
      "100\n",
      "City\n",
      "Renthals\n",
      "Yamaha_RXS\n",
      "600\n",
      "Street_Fighter\n",
      "Renthals\n",
      "Yamaha_FZ6\n"
     ]
    }
   ],
   "source": [
    "class motor_bike:\n",
    "    engine_size = \"\"\n",
    "    purpose = \"\"\n",
    "    handle_bars = \"\"\n",
    "    name = \"\"\n",
    "    def __init__(self, engine_size, purpose, handle_bars, name):\n",
    "        self.engine_size = engine_size\n",
    "        self.purpose = purpose\n",
    "        self.handle_bars = handle_bars\n",
    "        self.name = name\n",
    "        \n",
    "    def display_info(self):\n",
    "        print(self.engine_size)\n",
    "        print(self.purpose)\n",
    "        print(self.handle_bars)\n",
    "        print(self.name)\n",
    "\n",
    "\n",
    "motor_bike_1 = motor_bike(\"1000\", \"Racing\", \"Ace\", \"Yamaha_R1\" )\n",
    "motor_bike_1.display_info()\n",
    "motor_bike_2 = motor_bike(\"1340\", \"Cruising\", \"Buckhorn\", \"Buell_s2_Lightning\" )\n",
    "motor_bike_2.display_info()\n",
    "motor_bike_3 = motor_bike(\"100\", \"City\", \"Renthals\", \"Yamaha_RXS\" )\n",
    "motor_bike_3.display_info()\n",
    "motor_bike_4 = motor_bike(\"600\", \"Street_Fighter\", \"Renthals\", \"Yamaha_FZ6\" )\n",
    "motor_bike_4.display_info()"
   ]
  },
  {
   "cell_type": "markdown",
   "metadata": {},
   "source": [
    "## Activity 3\n",
    "Create an `__init__` method for your `Noun` class. Include at least four of the attributes you originally defined in the new method."
   ]
  },
  {
   "cell_type": "code",
   "execution_count": 52,
   "metadata": {},
   "outputs": [
    {
     "name": "stdout",
     "output_type": "stream",
     "text": [
      "1000\n",
      "Racing\n",
      "Ace\n",
      "Yamaha_R1\n",
      "1340\n",
      "Cruising\n",
      "Buckhorn\n",
      "Buell_s2_Lightning\n",
      "100\n",
      "City\n",
      "Renthals\n",
      "Yamaha_RXS\n",
      "600\n",
      "Street_Fighter\n",
      "Renthals\n",
      "Yamaha_FZ6\n",
      "{'Yamaha_R1': '£8,000', 'Buell_s2_Lightning': '£9,500', 'Yamaha_RXS': '£600', 'Yamaha_FZ6': '£4,400', 'Rothmans_Honda': '£37,000'}\n"
     ]
    }
   ],
   "source": [
    "class motor_bike:\n",
    "    engine_size = \"\"\n",
    "    purpose = \"\"\n",
    "    handle_bars = \"\"\n",
    "    name = \"\"\n",
    "    def __init__(self, engine_size, purpose, handle_bars, name):\n",
    "        self.engine_size = engine_size\n",
    "        self.purpose = purpose\n",
    "        self.handle_bars = handle_bars\n",
    "        self.name = name\n",
    "        \n",
    "    def display_info(self):\n",
    "        print(self.engine_size)\n",
    "        print(self.purpose)\n",
    "        print(self.handle_bars)\n",
    "        print(self.name)\n",
    "\n",
    "\n",
    "motor_bike_1 = motor_bike(\"1000\", \"Racing\", \"Ace\", \"Yamaha_R1\" )\n",
    "motor_bike_1.display_info()\n",
    "motor_bike_2 = motor_bike(\"1340\", \"Cruising\", \"Buckhorn\", \"Buell_s2_Lightning\" )\n",
    "motor_bike_2.display_info()\n",
    "motor_bike_3 = motor_bike(\"100\", \"City\", \"Renthals\", \"Yamaha_RXS\" )\n",
    "motor_bike_3.display_info()\n",
    "motor_bike_4 = motor_bike(\"600\", \"Street_Fighter\", \"Renthals\", \"Yamaha_FZ6\" )\n",
    "motor_bike_4.display_info()\n",
    "\n",
    "print(sales)"
   ]
  },
  {
   "cell_type": "markdown",
   "metadata": {},
   "source": [
    "## Activity 4\n",
    "Create a method for your `Noun` class. The method should perform a specific activity (or series of activities) on objects based on the class. \n",
    "\n",
    "Although this can be a simple `display`, you are encouraged to consider more complicated activities in the method."
   ]
  },
  {
   "cell_type": "code",
   "execution_count": 54,
   "metadata": {},
   "outputs": [
    {
     "name": "stdout",
     "output_type": "stream",
     "text": [
      "{'Yamaha_R1': '£8,000', 'Buell_s2_Lightning': '£9,500', 'Yamaha_RXS': '£600', 'Yamaha_FZ6': '£4,400', 'Rothmans_Honda': '£37,000'}\n"
     ]
    }
   ],
   "source": [
    "class motor_bike:\n",
    "    engine_size = \"\"\n",
    "    purpose = \"\"\n",
    "    handle_bars = \"\"\n",
    "    name = \"\"\n",
    "    price = \"\"\n",
    "    def __init__(self, engine_size, purpose, handle_bars, name, price):\n",
    "        self.engine_size = engine_size\n",
    "        self.purpose = purpose\n",
    "        self.handle_bars = handle_bars\n",
    "        self.name = name\n",
    "        self.price = price\n",
    "        \n",
    "    def display_info(self):\n",
    "        print(self.engine_size)\n",
    "        print(self.purpose)\n",
    "        print(self.handle_bars)\n",
    "        print(self.name)\n",
    "        print(self.price)\n",
    "\n",
    "        \n",
    "    def myfunc(self):\n",
    "        print(\"Bikes for Sale \" + sales)\n",
    "\n",
    "sales = {}\n",
    "\n",
    "motor_bike_1 = motor_bike(\"1000\", \"Racing\", \"Ace\", \"Yamaha_R1\", \"£8,000\" )\n",
    "#motor_bike_1.display_info()\n",
    "motor_bike_2 = motor_bike(\"1340\", \"Cruising\", \"Buckhorn\", \"Buell_s2_Lightning\", \"£9,500\" )\n",
    "#motor_bike_2.display_info()\n",
    "motor_bike_3 = motor_bike(\"100\", \"City\", \"Renthals\", \"Yamaha_RXS\", \"£600\" )\n",
    "#motor_bike_3.display_info()\n",
    "motor_bike_4 = motor_bike(\"600\", \"Street_Fighter\", \"Renthals\", \"Yamaha_FZ6\", \"£4,400\" )\n",
    "#motor_bike_4.display_info()\n",
    "motor_bike_4 = motor_bike(\"500\", \"Racing\", \"Ace\", \"Rothmans_Honda\", \"£37,000\" )\n",
    "#motor_bike_4.display_info()\n",
    "\n",
    "sales.update({\"Yamaha_R1\":\"£8,000\"})\n",
    "sales.update({\"Buell_s2_Lightning\":\"£9,500\"})\n",
    "sales.update({\"Yamaha_RXS\":\"£600\"})\n",
    "sales.update({\"Yamaha_FZ6\":\"£4,400\"})\n",
    "sales.update({\"Rothmans_Honda\":\"£37,000\"})\n",
    "\n",
    "print(sales)"
   ]
  },
  {
   "cell_type": "code",
   "execution_count": 42,
   "metadata": {},
   "outputs": [
    {
     "name": "stdout",
     "output_type": "stream",
     "text": [
      "1000\n",
      "Racing\n",
      "Ace\n",
      "Yamaha_R1\n",
      "1340\n",
      "Cruising\n",
      "Buckhorn\n",
      "Buell_s2_Lightning\n",
      "100\n",
      "City\n",
      "Renthals\n",
      "Yamaha_RXS\n",
      "600\n",
      "Street_Fighter\n",
      "Renthals\n",
      "Yamaha_FZ6\n"
     ]
    },
    {
     "ename": "AttributeError",
     "evalue": "'motor_bike' object has no attribute 'update'",
     "output_type": "error",
     "traceback": [
      "\u001b[1;31m---------------------------------------------------------------------------\u001b[0m",
      "\u001b[1;31mAttributeError\u001b[0m                            Traceback (most recent call last)",
      "\u001b[1;32m~\\AppData\\Local\\Temp\\ipykernel_5608\\2076935683.py\u001b[0m in \u001b[0;36m<module>\u001b[1;34m\u001b[0m\n\u001b[0;32m     10\u001b[0m \u001b[0mmotor_bike_4\u001b[0m\u001b[1;33m.\u001b[0m\u001b[0mdisplay_info\u001b[0m\u001b[1;33m(\u001b[0m\u001b[1;33m)\u001b[0m\u001b[1;33m\u001b[0m\u001b[1;33m\u001b[0m\u001b[0m\n\u001b[0;32m     11\u001b[0m \u001b[1;33m\u001b[0m\u001b[0m\n\u001b[1;32m---> 12\u001b[1;33m \u001b[0mmotor_bike_1\u001b[0m\u001b[1;33m.\u001b[0m\u001b[0mupdate\u001b[0m\u001b[1;33m(\u001b[0m\u001b[0msales\u001b[0m\u001b[1;33m)\u001b[0m\u001b[1;33m\u001b[0m\u001b[1;33m\u001b[0m\u001b[0m\n\u001b[0m\u001b[0;32m     13\u001b[0m \u001b[0mmotor_bike_2\u001b[0m\u001b[1;33m.\u001b[0m\u001b[0mupdate\u001b[0m\u001b[1;33m(\u001b[0m\u001b[0msales\u001b[0m\u001b[1;33m)\u001b[0m\u001b[1;33m\u001b[0m\u001b[1;33m\u001b[0m\u001b[0m\n\u001b[0;32m     14\u001b[0m \u001b[0mupdate\u001b[0m\u001b[1;33m(\u001b[0m\u001b[0msales\u001b[0m\u001b[1;33m)\u001b[0m\u001b[1;33m\u001b[0m\u001b[1;33m\u001b[0m\u001b[0m\n",
      "\u001b[1;31mAttributeError\u001b[0m: 'motor_bike' object has no attribute 'update'"
     ]
    }
   ],
   "source": [
    "#extra\n",
    "sales = {}\n",
    "\n",
    "motor_bike_1 = motor_bike(\"1000\", \"Racing\", \"Ace\", \"Yamaha_R1\" )\n",
    "motor_bike_1.display_info()\n",
    "motor_bike_2 = motor_bike(\"1340\", \"Cruising\", \"Buckhorn\", \"Buell_s2_Lightning\" )\n",
    "motor_bike_2.display_info()\n",
    "motor_bike_3 = motor_bike(\"100\", \"City\", \"Renthals\", \"Yamaha_RXS\" )\n",
    "motor_bike_3.display_info()\n",
    "motor_bike_4 = motor_bike(\"600\", \"Street_Fighter\", \"Renthals\", \"Yamaha_FZ6\" )\n",
    "motor_bike_4.display_info()\n",
    "\n",
    "motor_bike_1.update(sales)\n",
    "motor_bike_2.update(sales)\n",
    "update(sales)\n",
    "motor_bike_4.update(sales)\n",
    "print(sales)\n",
    "#extra"
   ]
  },
  {
   "cell_type": "markdown",
   "metadata": {},
   "source": [
    "## Activity 5\n",
    "Create a separate class that is logically related to your original `Noun` class, based on the example that a `Person` can have one or more `Addresses`.\n",
    "\t\n",
    "Create at least one `Noun` object that includes a list of objects from the associated class. Display the `Noun` with the related objects."
   ]
  },
  {
   "cell_type": "code",
   "execution_count": 11,
   "metadata": {},
   "outputs": [
    {
     "name": "stdout",
     "output_type": "stream",
     "text": [
      "1000\n",
      "Racing\n",
      "Ace\n",
      "Yamaha_R1\n",
      "£8,000\n",
      "1340\n",
      "Cruising\n",
      "Buckhorn\n",
      "Buell_s2_Lightning\n",
      "£9,500\n",
      "100\n",
      "City\n",
      "Renthals\n",
      "Yamaha_RXS\n",
      "£600\n",
      "600\n",
      "Street_Fighter\n",
      "Renthals\n",
      "Yamaha_FZ6\n",
      "£4,400\n",
      "500\n",
      "Racing\n",
      "Ace\n",
      "Rothmans_Honda\n",
      "£37,000\n",
      "Bikes For Sale {'Yamaha_R1': '£8,000', 'Buell_s2_Lightning': '£9,500', 'Yamaha_RXS': '£600', 'Yamaha_FZ6': '£4,400', 'Rothmans_Honda': '£37,000'}\n",
      "All Tyres Availible To Fit Today!  [['Slicks', 'Wets', 'Every_day', 'Enduro', 'Nobblies']] Best Prices In Town!\n"
     ]
    }
   ],
   "source": [
    "class motor_bike:\n",
    "    engine_size = \"\"\n",
    "    purpose = \"\"\n",
    "    handle_bars = \"\"\n",
    "    name = \"\"\n",
    "    price = \"\"\n",
    "    def __init__(self, engine_size, purpose, handle_bars, name, price):\n",
    "        self.engine_size = engine_size\n",
    "        self.purpose = purpose\n",
    "        self.handle_bars = handle_bars\n",
    "        self.name = name\n",
    "        self.price = price\n",
    "        \n",
    "    def display_info(self):\n",
    "        print(self.engine_size)\n",
    "        print(self.purpose)\n",
    "        print(self.handle_bars)\n",
    "        print(self.name)\n",
    "        print(self.price)\n",
    " \n",
    "\n",
    "   \n",
    "sales = {}\n",
    "\n",
    "motor_bike_1 = motor_bike(\"1000\", \"Racing\", \"Ace\", \"Yamaha_R1\", \"£8,000\" )\n",
    "motor_bike_1.display_info()\n",
    "motor_bike_2 = motor_bike(\"1340\", \"Cruising\", \"Buckhorn\", \"Buell_s2_Lightning\", \"£9,500\" )\n",
    "motor_bike_2.display_info()\n",
    "motor_bike_3 = motor_bike(\"100\", \"City\", \"Renthals\", \"Yamaha_RXS\", \"£600\" )\n",
    "motor_bike_3.display_info()\n",
    "motor_bike_4 = motor_bike(\"600\", \"Street_Fighter\", \"Renthals\", \"Yamaha_FZ6\", \"£4,400\" )\n",
    "motor_bike_4.display_info()\n",
    "motor_bike_4 = motor_bike(\"500\", \"Racing\", \"Ace\", \"Rothmans_Honda\", \"£37,000\" )\n",
    "motor_bike_4.display_info()\n",
    "\n",
    "tyres = []\n",
    "\n",
    "sales.update({\"Yamaha_R1\":\"£8,000\"})\n",
    "sales.update({\"Buell_s2_Lightning\":\"£9,500\"})\n",
    "sales.update({\"Yamaha_RXS\":\"£600\"})\n",
    "sales.update({\"Yamaha_FZ6\":\"£4,400\"})\n",
    "sales.update({\"Rothmans_Honda\":\"£37,000\"})\n",
    "\n",
    "tyres.append([\"Slicks\", \"Wets\", \"Every_day\", \"Enduro\", \"Nobblies\",])\n",
    "\n",
    "print(\"Bikes For Sale\", sales)\n",
    "print(\"All Tyres Availible To Fit Today! \", tyres, \"Best Prices In Town!\")\n",
    "\n",
    "#dont think this is quite right? need to put list into class."
   ]
  },
  {
   "cell_type": "code",
   "execution_count": 24,
   "metadata": {},
   "outputs": [
    {
     "name": "stdout",
     "output_type": "stream",
     "text": [
      "1000\n",
      "Racing\n",
      "Ace\n",
      "Yamaha_R1\n",
      "£8,000\n",
      "1340\n",
      "Cruising\n",
      "Buckhorn\n",
      "Buell_s2_Lightning\n",
      "£9,500\n",
      "100\n",
      "City\n",
      "Renthals\n",
      "Yamaha_RXS\n",
      "£600\n",
      "600\n",
      "Street_Fighter\n",
      "Renthals\n",
      "Yamaha_FZ6\n",
      "£4,400\n",
      "500\n",
      "Racing\n",
      "Ace\n",
      "Rothmans_Honda\n",
      "£37,000\n",
      "{}\n",
      "All Tyres Availible To Fit Today! ['Slicks', 'Wets', 'Every_day', 'Enduro', 'Nobblies'] Best Prices In Town!\n",
      "Bikes For Sale {'Yamaha_R1': '£8,000', 'Buell_s2_Lightning': '£9,500', 'Yamaha_RXS': '£600', 'Yamaha_FZ6': '£4,400', 'Rothmans_Honda': '£37,000'}\n"
     ]
    }
   ],
   "source": [
    "class motor_bike:\n",
    "    engine_size = \"\"\n",
    "    purpose = \"\"\n",
    "    handle_bars = \"\"\n",
    "    name = \"\"\n",
    "    price = \"\"\n",
    "    def __init__(self, engine_size, purpose, handle_bars, name, price):\n",
    "        self.engine_size = engine_size\n",
    "        self.purpose = purpose\n",
    "        self.handle_bars = handle_bars\n",
    "        self.name = name\n",
    "        self.price = price\n",
    "        \n",
    "    def display_info(self):\n",
    "        print(self.engine_size)\n",
    "        print(self.purpose)\n",
    "        print(self.handle_bars)\n",
    "        print(self.name)\n",
    "        print(self.price)\n",
    " \n",
    "\n",
    "motor_bike_1 = motor_bike(\"1000\", \"Racing\", \"Ace\", \"Yamaha_R1\", \"£8,000\" )\n",
    "motor_bike_1.display_info()\n",
    "motor_bike_2 = motor_bike(\"1340\", \"Cruising\", \"Buckhorn\", \"Buell_s2_Lightning\", \"£9,500\" )\n",
    "motor_bike_2.display_info()\n",
    "motor_bike_3 = motor_bike(\"100\", \"City\", \"Renthals\", \"Yamaha_RXS\", \"£600\" )\n",
    "motor_bike_3.display_info()\n",
    "motor_bike_4 = motor_bike(\"600\", \"Street_Fighter\", \"Renthals\", \"Yamaha_FZ6\", \"£4,400\" )\n",
    "motor_bike_4.display_info()\n",
    "motor_bike_4 = motor_bike(\"500\", \"Racing\", \"Ace\", \"Rothmans_Honda\", \"£37,000\" )\n",
    "motor_bike_4.display_info()\n",
    "motor_bike_5 = [\"Slicks\", \"Wets\", \"Every_day\", \"Enduro\", \"Nobblies\"]\n",
    "print(sales)\n",
    "sales = {}\n",
    "sales.update({\"Yamaha_R1\":\"£8,000\"})\n",
    "sales.update({\"Buell_s2_Lightning\":\"£9,500\"})\n",
    "sales.update({\"Yamaha_RXS\":\"£600\"})\n",
    "sales.update({\"Yamaha_FZ6\":\"£4,400\"})\n",
    "sales.update({\"Rothmans_Honda\":\"£37,000\"})\n",
    "\n",
    "print(\"All Tyres Availible To Fit Today!\", motor_bike_5, \"Best Prices In Town!\")\n",
    "tyres = []\n",
    "print(\"Bikes For Sale\", sales)\n"
   ]
  },
  {
   "cell_type": "code",
   "execution_count": null,
   "metadata": {},
   "outputs": [],
   "source": []
  }
 ],
 "metadata": {
  "kernelspec": {
   "display_name": "Python 3 (ipykernel)",
   "language": "python",
   "name": "python3"
  },
  "language_info": {
   "codemirror_mode": {
    "name": "ipython",
    "version": 3
   },
   "file_extension": ".py",
   "mimetype": "text/x-python",
   "name": "python",
   "nbconvert_exporter": "python",
   "pygments_lexer": "ipython3",
   "version": "3.9.13"
  }
 },
 "nbformat": 4,
 "nbformat_minor": 2
}
