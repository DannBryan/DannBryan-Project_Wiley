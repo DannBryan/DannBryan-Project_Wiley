{
 "cells": [
  {
   "cell_type": "markdown",
   "metadata": {},
   "source": [
    "# Worksheet: Numbers and Number Operations\n",
    "This worksheet includes the practice activities for *Lesson 2A: Numbers and Number Operations* in the online course. Refer to that lesson as necessary to complete these activities."
   ]
  },
  {
   "cell_type": "markdown",
   "metadata": {},
   "source": [
    "## Practice 1 \n",
    "Create these variables:\n",
    "* One variable to store the number of days in a year\n",
    "* One variable to store the number of minutes in a day\n",
    "* Two variables to store the latitude and longitude of the city where you live \n",
    "\n",
    "You can use the [LatLong.net](https://www.latlong.net/) website to retrieve the latitude and longitude values of your city. "
   ]
  },
  {
   "cell_type": "code",
   "execution_count": 5,
   "metadata": {},
   "outputs": [
    {
     "name": "stdout",
     "output_type": "stream",
     "text": [
      "You are here >> 51.89984 -0.20258\n"
     ]
    }
   ],
   "source": [
    "# your code here\n",
    "days_in_year = 365\n",
    "minutes_in_day = 1440\n",
    "my_lat = 51.899840\n",
    "my_long = -0.202580\n",
    "print(\"You are here >>\", my_lat, my_long )\n",
    "#complete"
   ]
  },
  {
   "cell_type": "markdown",
   "metadata": {},
   "source": [
    "## Practice 2\n",
    "* Modify the code below so that Python displays the type for each of the variables.\n",
    "* Create a new variable that uses only numeric characters, but define it as a string. Use `type` to verify that Python treats it as a string."
   ]
  },
  {
   "cell_type": "code",
   "execution_count": 11,
   "metadata": {},
   "outputs": [
    {
     "name": "stdout",
     "output_type": "stream",
     "text": [
      "33\n",
      "0.06\n",
      "(1+3.4j)\n",
      "<class 'str'>\n"
     ]
    }
   ],
   "source": [
    "age = 33 #integer \n",
    "tax_rate = 0.06  #float type\n",
    "coordinates = 1+3.4j #complex type z : a+b*j\n",
    "some_number = str(\"200\")\n",
    "print(age)\n",
    "print(tax_rate)\n",
    "print(coordinates)\n",
    "print (type(some_number))\n",
    "\n",
    "#complete"
   ]
  },
  {
   "cell_type": "markdown",
   "metadata": {},
   "source": [
    "## Practice 3\n",
    "Create a Python script that starts with three declared values, `a`, `b`, and `c`, with numeric values of your choice.\n",
    "\n",
    "Using those values, perform the following calculations and print the results of each:\n",
    "\n",
    "* `a` plus `b` minus `c`\n",
    "* `a` minus `b` times `c`\n",
    "* `a` divided by `b` divided by `c`\n",
    "* The remainder of `a` divided by `b` to the power of `c`\n",
    "* `a` plus `c` divided by `b`"
   ]
  },
  {
   "cell_type": "code",
   "execution_count": 12,
   "metadata": {},
   "outputs": [
    {
     "name": "stdout",
     "output_type": "stream",
     "text": [
      "10\n",
      "41\n",
      "-0.9523809523809524\n",
      "-1\n",
      "-5.666666666666667\n"
     ]
    }
   ],
   "source": [
    "a, b, c = 20, -3, 7\n",
    "\n",
    "print (a + b - c)\n",
    "print (a - b * c)\n",
    "print (a /b / c)\n",
    "print ( (a % b) ** c)\n",
    "print((a + b) / b)\n",
    "#complete"
   ]
  },
  {
   "cell_type": "markdown",
   "metadata": {},
   "source": [
    "## Practice 4\n",
    "Create a Python script that starts with three declared values, `a`, `b`, and `c`, with numeric values of your choice.\n",
    "\n",
    "Using those values, perform the following calculations and print the results of each. For each calculation, use a single statement that executes the operations in the order described here:\n",
    "\n",
    "* `c` plus `a`, minus `b`\n",
    "* `c` minus `a`, times `b`\n",
    "* `c` divided by `a`, with the result divided by `b`\n",
    "* The remainder of `c` divided by `a`, then the remainder to the power of `b`\n",
    "* `c` plus `b`, divided by `a`\n"
   ]
  },
  {
   "cell_type": "code",
   "execution_count": 12,
   "metadata": {},
   "outputs": [
    {
     "name": "stdout",
     "output_type": "stream",
     "text": [
      "30\n",
      "67\n",
      "-0.33333333333333337\n",
      "0.0029154518950437317\n",
      "0.2\n"
     ]
    }
   ],
   "source": [
    "# your code here\n",
    "a, b, c = 20, -3, 7\n",
    "\n",
    "print (c + a - b)\n",
    "print (c - a * b)\n",
    "print (c /b / c)\n",
    "print ( (c % a) ** b)\n",
    "print((b + c) / a)\n",
    "#complete"
   ]
  },
  {
   "cell_type": "markdown",
   "metadata": {},
   "source": [
    "## Practice 5\n",
    "Create a series of variables, `a`, `b`, and `c`, using float values of your choice.\n",
    "\n",
    "Create expressions that perform the following calculations:\n",
    "* `a` multiplied by `c`, with the result rounded up to the closest integer\n",
    "* `a` divided by `b`, with the result rounded down to the closest integer\n",
    "* The square root of `b`, rounded to three decimal places\n",
    "* `c` plus `b`, divided by `a`, with the result rounded up to the closest integer\n",
    "* The binary equivalent of `b` rounded to the closest integer"
   ]
  },
  {
   "cell_type": "code",
   "execution_count": 21,
   "metadata": {},
   "outputs": [],
   "source": [
    "import math\n",
    "a, b, c = 20.2, -3, 7\n",
    "\n",
    "print(math.ceil( a * c))\n",
    "print (c - a * b)\n",
    "print (c /b / c)\n",
    "print ( (c % a) ** b)\n",
    "print((b + c) / a)"
   ]
  },
  {
   "cell_type": "code",
   "execution_count": 13,
   "metadata": {},
   "outputs": [
    {
     "data": {
      "text/plain": [
       "20"
      ]
     },
     "execution_count": 13,
     "metadata": {},
     "output_type": "execute_result"
    }
   ],
   "source": [
    "import math\n",
    "math.ceil\n",
    "math.floor(20.8868868)"
   ]
  },
  {
   "cell_type": "code",
   "execution_count": 15,
   "metadata": {},
   "outputs": [
    {
     "data": {
      "text/plain": [
       "10.06"
      ]
     },
     "execution_count": 15,
     "metadata": {},
     "output_type": "execute_result"
    }
   ],
   "source": [
    "round(10.057383, 2)"
   ]
  },
  {
   "cell_type": "code",
   "execution_count": 14,
   "metadata": {},
   "outputs": [
    {
     "data": {
      "text/plain": [
       "2"
      ]
     },
     "execution_count": 14,
     "metadata": {},
     "output_type": "execute_result"
    }
   ],
   "source": [
    "20 // 7"
   ]
  },
  {
   "cell_type": "code",
   "execution_count": 16,
   "metadata": {},
   "outputs": [
    {
     "data": {
      "text/plain": [
       "10"
      ]
     },
     "execution_count": 16,
     "metadata": {},
     "output_type": "execute_result"
    }
   ],
   "source": [
    "int(10.46637)"
   ]
  },
  {
   "cell_type": "markdown",
   "metadata": {},
   "source": [
    "## Practice 6\n",
    "Create a Python script that performs the following steps: \n",
    "* Assign a floating point number of your choice to a variable `num1`.\n",
    "* Round `num1` up to the nearest integer and stores the result in a variable `a`.\n",
    "* Assign a second floating point number of your choice to a variable `num2`.\n",
    "* Round `num2` down to the nearest integer and store the result in a variable `b`.\n",
    "* Print the sum of `a` and `b`."
   ]
  },
  {
   "cell_type": "code",
   "execution_count": 17,
   "metadata": {},
   "outputs": [
    {
     "name": "stdout",
     "output_type": "stream",
     "text": [
      "10.0932\n",
      "10.0\n",
      "11\n",
      "21.0\n"
     ]
    }
   ],
   "source": [
    "import math\n",
    "num1 = 10.0932\n",
    "a = round(num1, 0)\n",
    "num2 = 11.7\n",
    "b = math.floor(num2,)\n",
    "\n",
    "print (num1)\n",
    "print (a)\n",
    "print (b)\n",
    "print(a + b) \n",
    "\n",
    "#almost"
   ]
  },
  {
   "cell_type": "code",
   "execution_count": null,
   "metadata": {
    "collapsed": true
   },
   "outputs": [],
   "source": [
    "# your code here"
   ]
  },
  {
   "cell_type": "markdown",
   "metadata": {},
   "source": [
    "## Practice 7a\n",
    "Create a script that performs the following steps:\n",
    "1. Prompt the user for a four-digit year.\n",
    "1. Prompt the user to enter an integer of their choice.\n",
    "1. Display the year it will be after that many years from the original input year, with an appropriate feedback message.\n",
    "\n",
    "For example, if the user inputs 2020 and 42, the result should be 2062."
   ]
  },
  {
   "cell_type": "code",
   "execution_count": 18,
   "metadata": {},
   "outputs": [
    {
     "name": "stdout",
     "output_type": "stream",
     "text": [
      "Enter a year1998\n",
      "Enter a number23\n",
      "2021\n"
     ]
    }
   ],
   "source": [
    "year = input(\"Enter a year\")\n",
    "num1 =input(\"Enter a number\")\n",
    "year = int(year)\n",
    "num1 = int(num1)\n",
    "print(year + num1)\n",
    "#complete"
   ]
  },
  {
   "cell_type": "code",
   "execution_count": 22,
   "metadata": {},
   "outputs": [
    {
     "name": "stdout",
     "output_type": "stream",
     "text": [
      "Enter a year2023\n",
      "Enter a number7\n",
      "2030\n"
     ]
    }
   ],
   "source": [
    "year = int(input(\"Enter a year\"))\n",
    "num1 = int(input(\"Enter a number\"))\n",
    "print(year + num1)\n",
    "#complete"
   ]
  },
  {
   "cell_type": "markdown",
   "metadata": {},
   "source": [
    "## Practice 7b\n",
    "Create a script that calculates the sales tax on a purchase and displays the total purchase price.\n",
    "1. Prompt the user for a pre-tax total.\n",
    "1. Prompt the user for the local sales tax.\n",
    "1. Multiply the pre-tax total by the local sales tax and add the result to the pre-tax total.\n",
    "1. Display the total price to the user with an appropriate feedback message.\n",
    "\n",
    "**Tip**: Think about whether `int()` or `float()` would be better here. Why?"
   ]
  },
  {
   "cell_type": "code",
   "execution_count": 26,
   "metadata": {},
   "outputs": [
    {
     "name": "stdout",
     "output_type": "stream",
     "text": [
      "what is pre-tax total? 21000\n",
      "what is your tax rate? 0.02\n",
      "your total is 420.0\n"
     ]
    }
   ],
   "source": [
    "pre_tax = float(input(\"what is pre-tax total? \"))\n",
    "tax_rate = float(input(\"what is your tax rate? \"))\n",
    "\n",
    "total = pre_tax * tax_rate\n",
    "\n",
    "print (\"your total is\", total )\n",
    "#complete"
   ]
  },
  {
   "cell_type": "code",
   "execution_count": null,
   "metadata": {},
   "outputs": [],
   "source": []
  }
 ],
 "metadata": {
  "kernelspec": {
   "display_name": "Python 3 (ipykernel)",
   "language": "python",
   "name": "python3"
  },
  "language_info": {
   "codemirror_mode": {
    "name": "ipython",
    "version": 3
   },
   "file_extension": ".py",
   "mimetype": "text/x-python",
   "name": "python",
   "nbconvert_exporter": "python",
   "pygments_lexer": "ipython3",
   "version": "3.9.13"
  }
 },
 "nbformat": 4,
 "nbformat_minor": 2
}
